{
 "cells": [
  {
   "cell_type": "code",
   "execution_count": 6,
   "metadata": {},
   "outputs": [],
   "source": [
    "import numpy as np\n",
    "\n",
    "import PIL.Image as Image\n",
    "import torch\n",
    "import torchvision\n",
    "from IPython.display import display\n",
    "\n",
    "np.random.seed(42)"
   ]
  },
  {
   "cell_type": "code",
   "execution_count": 8,
   "metadata": {},
   "outputs": [],
   "source": [
    "train_Images_folder = '/Users/abdulrehman/Desktop/SML/WIDER_train/images/'\n",
    "test_Images_folder = '/Users/abdulrehman/Desktop/SML/WIDER_val/images/'\n",
    "train_bbx = '/Users/abdulrehman/Desktop/SML/wider_face_split/wider_face_train_bbx_gt.txt'\n",
    "test_bbx = '/Users/abdulrehman/Desktop/SML/wider_face_split/wider_face_val_bbx_gt.txt'\n",
    "data_folder = '/Users/abdulrehman/Desktop/SML/Faces'"
   ]
  },
  {
   "cell_type": "code",
   "execution_count": 9,
   "metadata": {},
   "outputs": [],
   "source": [
    "file1 = open(train_bbx, 'r')\n",
    "train_data = {}\n",
    "\n",
    "while True:\n",
    "    # To remove the \\n last character we remove the last character from the line\n",
    "    line = file1.readline()[:-1]\n",
    "    if not line: break\n",
    "    faces = []\n",
    "    n = int(file1.readline())\n",
    "    if n > 0:\n",
    "        while n > 0:\n",
    "            v = np.fromstring(file1.readline(), dtype=int, sep=' ')[:4]\n",
    "            faces.append(v)\n",
    "            n-=1\n",
    "        train_data[line] = np.array(faces)\n",
    "    else: line = file1.readline()"
   ]
  },
  {
   "cell_type": "code",
   "execution_count": 48,
   "metadata": {},
   "outputs": [],
   "source": [
    "from shutil import copyfile\n",
    "\n",
    "def create_dataset(data,dataset_type):\n",
    "    if dataset_type == 'train':\n",
    "        Images_folder = train_Images_folder\n",
    "    else:\n",
    "        Images_folder = test_Images_folder\n",
    "    name = 1\n",
    "    for path in data:\n",
    "        copyfile(Images_folder+path, data_folder+'/Images/'+dataset_type+'/'+str(name)+'.jpg')\n",
    "        with open(data_folder+'/labels/'+dataset_type+'/'+str(name)+'.txt','w') as out_file:\n",
    "            for bbx in data[path]:\n",
    "                x,y,w,h = [int(i) for i in bbx]\n",
    "                out_file.write('1 '+str(x+w/2)+' '+str(y+h/2)+' '+str(w)+' '+str(h)+'\\n')\n",
    "        name+=1"
   ]
  },
  {
   "cell_type": "code",
   "execution_count": 49,
   "metadata": {},
   "outputs": [],
   "source": [
    "create_dataset(train_data,'train')"
   ]
  },
  {
   "cell_type": "code",
   "execution_count": null,
   "metadata": {},
   "outputs": [],
   "source": []
  }
 ],
 "metadata": {
  "kernelspec": {
   "display_name": "Python 3",
   "language": "python",
   "name": "python3"
  },
  "language_info": {
   "codemirror_mode": {
    "name": "ipython",
    "version": 3
   },
   "file_extension": ".py",
   "mimetype": "text/x-python",
   "name": "python",
   "nbconvert_exporter": "python",
   "pygments_lexer": "ipython3",
   "version": "3.7.4"
  }
 },
 "nbformat": 4,
 "nbformat_minor": 2
}
