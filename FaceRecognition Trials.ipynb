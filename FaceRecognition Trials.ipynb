{
 "cells": [
  {
   "cell_type": "code",
   "execution_count": 10,
   "metadata": {},
   "outputs": [],
   "source": [
    "import cv2\n",
    "import matplotlib.pyplot as plt\n",
    "import pandas as pd\n",
    "import numpy as np\n",
    "\n",
    "from imutils import face_utils\n",
    "font = cv2.FONT_HERSHEY_SIMPLEX"
   ]
  },
  {
   "cell_type": "code",
   "execution_count": 2,
   "metadata": {},
   "outputs": [],
   "source": [
    "import os\n",
    "\n",
    "def get_files(path):\n",
    "    return os.listdir(path)\n",
    "\n",
    "cascPath = \"/Users/abdulrehman/opt/anaconda3/envs/Face-Detection/lib/python3.6/site-packages/cv2/data/haarcascade_frontalface_default.xml\"\n",
    "\n",
    "def return_bbx(image):\n",
    "    faceCascade = cv2.CascadeClassifier(cascPath)\n",
    "    faces = faceCascade.detectMultiScale(image, scaleFactor=1.1, minNeighbors=5, flags=cv2.CASCADE_SCALE_IMAGE)\n",
    "    return faces"
   ]
  },
  {
   "cell_type": "code",
   "execution_count": 3,
   "metadata": {},
   "outputs": [
    {
     "data": {
      "text/html": [
       "<div>\n",
       "<style scoped>\n",
       "    .dataframe tbody tr th:only-of-type {\n",
       "        vertical-align: middle;\n",
       "    }\n",
       "\n",
       "    .dataframe tbody tr th {\n",
       "        vertical-align: top;\n",
       "    }\n",
       "\n",
       "    .dataframe thead th {\n",
       "        text-align: right;\n",
       "    }\n",
       "</style>\n",
       "<table border=\"1\" class=\"dataframe\">\n",
       "  <thead>\n",
       "    <tr style=\"text-align: right;\">\n",
       "      <th></th>\n",
       "      <th>name</th>\n",
       "      <th>images</th>\n",
       "    </tr>\n",
       "  </thead>\n",
       "  <tbody>\n",
       "    <tr>\n",
       "      <th>373</th>\n",
       "      <td>Ariel_Sharon</td>\n",
       "      <td>77</td>\n",
       "    </tr>\n",
       "    <tr>\n",
       "      <th>1047</th>\n",
       "      <td>Colin_Powell</td>\n",
       "      <td>236</td>\n",
       "    </tr>\n",
       "    <tr>\n",
       "      <th>1404</th>\n",
       "      <td>Donald_Rumsfeld</td>\n",
       "      <td>121</td>\n",
       "    </tr>\n",
       "    <tr>\n",
       "      <th>1871</th>\n",
       "      <td>George_W_Bush</td>\n",
       "      <td>530</td>\n",
       "    </tr>\n",
       "    <tr>\n",
       "      <th>1892</th>\n",
       "      <td>Gerhard_Schroeder</td>\n",
       "      <td>109</td>\n",
       "    </tr>\n",
       "    <tr>\n",
       "      <th>2175</th>\n",
       "      <td>Hugo_Chavez</td>\n",
       "      <td>71</td>\n",
       "    </tr>\n",
       "    <tr>\n",
       "      <th>2288</th>\n",
       "      <td>Jacques_Chirac</td>\n",
       "      <td>52</td>\n",
       "    </tr>\n",
       "    <tr>\n",
       "      <th>2468</th>\n",
       "      <td>Jean_Chretien</td>\n",
       "      <td>55</td>\n",
       "    </tr>\n",
       "    <tr>\n",
       "      <th>2682</th>\n",
       "      <td>John_Ashcroft</td>\n",
       "      <td>53</td>\n",
       "    </tr>\n",
       "    <tr>\n",
       "      <th>2941</th>\n",
       "      <td>Junichiro_Koizumi</td>\n",
       "      <td>60</td>\n",
       "    </tr>\n",
       "    <tr>\n",
       "      <th>4963</th>\n",
       "      <td>Serena_Williams</td>\n",
       "      <td>52</td>\n",
       "    </tr>\n",
       "    <tr>\n",
       "      <th>5458</th>\n",
       "      <td>Tony_Blair</td>\n",
       "      <td>144</td>\n",
       "    </tr>\n",
       "  </tbody>\n",
       "</table>\n",
       "</div>"
      ],
      "text/plain": [
       "                   name  images\n",
       "373        Ariel_Sharon      77\n",
       "1047       Colin_Powell     236\n",
       "1404    Donald_Rumsfeld     121\n",
       "1871      George_W_Bush     530\n",
       "1892  Gerhard_Schroeder     109\n",
       "2175        Hugo_Chavez      71\n",
       "2288     Jacques_Chirac      52\n",
       "2468      Jean_Chretien      55\n",
       "2682      John_Ashcroft      53\n",
       "2941  Junichiro_Koizumi      60\n",
       "4963    Serena_Williams      52\n",
       "5458         Tony_Blair     144"
      ]
     },
     "execution_count": 3,
     "metadata": {},
     "output_type": "execute_result"
    }
   ],
   "source": [
    "Dataset_path = '/Users/abdulrehman/Desktop/SML Project/FacesInTheWild/'\n",
    "\n",
    "Celebs = pd.read_csv(Dataset_path+'lfw_allnames.csv')\n",
    "Celebs = Celebs[Celebs['images']>50]\n",
    "Celebs"
   ]
  },
  {
   "cell_type": "code",
   "execution_count": 4,
   "metadata": {},
   "outputs": [],
   "source": [
    "X = []\n",
    "Y = []\n",
    "\n",
    "for _, [name,__] in Celebs.iterrows():\n",
    "    celeb_path = Dataset_path+'lfw-deepfunneled/'+name+'/'\n",
    "    \n",
    "    images_paths = get_files(celeb_path)\n",
    "    for image_path in images_paths:\n",
    "        image = cv2.imread(celeb_path+image_path,1)\n",
    "        faces = return_bbx(image)\n",
    "        if len(faces) == 1:\n",
    "            (x,y,w,h) = faces[0]\n",
    "            cropped = image[x:x+w, y:y+h]\n",
    "            dim = (64, 64)\n",
    "            resized = cv2.resize(cropped, dim, interpolation = cv2.INTER_AREA)\n",
    "            image = np.array(resized).astype(\"float32\")\n",
    "            X.append(image)\n",
    "            Y.append(name)\n",
    "\n"
   ]
  },
  {
   "cell_type": "code",
   "execution_count": 70,
   "metadata": {},
   "outputs": [],
   "source": [
    "X_data = np.array(X)\n",
    "Y_data = np.array(Y)"
   ]
  },
  {
   "cell_type": "code",
   "execution_count": null,
   "metadata": {},
   "outputs": [],
   "source": []
  },
  {
   "cell_type": "code",
   "execution_count": null,
   "metadata": {},
   "outputs": [],
   "source": []
  },
  {
   "cell_type": "code",
   "execution_count": 71,
   "metadata": {},
   "outputs": [
    {
     "data": {
      "text/plain": [
       "Counter({'Ariel_Sharon': 70,\n",
       "         'Colin_Powell': 213,\n",
       "         'Donald_Rumsfeld': 109,\n",
       "         'George_W_Bush': 480,\n",
       "         'Gerhard_Schroeder': 106,\n",
       "         'Hugo_Chavez': 67,\n",
       "         'Jacques_Chirac': 51,\n",
       "         'Jean_Chretien': 51,\n",
       "         'John_Ashcroft': 47,\n",
       "         'Junichiro_Koizumi': 51,\n",
       "         'Serena_Williams': 48,\n",
       "         'Tony_Blair': 138})"
      ]
     },
     "execution_count": 71,
     "metadata": {},
     "output_type": "execute_result"
    }
   ],
   "source": [
    "from collections import Counter\n",
    "\n",
    "Counter(Y_data)"
   ]
  },
  {
   "cell_type": "code",
   "execution_count": 72,
   "metadata": {},
   "outputs": [
    {
     "name": "stdout",
     "output_type": "stream",
     "text": [
      "Counter({'Ariel_Sharon': 47, 'Colin_Powell': 47, 'Donald_Rumsfeld': 47, 'George_W_Bush': 47, 'Gerhard_Schroeder': 47, 'Hugo_Chavez': 47, 'Jacques_Chirac': 47, 'Jean_Chretien': 47, 'John_Ashcroft': 47, 'Junichiro_Koizumi': 47, 'Serena_Williams': 47, 'Tony_Blair': 47})\n"
     ]
    }
   ],
   "source": [
    "from imblearn.under_sampling import NearMiss\n",
    "\n",
    "X_data_reshaped = X_data.reshape(X_data.shape[0], X_data.shape[1] * X_data.shape[2] * X_data.shape[3])\n",
    "undersample = NearMiss(version=1)\n",
    "X_resampled, Y_resampled = undersample.fit_resample(X_data_reshaped,Y_data)\n",
    "# X_data = X_resampled.reshape(X_resampled.shape[0], X_data.shape[1], X_data.shape[2], X_data.shape[3])\n",
    "Y_data = Y_resampled\n",
    "counter = Counter(Y_data)\n",
    "print(counter)\n",
    "\n",
    "del X_data_reshaped\n",
    "del undersample\n",
    "# del X_resampled\n",
    "del Y_resampled\n",
    "del counter"
   ]
  },
  {
   "cell_type": "code",
   "execution_count": 73,
   "metadata": {},
   "outputs": [
    {
     "data": {
      "text/plain": [
       "12"
      ]
     },
     "execution_count": 73,
     "metadata": {},
     "output_type": "execute_result"
    }
   ],
   "source": [
    "a = Y_data\n",
    "n_classes = len(set(a))\n",
    "n_classes"
   ]
  },
  {
   "cell_type": "code",
   "execution_count": 74,
   "metadata": {},
   "outputs": [],
   "source": [
    "from sklearn.preprocessing import OneHotEncoder\n",
    "\n",
    "enc = OneHotEncoder(sparse=False)\n",
    "\n",
    "Y_data = enc.fit_transform(Y_data.reshape(-1,1))"
   ]
  },
  {
   "cell_type": "code",
   "execution_count": 75,
   "metadata": {},
   "outputs": [],
   "source": [
    "from sklearn.preprocessing import MinMaxScaler, LabelEncoder\n",
    "\n",
    "scaler = MinMaxScaler(feature_range=(0, 1))\n",
    "X_resampled = scaler.fit_transform(X_resampled)\n",
    "X_data = X_resampled.reshape(X_resampled.shape[0], X_data.shape[1],\n",
    "                             X_data.shape[2], X_data.shape[3])\n"
   ]
  },
  {
   "cell_type": "code",
   "execution_count": 76,
   "metadata": {},
   "outputs": [],
   "source": [
    "from sklearn.metrics import confusion_matrix\n",
    "from sklearn.model_selection import train_test_split\n",
    "\n",
    "X_train, X_test, y_train, y_test = train_test_split(X_data, Y_data, train_size=0.9, random_state = 0)\n"
   ]
  },
  {
   "cell_type": "code",
   "execution_count": 129,
   "metadata": {},
   "outputs": [
    {
     "name": "stdout",
     "output_type": "stream",
     "text": [
      "Model: \"functional_57\"\n",
      "_________________________________________________________________\n",
      "Layer (type)                 Output Shape              Param #   \n",
      "=================================================================\n",
      "input_67 (InputLayer)        [(None, 64, 64, 3)]       0         \n",
      "_________________________________________________________________\n",
      "block1_conv1 (Conv2D)        (None, 64, 64, 64)        1792      \n",
      "_________________________________________________________________\n",
      "block1_conv2 (Conv2D)        (None, 64, 64, 64)        36928     \n",
      "_________________________________________________________________\n",
      "block1_pool (MaxPooling2D)   (None, 32, 32, 64)        0         \n",
      "_________________________________________________________________\n",
      "block2_conv1 (Conv2D)        (None, 32, 32, 128)       73856     \n",
      "_________________________________________________________________\n",
      "block2_conv2 (Conv2D)        (None, 32, 32, 128)       147584    \n",
      "_________________________________________________________________\n",
      "block2_pool (MaxPooling2D)   (None, 16, 16, 128)       0         \n",
      "_________________________________________________________________\n",
      "block3_conv1 (Conv2D)        (None, 16, 16, 256)       295168    \n",
      "_________________________________________________________________\n",
      "block3_conv2 (Conv2D)        (None, 16, 16, 256)       590080    \n",
      "_________________________________________________________________\n",
      "block3_conv3 (Conv2D)        (None, 16, 16, 256)       590080    \n",
      "_________________________________________________________________\n",
      "block3_pool (MaxPooling2D)   (None, 8, 8, 256)         0         \n",
      "_________________________________________________________________\n",
      "block4_conv1 (Conv2D)        (None, 8, 8, 512)         1180160   \n",
      "_________________________________________________________________\n",
      "block4_conv2 (Conv2D)        (None, 8, 8, 512)         2359808   \n",
      "_________________________________________________________________\n",
      "flatten_41 (Flatten)         (None, 32768)             0         \n",
      "_________________________________________________________________\n",
      "dropout_78 (Dropout)         (None, 32768)             0         \n",
      "_________________________________________________________________\n",
      "dense_121 (Dense)            (None, 900)               29492100  \n",
      "_________________________________________________________________\n",
      "batch_normalization_42 (Batc (None, 900)               3600      \n",
      "_________________________________________________________________\n",
      "activation_34 (Activation)   (None, 900)               0         \n",
      "_________________________________________________________________\n",
      "dense_122 (Dense)            (None, 12)                10812     \n",
      "=================================================================\n",
      "Total params: 34,781,968\n",
      "Trainable params: 29,504,712\n",
      "Non-trainable params: 5,277,256\n",
      "_________________________________________________________________\n"
     ]
    }
   ],
   "source": [
    "from keras.applications import VGG16\n",
    "from keras.layers import Dense, Dropout, Activation, Flatten, BatchNormalization\n",
    "from keras.models import Model, Sequential\n",
    "from keras.optimizers import Adam\n",
    "from keras.regularizers import l2\n",
    "# from keras.layers.advanced_activations import LeakyReLU\n",
    "\n",
    "num_classes = 12\n",
    "\n",
    "vgg = VGG16(weights = 'imagenet',include_top = False, input_shape = (64,64,3))\n",
    "\n",
    "for layer in vgg.layers:\n",
    "    layer.trainable = False\n",
    "\n",
    "out = [layer.output for layer in vgg.layers][-7]\n",
    "\n",
    "hidden_layer = out\n",
    "hidden_layer = Flatten()(hidden_layer)\n",
    "hidden_layer = Dropout(0.5)(hidden_layer)\n",
    "hidden_layer = Dense(900, kernel_regularizer=l2(1e-2))(hidden_layer)\n",
    "hidden_layer = BatchNormalization()(hidden_layer)\n",
    "hidden_layer = Activation('relu')(hidden_layer)\n",
    "# hidden_layer = Dropout(0.5)(hidden_layer)\n",
    "# hidden_layer = Dense(512, kernel_regularizer=l2(1e-3))(hidden_layer)\n",
    "# hidden_layer = BatchNormalization()(hidden_layer)\n",
    "# hidden_layer = Dropout(0.5)(hidden_layer)\n",
    "# hidden_layer = Dense(128, kernel_regularizer=l2(1e-3))(hidden_layer)\n",
    "# hidden_layer = BatchNormalization()(hidden_layer)\n",
    "# hidden_layer = Activation('relu')(hidden_layer)\n",
    "out = Dense(n_classes, activation='softmax')(hidden_layer)\n",
    "\n",
    "model = Model(inputs = vgg.input, outputs = out)\n",
    "\n",
    "model.summary()"
   ]
  },
  {
   "cell_type": "code",
   "execution_count": 130,
   "metadata": {},
   "outputs": [
    {
     "name": "stdout",
     "output_type": "stream",
     "text": [
      "Epoch 1/25\n",
      "32/32 [==============================] - ETA: 0s - loss: 17.5368 - accuracy: 0.5483\n",
      "Epoch 00001: val_accuracy improved from -inf to 0.68421, saving model to face_recog_vgg.h5\n",
      "32/32 [==============================] - 14s 431ms/step - loss: 17.5368 - accuracy: 0.5483 - val_loss: 15.9688 - val_accuracy: 0.6842\n",
      "Epoch 2/25\n",
      "32/32 [==============================] - ETA: 0s - loss: 14.2681 - accuracy: 0.9645\n",
      "Epoch 00002: val_accuracy improved from 0.68421 to 0.80702, saving model to face_recog_vgg.h5\n",
      "32/32 [==============================] - 12s 378ms/step - loss: 14.2681 - accuracy: 0.9645 - val_loss: 13.6342 - val_accuracy: 0.8070\n",
      "Epoch 3/25\n",
      "32/32 [==============================] - ETA: 0s - loss: 12.5494 - accuracy: 0.9862\n",
      "Epoch 00003: val_accuracy improved from 0.80702 to 0.92982, saving model to face_recog_vgg.h5\n",
      "32/32 [==============================] - 12s 371ms/step - loss: 12.5494 - accuracy: 0.9862 - val_loss: 11.9869 - val_accuracy: 0.9298\n",
      "Epoch 4/25\n",
      "32/32 [==============================] - ETA: 0s - loss: 11.2033 - accuracy: 0.9980\n",
      "Epoch 00004: val_accuracy improved from 0.92982 to 0.96491, saving model to face_recog_vgg.h5\n",
      "32/32 [==============================] - 12s 369ms/step - loss: 11.2033 - accuracy: 0.9980 - val_loss: 10.7347 - val_accuracy: 0.9649\n",
      "Epoch 5/25\n",
      "32/32 [==============================] - ETA: 0s - loss: 10.0674 - accuracy: 1.0000\n",
      "Epoch 00005: val_accuracy did not improve from 0.96491\n",
      "32/32 [==============================] - 11s 331ms/step - loss: 10.0674 - accuracy: 1.0000 - val_loss: 9.6864 - val_accuracy: 0.9649\n",
      "Epoch 6/25\n",
      "32/32 [==============================] - ETA: 0s - loss: 9.0972 - accuracy: 0.9961\n",
      "Epoch 00006: val_accuracy did not improve from 0.96491\n",
      "32/32 [==============================] - 11s 354ms/step - loss: 9.0972 - accuracy: 0.9961 - val_loss: 8.7824 - val_accuracy: 0.9649\n",
      "Epoch 7/25\n",
      "32/32 [==============================] - ETA: 0s - loss: 8.2224 - accuracy: 1.0000\n",
      "Epoch 00007: val_accuracy did not improve from 0.96491\n",
      "32/32 [==============================] - 11s 357ms/step - loss: 8.2224 - accuracy: 1.0000 - val_loss: 7.9968 - val_accuracy: 0.9649\n",
      "Epoch 8/25\n",
      "32/32 [==============================] - ETA: 0s - loss: 7.4427 - accuracy: 1.0000\n",
      "Epoch 00008: val_accuracy did not improve from 0.96491\n",
      "32/32 [==============================] - 12s 369ms/step - loss: 7.4427 - accuracy: 1.0000 - val_loss: 7.2512 - val_accuracy: 0.9649\n",
      "Epoch 9/25\n",
      "32/32 [==============================] - ETA: 0s - loss: 6.7395 - accuracy: 1.0000\n",
      "Epoch 00009: val_accuracy did not improve from 0.96491\n",
      "32/32 [==============================] - 12s 365ms/step - loss: 6.7395 - accuracy: 1.0000 - val_loss: 6.5675 - val_accuracy: 0.9649\n",
      "Epoch 10/25\n",
      "32/32 [==============================] - ETA: 0s - loss: 6.1037 - accuracy: 1.0000\n",
      "Epoch 00010: val_accuracy improved from 0.96491 to 0.98246, saving model to face_recog_vgg.h5\n",
      "32/32 [==============================] - 12s 376ms/step - loss: 6.1037 - accuracy: 1.0000 - val_loss: 5.9650 - val_accuracy: 0.9825\n",
      "Epoch 11/25\n",
      "32/32 [==============================] - ETA: 0s - loss: 5.5267 - accuracy: 0.9980\n",
      "Epoch 00011: val_accuracy did not improve from 0.98246\n",
      "32/32 [==============================] - 12s 378ms/step - loss: 5.5267 - accuracy: 0.9980 - val_loss: 5.4469 - val_accuracy: 0.9474\n",
      "Epoch 12/25\n",
      "32/32 [==============================] - ETA: 0s - loss: 5.0127 - accuracy: 0.9980\n",
      "Epoch 00012: val_accuracy did not improve from 0.98246\n",
      "32/32 [==============================] - 12s 367ms/step - loss: 5.0127 - accuracy: 0.9980 - val_loss: 4.9264 - val_accuracy: 0.9649\n",
      "Epoch 13/25\n",
      "32/32 [==============================] - ETA: 0s - loss: 4.5420 - accuracy: 1.0000\n",
      "Epoch 00013: val_accuracy did not improve from 0.98246\n",
      "32/32 [==============================] - 12s 383ms/step - loss: 4.5420 - accuracy: 1.0000 - val_loss: 4.4785 - val_accuracy: 0.9474\n",
      "Epoch 14/25\n",
      "32/32 [==============================] - ETA: 0s - loss: 4.1174 - accuracy: 1.0000\n",
      "Epoch 00014: val_accuracy did not improve from 0.98246\n",
      "32/32 [==============================] - 12s 369ms/step - loss: 4.1174 - accuracy: 1.0000 - val_loss: 4.0862 - val_accuracy: 0.9649\n",
      "Epoch 15/25\n",
      "32/32 [==============================] - ETA: 0s - loss: 3.7308 - accuracy: 1.0000\n",
      "Epoch 00015: val_accuracy did not improve from 0.98246\n",
      "32/32 [==============================] - 12s 374ms/step - loss: 3.7308 - accuracy: 1.0000 - val_loss: 3.7462 - val_accuracy: 0.9474\n",
      "Epoch 16/25\n",
      "32/32 [==============================] - ETA: 0s - loss: 3.3820 - accuracy: 1.0000\n",
      "Epoch 00016: val_accuracy did not improve from 0.98246\n",
      "32/32 [==============================] - 12s 377ms/step - loss: 3.3820 - accuracy: 1.0000 - val_loss: 3.4079 - val_accuracy: 0.9649\n",
      "Epoch 17/25\n",
      "32/32 [==============================] - ETA: 0s - loss: 3.0650 - accuracy: 1.0000\n",
      "Epoch 00017: val_accuracy did not improve from 0.98246\n",
      "32/32 [==============================] - 12s 374ms/step - loss: 3.0650 - accuracy: 1.0000 - val_loss: 3.0854 - val_accuracy: 0.9649\n",
      "Epoch 18/25\n",
      "32/32 [==============================] - ETA: 0s - loss: 2.7796 - accuracy: 1.0000\n",
      "Epoch 00018: val_accuracy did not improve from 0.98246\n",
      "32/32 [==============================] - 12s 383ms/step - loss: 2.7796 - accuracy: 1.0000 - val_loss: 2.8262 - val_accuracy: 0.9649\n",
      "Epoch 19/25\n",
      "32/32 [==============================] - ETA: 0s - loss: 2.5185 - accuracy: 1.0000\n",
      "Epoch 00019: val_accuracy did not improve from 0.98246\n",
      "32/32 [==============================] - 13s 394ms/step - loss: 2.5185 - accuracy: 1.0000 - val_loss: 2.5845 - val_accuracy: 0.9649\n",
      "Epoch 20/25\n",
      "32/32 [==============================] - ETA: 0s - loss: 2.2836 - accuracy: 1.0000\n",
      "Epoch 00020: val_accuracy did not improve from 0.98246\n",
      "32/32 [==============================] - 12s 386ms/step - loss: 2.2836 - accuracy: 1.0000 - val_loss: 2.4315 - val_accuracy: 0.9298\n",
      "Epoch 21/25\n",
      "32/32 [==============================] - ETA: 0s - loss: 2.0808 - accuracy: 0.9980\n",
      "Epoch 00021: val_accuracy did not improve from 0.98246\n",
      "32/32 [==============================] - 12s 360ms/step - loss: 2.0808 - accuracy: 0.9980 - val_loss: 2.2253 - val_accuracy: 0.9298\n",
      "Epoch 22/25\n",
      "32/32 [==============================] - ETA: 0s - loss: 1.8911 - accuracy: 1.0000\n",
      "Epoch 00022: val_accuracy did not improve from 0.98246\n",
      "32/32 [==============================] - 13s 407ms/step - loss: 1.8911 - accuracy: 1.0000 - val_loss: 2.0348 - val_accuracy: 0.9298\n",
      "Epoch 23/25\n",
      "32/32 [==============================] - ETA: 0s - loss: 1.7159 - accuracy: 1.0000\n",
      "Epoch 00023: val_accuracy did not improve from 0.98246\n",
      "32/32 [==============================] - 12s 383ms/step - loss: 1.7159 - accuracy: 1.0000 - val_loss: 1.8604 - val_accuracy: 0.9474\n",
      "Epoch 24/25\n",
      "32/32 [==============================] - ETA: 0s - loss: 1.5564 - accuracy: 1.0000\n",
      "Epoch 00024: val_accuracy did not improve from 0.98246\n",
      "32/32 [==============================] - 11s 354ms/step - loss: 1.5564 - accuracy: 1.0000 - val_loss: 1.7107 - val_accuracy: 0.9474\n",
      "Epoch 25/25\n",
      "32/32 [==============================] - ETA: 0s - loss: 1.4156 - accuracy: 0.9961\n",
      "Epoch 00025: val_accuracy did not improve from 0.98246\n",
      "32/32 [==============================] - 12s 390ms/step - loss: 1.4156 - accuracy: 0.9961 - val_loss: 1.6323 - val_accuracy: 0.9298\n"
     ]
    }
   ],
   "source": [
    "from tensorflow.python.keras.callbacks import ModelCheckpoint\n",
    "\n",
    "model.compile(loss=\"categorical_crossentropy\", \n",
    "              optimizer=Adam(0.0001),\n",
    "              metrics=['accuracy'])\n",
    "\n",
    "epochs=25\n",
    "batch_size=16\n",
    "\n",
    "checkpoint = ModelCheckpoint(\"face_recog_vgg.h5\", monitor=\"val_accuracy\", mode = \"max\",\n",
    "                             save_best_only = True, verbose = 1)\n",
    "\n",
    "callbacks = [checkpoint]\n",
    "\n",
    "history = model.fit(X_train, y_train, validation_data = (X_test, y_test),\n",
    "                    verbose = 1, epochs = epochs, batch_size = batch_size,\n",
    "                   callbacks = callbacks)"
   ]
  },
  {
   "cell_type": "code",
   "execution_count": 131,
   "metadata": {},
   "outputs": [
    {
     "data": {
      "image/png": "[encoded data removed]",
      "text/plain": [
       "<Figure size 432x288 with 1 Axes>"
      ]
     },
     "metadata": {
      "needs_background": "light"
     },
     "output_type": "display_data"
    },
    {
     "data": {
      "image/png": "[encoded data removed]",
      "text/plain": [
       "<Figure size 432x288 with 1 Axes>"
      ]
     },
     "metadata": {
      "needs_background": "light"
     },
     "output_type": "display_data"
    }
   ],
   "source": [
    "# summarize history for accuracy\n",
    "plt.plot(history.history['accuracy'])\n",
    "plt.plot(history.history['val_accuracy'])\n",
    "plt.title('model accuracy')\n",
    "plt.ylabel('accuracy')\n",
    "plt.xlabel('epoch')\n",
    "plt.legend(['train', 'test'], loc='upper left')\n",
    "plt.show()\n",
    "\n",
    "# summarize history for loss\n",
    "plt.plot(history.history['loss'])\n",
    "plt.plot(history.history['val_loss'])\n",
    "plt.title('model loss')\n",
    "plt.ylabel('loss')\n",
    "plt.xlabel('epoch')\n",
    "plt.legend(['train', 'test'], loc='upper left')\n",
    "plt.show()"
   ]
  },
  {
   "cell_type": "code",
   "execution_count": 134,
   "metadata": {},
   "outputs": [
    {
     "name": "stdout",
     "output_type": "stream",
     "text": [
      "Evaluate on test data\n",
      "4/4 [==============================] - 0s 110ms/step - loss: 5.9650 - accuracy: 0.9825\n",
      " test acc:  0.9824561476707458  test loss:  5.964965343475342\n"
     ]
    }
   ],
   "source": [
    "from keras.models import load_model\n",
    "\n",
    "classifier = load_model('face_recog_vgg.h5')\n",
    "\n",
    "print(\"Evaluate on test data\")\n",
    "results = classifier.evaluate(X_test, y_test, batch_size=batch_size)\n",
    "print(\" test acc: \",results[1], \" test loss: \", results[0])"
   ]
  },
  {
   "cell_type": "code",
   "execution_count": null,
   "metadata": {},
   "outputs": [],
   "source": []
  }
 ],
 "metadata": {
  "kernelspec": {
   "display_name": "Python [conda env:Face-Detection] *",
   "language": "python",
   "name": "conda-env-Face-Detection-py"
  },
  "language_info": {
   "codemirror_mode": {
    "name": "ipython",
    "version": 3
   },
   "file_extension": ".py",
   "mimetype": "text/x-python",
   "name": "python",
   "nbconvert_exporter": "python",
   "pygments_lexer": "ipython3",
   "version": "3.6.12"
  }
 },
 "nbformat": 4,
 "nbformat_minor": 4
}
