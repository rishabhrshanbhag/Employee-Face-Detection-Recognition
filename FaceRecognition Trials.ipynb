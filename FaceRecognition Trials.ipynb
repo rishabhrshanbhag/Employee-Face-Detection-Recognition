{
 "cells": [
  {
   "cell_type": "code",
   "execution_count": 36,
   "metadata": {},
   "outputs": [],
   "source": [
    "import cv2\n",
    "import matplotlib.pyplot as plt\n",
    "import pandas as pd\n",
    "import numpy as np\n",
    "\n",
    "from imutils import face_utils\n",
    "font = cv2.FONT_HERSHEY_SIMPLEX"
   ]
  },
  {
   "cell_type": "code",
   "execution_count": 37,
   "metadata": {},
   "outputs": [],
   "source": [
    "import os\n",
    "\n",
    "def get_files(path):\n",
    "    return os.listdir(path)\n",
    "\n",
    "cascPath = \"/Users/telekenesis/Husky Gdrive/Coursework/7. SML_EE/Project/image/haarcascade_frontalface_default.xml\"\n",
    "\n",
    "def return_bbx(image):\n",
    "    faceCascade = cv2.CascadeClassifier(cascPath)\n",
    "    faces = faceCascade.detectMultiScale(image, scaleFactor=1.1, minNeighbors=5, flags=cv2.CASCADE_SCALE_IMAGE)\n",
    "    return faces"
   ]
  },
  {
   "cell_type": "code",
   "execution_count": 38,
   "metadata": {},
   "outputs": [
    {
     "data": {
      "text/html": [
       "<div>\n",
       "<style scoped>\n",
       "    .dataframe tbody tr th:only-of-type {\n",
       "        vertical-align: middle;\n",
       "    }\n",
       "\n",
       "    .dataframe tbody tr th {\n",
       "        vertical-align: top;\n",
       "    }\n",
       "\n",
       "    .dataframe thead th {\n",
       "        text-align: right;\n",
       "    }\n",
       "</style>\n",
       "<table border=\"1\" class=\"dataframe\">\n",
       "  <thead>\n",
       "    <tr style=\"text-align: right;\">\n",
       "      <th></th>\n",
       "      <th>name</th>\n",
       "      <th>images</th>\n",
       "    </tr>\n",
       "  </thead>\n",
       "  <tbody>\n",
       "    <tr>\n",
       "      <th>373</th>\n",
       "      <td>Ariel_Sharon</td>\n",
       "      <td>77</td>\n",
       "    </tr>\n",
       "    <tr>\n",
       "      <th>1047</th>\n",
       "      <td>Colin_Powell</td>\n",
       "      <td>236</td>\n",
       "    </tr>\n",
       "    <tr>\n",
       "      <th>1404</th>\n",
       "      <td>Donald_Rumsfeld</td>\n",
       "      <td>121</td>\n",
       "    </tr>\n",
       "    <tr>\n",
       "      <th>1871</th>\n",
       "      <td>George_W_Bush</td>\n",
       "      <td>530</td>\n",
       "    </tr>\n",
       "    <tr>\n",
       "      <th>1892</th>\n",
       "      <td>Gerhard_Schroeder</td>\n",
       "      <td>109</td>\n",
       "    </tr>\n",
       "    <tr>\n",
       "      <th>2175</th>\n",
       "      <td>Hugo_Chavez</td>\n",
       "      <td>71</td>\n",
       "    </tr>\n",
       "    <tr>\n",
       "      <th>2288</th>\n",
       "      <td>Jacques_Chirac</td>\n",
       "      <td>52</td>\n",
       "    </tr>\n",
       "    <tr>\n",
       "      <th>2468</th>\n",
       "      <td>Jean_Chretien</td>\n",
       "      <td>55</td>\n",
       "    </tr>\n",
       "    <tr>\n",
       "      <th>2682</th>\n",
       "      <td>John_Ashcroft</td>\n",
       "      <td>53</td>\n",
       "    </tr>\n",
       "    <tr>\n",
       "      <th>2941</th>\n",
       "      <td>Junichiro_Koizumi</td>\n",
       "      <td>60</td>\n",
       "    </tr>\n",
       "    <tr>\n",
       "      <th>4963</th>\n",
       "      <td>Serena_Williams</td>\n",
       "      <td>52</td>\n",
       "    </tr>\n",
       "    <tr>\n",
       "      <th>5458</th>\n",
       "      <td>Tony_Blair</td>\n",
       "      <td>144</td>\n",
       "    </tr>\n",
       "  </tbody>\n",
       "</table>\n",
       "</div>"
      ],
      "text/plain": [
       "                   name  images\n",
       "373        Ariel_Sharon      77\n",
       "1047       Colin_Powell     236\n",
       "1404    Donald_Rumsfeld     121\n",
       "1871      George_W_Bush     530\n",
       "1892  Gerhard_Schroeder     109\n",
       "2175        Hugo_Chavez      71\n",
       "2288     Jacques_Chirac      52\n",
       "2468      Jean_Chretien      55\n",
       "2682      John_Ashcroft      53\n",
       "2941  Junichiro_Koizumi      60\n",
       "4963    Serena_Williams      52\n",
       "5458         Tony_Blair     144"
      ]
     },
     "execution_count": 38,
     "metadata": {},
     "output_type": "execute_result"
    }
   ],
   "source": [
    "Dataset_path = '/Users/telekenesis/Husky Gdrive/Coursework/7. SML_EE/Project/Data/'\n",
    "\n",
    "Celebs = pd.read_csv('/Users/telekenesis/Husky Gdrive/Coursework/7. SML_EE/Project/lfw_allnames.csv')\n",
    "Celebs = Celebs[Celebs['images']>50]\n",
    "Celebs"
   ]
  },
  {
   "cell_type": "code",
   "execution_count": 39,
   "metadata": {},
   "outputs": [],
   "source": [
    "X = []\n",
    "Y = []\n",
    "\n",
    "for _, [name,__] in Celebs.iterrows():\n",
    "    celeb_path = Dataset_path+name+'/'\n",
    "    \n",
    "    images_paths = get_files(celeb_path)\n",
    "    for image_path in images_paths:\n",
    "        image = cv2.imread(celeb_path+image_path,1)\n",
    "        faces = return_bbx(image)\n",
    "        if len(faces) == 1:\n",
    "            (x,y,w,h) = faces[0]\n",
    "            cropped = image[x:x+w, y:y+h]\n",
    "            dim = (64, 64)\n",
    "            resized = cv2.resize(cropped, dim, interpolation = cv2.INTER_AREA)\n",
    "            image = np.array(resized).astype(\"float32\")\n",
    "            X.append(image)\n",
    "            Y.append(name)\n",
    "\n"
   ]
  },
  {
   "cell_type": "code",
   "execution_count": 40,
   "metadata": {},
   "outputs": [],
   "source": [
    "X_data = np.array(X)\n",
    "Y_data = np.array(Y)"
   ]
  },
  {
   "cell_type": "code",
   "execution_count": null,
   "metadata": {},
   "outputs": [],
   "source": []
  },
  {
   "cell_type": "code",
   "execution_count": 41,
   "metadata": {},
   "outputs": [],
   "source": [
    "from collections import Counter\n"
   ]
  },
  {
   "cell_type": "code",
   "execution_count": 42,
   "metadata": {},
   "outputs": [
    {
     "data": {
      "text/plain": [
       "Counter({'Ariel_Sharon': 70,\n",
       "         'Colin_Powell': 214,\n",
       "         'Donald_Rumsfeld': 109,\n",
       "         'George_W_Bush': 480,\n",
       "         'Gerhard_Schroeder': 106,\n",
       "         'Hugo_Chavez': 67,\n",
       "         'Jacques_Chirac': 51,\n",
       "         'Jean_Chretien': 51,\n",
       "         'John_Ashcroft': 47,\n",
       "         'Junichiro_Koizumi': 51,\n",
       "         'Serena_Williams': 48,\n",
       "         'Tony_Blair': 138})"
      ]
     },
     "execution_count": 42,
     "metadata": {},
     "output_type": "execute_result"
    }
   ],
   "source": [
    "Counter(Y_data)"
   ]
  },
  {
   "cell_type": "code",
   "execution_count": 43,
   "metadata": {},
   "outputs": [
    {
     "name": "stdout",
     "output_type": "stream",
     "text": [
      "Counter({'Ariel_Sharon': 47, 'Colin_Powell': 47, 'Donald_Rumsfeld': 47, 'George_W_Bush': 47, 'Gerhard_Schroeder': 47, 'Hugo_Chavez': 47, 'Jacques_Chirac': 47, 'Jean_Chretien': 47, 'John_Ashcroft': 47, 'Junichiro_Koizumi': 47, 'Serena_Williams': 47, 'Tony_Blair': 47})\n"
     ]
    }
   ],
   "source": [
    "from imblearn.under_sampling import NearMiss\n",
    "\n",
    "X_data_reshaped = X_data.reshape(X_data.shape[0], X_data.shape[1] * X_data.shape[2] * X_data.shape[3])\n",
    "undersample = NearMiss(version=1)\n",
    "X_resampled, Y_resampled = undersample.fit_resample(X_data_reshaped,Y_data)\n",
    "# X_data = X_resampled.reshape(X_resampled.shape[0], X_data.shape[1], X_data.shape[2], X_data.shape[3])\n",
    "Y_data = Y_resampled\n",
    "counter = Counter(Y_data)\n",
    "print(counter)\n",
    "\n",
    "del X_data_reshaped\n",
    "del undersample\n",
    "# del X_resampled\n",
    "del Y_resampled\n",
    "del counter"
   ]
  },
  {
   "cell_type": "code",
   "execution_count": 44,
   "metadata": {},
   "outputs": [
    {
     "data": {
      "text/plain": [
       "12"
      ]
     },
     "execution_count": 44,
     "metadata": {},
     "output_type": "execute_result"
    }
   ],
   "source": [
    "a = Y_data\n",
    "n_classes = len(set(a))\n",
    "n_classes"
   ]
  },
  {
   "cell_type": "code",
   "execution_count": 131,
   "metadata": {},
   "outputs": [],
   "source": [
    "from sklearn.preprocessing import MinMaxScaler, LabelEncoder\n",
    "from sklearn.preprocessing import OneHotEncoder\n",
    "\n",
    "scaler = MinMaxScaler(feature_range=(0, 1))\n",
    "X_resampled = scaler.fit_transform(X_resampled)\n",
    "X_data = X_resampled.reshape(X_resampled.shape[0], X_data.shape[1],\n",
    "                             X_data.shape[2], X_data.shape[3])\n"
   ]
  },
  {
   "cell_type": "code",
   "execution_count": 132,
   "metadata": {},
   "outputs": [],
   "source": [
    "from sklearn.metrics import confusion_matrix\n",
    "from sklearn.model_selection import train_test_split\n",
    "from sklearn import svm\n",
    "\n",
    "X_train, X_test, y_train, y_test = train_test_split(X_data, Y_data, train_size=0.9, random_state = 0)\n"
   ]
  },
  {
   "cell_type": "code",
   "execution_count": 133,
   "metadata": {},
   "outputs": [],
   "source": [
    "from tensorflow.python.keras.applications import VGG16\n",
    "rows = dim[0]\n",
    "cols = dim[1]\n",
    "\n",
    "num_classes = n_classes"
   ]
  },
  {
   "cell_type": "code",
   "execution_count": 134,
   "metadata": {},
   "outputs": [
    {
     "name": "stdout",
     "output_type": "stream",
     "text": [
      "0 Conv2D True\n",
      "1 LeakyReLU True\n",
      "2 MaxPooling2D True\n",
      "3 Conv2D True\n",
      "4 LeakyReLU True\n",
      "5 MaxPooling2D True\n",
      "6 Conv2D True\n",
      "7 LeakyReLU True\n",
      "8 MaxPooling2D True\n",
      "9 Flatten True\n",
      "10 Dense True\n",
      "11 Dropout True\n",
      "12 Dense True\n",
      "13 Dropout True\n",
      "14 LeakyReLU True\n",
      "15 Dense True\n"
     ]
    }
   ],
   "source": [
    "for (i,layer) in enumerate(model.layers):\n",
    "    print(str(i) + \" \" + layer.__class__.__name__,layer.trainable)"
   ]
  },
  {
   "cell_type": "code",
   "execution_count": 135,
   "metadata": {},
   "outputs": [],
   "source": [
    "from tensorflow.python.keras.models import Sequential\n",
    "from tensorflow.python.keras.layers import Dense, Dropout, Activation, Flatten,GlobalAveragePooling2D\n",
    "from tensorflow.python.keras.layers import Conv2D, MaxPooling2D, ZeroPadding2D\n",
    "from tensorflow.python.keras.layers.normalization import BatchNormalization\n",
    "from tensorflow.python.keras.models import Model\n",
    "from tensorflow.python.keras.layers.advanced_activations import LeakyReLU\n",
    "from tensorflow.python.keras.regularizers import l2\n",
    "\n",
    "\n",
    "model = Sequential()\n",
    "model.add(Conv2D(64, kernel_size=(3,3), input_shape=(rows,cols,3), padding = 'same'))\n",
    "\n",
    "# model.add(BatchNormalization())\n",
    "model.add(LeakyReLU(alpha=0.01))\n",
    "model.add(MaxPooling2D((2,2),padding='valid'))\n",
    "model.add(Conv2D(64, (3, 3), activation='linear',padding='valid',\n",
    "                 kernel_regularizer = l2(0.01)))\n",
    "# model.add(BatchNormalization())\n",
    "model.add(LeakyReLU(alpha=0.01))\n",
    "model.add(MaxPooling2D(pool_size=(2, 2),padding='valid'))\n",
    "model.add(Conv2D(128, (3, 3), activation='linear',padding='valid',\n",
    "                 kernel_regularizer = l2(0.01)))\n",
    "# model.add(BatchNormalization())\n",
    "model.add(LeakyReLU(alpha=0.01))\n",
    "model.add(MaxPooling2D(pool_size=(2, 2),padding='valid'))\n",
    "model.add(Flatten())\n",
    "model.add(Dense(4096, activation='relu'))\n",
    "# model.add(Dropout(0.5))\n",
    "model.add(Dense(1028, activation='relu'))\n",
    "# model.add(Dropout(0.5))\n",
    "model.add(LeakyReLU(alpha=0.01))                  \n",
    "model.add(Dense(num_classes, activation='softmax'))\n",
    "\n"
   ]
  },
  {
   "cell_type": "code",
   "execution_count": 136,
   "metadata": {},
   "outputs": [],
   "source": [
    "# model.input"
   ]
  },
  {
   "cell_type": "code",
   "execution_count": 137,
   "metadata": {},
   "outputs": [],
   "source": [
    "# model.layers"
   ]
  },
  {
   "cell_type": "code",
   "execution_count": 138,
   "metadata": {
    "scrolled": false
   },
   "outputs": [],
   "source": [
    "from tensorflow.python.keras.models import Sequential\n",
    "from tensorflow.python.keras.layers import Dense, Dropout, Activation, Flatten,GlobalAveragePooling2D\n",
    "from tensorflow.python.keras.layers import Conv2D, MaxPooling2D, ZeroPadding2D\n",
    "from tensorflow.python.keras.layers.normalization import BatchNormalization\n",
    "from tensorflow.python.keras.models import Model\n",
    "\n",
    "\n",
    "num_classes = n_classes\n",
    "\n",
    "# print(model.summary())"
   ]
  },
  {
   "cell_type": "code",
   "execution_count": 139,
   "metadata": {
    "scrolled": true
   },
   "outputs": [],
   "source": [
    "from tensorflow.python.keras.utils import to_categorical\n",
    "\n",
    "def oneHotEncode(y_data):\n",
    "    mapping = {}\n",
    "    unique = list(set(y_data))\n",
    "    integ = []\n",
    "    for i in range(0,len(unique)):\n",
    "        mapping[unique[i]] = i\n",
    "\n",
    "    for x in range(len(y_data)):\n",
    "        integ.append(mapping[y_data[x]])\n",
    "    onehot = to_categorical(integ)\n",
    "    return onehot,mapping\n",
    "\n",
    "y_train_ohe,map_train = oneHotEncode(y_train)\n",
    "y_test_ohe,map_test = oneHotEncode(y_test)\n"
   ]
  },
  {
   "cell_type": "code",
   "execution_count": null,
   "metadata": {},
   "outputs": [
    {
     "name": "stdout",
     "output_type": "stream",
     "text": [
      "Train on 507 samples, validate on 57 samples\n",
      "Epoch 1/50\n",
      "507/507 [==============================] - 7s 14ms/step - loss: 3.8538 - acc: 0.0947 - val_loss: 3.6154 - val_acc: 0.1053\n",
      "Epoch 2/50\n",
      "507/507 [==============================] - 5s 9ms/step - loss: 3.4488 - acc: 0.1302 - val_loss: 3.1947 - val_acc: 0.1754\n",
      "Epoch 3/50\n",
      "507/507 [==============================] - 5s 9ms/step - loss: 3.0989 - acc: 0.1953 - val_loss: 2.9440 - val_acc: 0.1404\n",
      "Epoch 4/50\n",
      "507/507 [==============================] - 4s 9ms/step - loss: 2.8252 - acc: 0.2130 - val_loss: 2.7832 - val_acc: 0.2281\n",
      "Epoch 5/50\n",
      "507/507 [==============================] - 4s 8ms/step - loss: 2.5187 - acc: 0.3097 - val_loss: 2.6463 - val_acc: 0.3158\n",
      "Epoch 6/50\n",
      "507/507 [==============================] - 4s 8ms/step - loss: 2.3240 - acc: 0.3866 - val_loss: 2.4598 - val_acc: 0.3158\n",
      "Epoch 7/50\n",
      "507/507 [==============================] - 4s 8ms/step - loss: 1.9252 - acc: 0.5010 - val_loss: 2.1918 - val_acc: 0.3684\n",
      "Epoch 8/50\n",
      "507/507 [==============================] - 4s 8ms/step - loss: 1.6220 - acc: 0.5819 - val_loss: 1.7609 - val_acc: 0.5614\n",
      "Epoch 9/50\n",
      "507/507 [==============================] - 4s 8ms/step - loss: 1.1627 - acc: 0.7318 - val_loss: 1.9147 - val_acc: 0.5789\n",
      "Epoch 10/50\n",
      "507/507 [==============================] - 4s 8ms/step - loss: 0.9197 - acc: 0.7988 - val_loss: 1.8838 - val_acc: 0.6140\n",
      "Epoch 11/50\n",
      "507/507 [==============================] - 4s 8ms/step - loss: 0.7421 - acc: 0.8462 - val_loss: 1.8756 - val_acc: 0.5965\n",
      "Epoch 12/50\n",
      "507/507 [==============================] - 4s 8ms/step - loss: 0.6205 - acc: 0.9073 - val_loss: 2.3168 - val_acc: 0.5789\n",
      "Epoch 13/50\n",
      "507/507 [==============================] - 4s 8ms/step - loss: 0.6210 - acc: 0.9112 - val_loss: 1.8127 - val_acc: 0.6667\n",
      "Epoch 14/50\n",
      "507/507 [==============================] - 4s 8ms/step - loss: 0.4928 - acc: 0.9448 - val_loss: 1.9386 - val_acc: 0.6491\n",
      "Epoch 15/50\n",
      "507/507 [==============================] - 4s 8ms/step - loss: 0.3799 - acc: 0.9684 - val_loss: 2.2370 - val_acc: 0.6316\n",
      "Epoch 16/50\n",
      "507/507 [==============================] - 4s 9ms/step - loss: 0.3445 - acc: 0.9822 - val_loss: 2.2450 - val_acc: 0.6842\n",
      "Epoch 17/50\n",
      "507/507 [==============================] - 4s 8ms/step - loss: 0.3248 - acc: 0.9783 - val_loss: 2.2958 - val_acc: 0.6842\n",
      "Epoch 18/50\n",
      "448/507 [=========================>....] - ETA: 0s - loss: 0.2841 - acc: 0.9933"
     ]
    }
   ],
   "source": [
    "from tensorflow.python.keras.optimizers import RMSprop\n",
    "from tensorflow.python.keras.callbacks import ModelCheckpoint, EarlyStopping\n",
    "\n",
    "# checkpoint = ModelCheckpoint(\"face_recog_vgg.h5\", monitor=\"val_loss\", mode = \"min\", save_best_only = True, verbose = 1)\n",
    "# earlystop = EarlyStopping(monitor= 'val_loss', min_delta=0, patience=3, verbose=1,\n",
    "#                           restore_best_weights=True\n",
    "#                          )\n",
    "# callbacks = [earlystop, checkpoint]\n",
    "\n",
    "model.compile(loss=\"categorical_crossentropy\", \n",
    "              optimizer=\"adam\",\n",
    "              metrics=['accuracy'])\n",
    "\n",
    "epochs=50\n",
    "batch_size=64\n",
    "\n",
    "history = model.fit(X_train,\n",
    "                    y_train_ohe,\n",
    "                    validation_data = (X_test,\n",
    "                                       y_test_ohe),\n",
    "                    verbose = 1,                    \n",
    "                    epochs = epochs,\n",
    "                    batch_size = batch_size)\n",
    "\n",
    "model.save('fgvgg.h5')\n"
   ]
  },
  {
   "cell_type": "code",
   "execution_count": null,
   "metadata": {},
   "outputs": [],
   "source": []
  },
  {
   "cell_type": "code",
   "execution_count": 96,
   "metadata": {},
   "outputs": [
    {
     "data": {
      "image/png": "[encoded data removed]",
      "text/plain": [
       "<Figure size 432x288 with 1 Axes>"
      ]
     },
     "metadata": {
      "needs_background": "light"
     },
     "output_type": "display_data"
    },
    {
     "data": {
      "image/png": "[encoded data removed]",
      "text/plain": [
       "<Figure size 432x288 with 1 Axes>"
      ]
     },
     "metadata": {
      "needs_background": "light"
     },
     "output_type": "display_data"
    }
   ],
   "source": [
    "# summarize history for accuracy\n",
    "plt.plot(history.history['acc'])\n",
    "plt.plot(history.history['val_acc'])\n",
    "plt.title('model accuracy')\n",
    "plt.ylabel('accuracy')\n",
    "plt.xlabel('epoch')\n",
    "plt.legend(['train', 'test'], loc='upper left')\n",
    "plt.show()\n",
    "\n",
    "# summarize history for loss\n",
    "plt.plot(history.history['loss'])\n",
    "plt.plot(history.history['val_loss'])\n",
    "plt.title('model loss')\n",
    "plt.ylabel('loss')\n",
    "plt.xlabel('epoch')\n",
    "plt.legend(['train', 'test'], loc='upper left')\n",
    "plt.show()"
   ]
  },
  {
   "cell_type": "code",
   "execution_count": 89,
   "metadata": {},
   "outputs": [],
   "source": [
    "\n",
    "from tensorflow.python.keras.models import load_model\n",
    "classifier = load_model('fgvgg.h5')\n"
   ]
  },
  {
   "cell_type": "code",
   "execution_count": 90,
   "metadata": {},
   "outputs": [],
   "source": [
    "import os \n",
    "import cv2\n",
    "import numpy as np\n",
    "from os import listdir"
   ]
  },
  {
   "cell_type": "code",
   "execution_count": null,
   "metadata": {},
   "outputs": [],
   "source": []
  },
  {
   "cell_type": "code",
   "execution_count": 16,
   "metadata": {},
   "outputs": [
    {
     "ename": "NameError",
     "evalue": "name 'classifier' is not defined",
     "output_type": "error",
     "traceback": [
      "\u001b[0;31m---------------------------------------------------------------------------\u001b[0m",
      "\u001b[0;31mNameError\u001b[0m                                 Traceback (most recent call last)",
      "\u001b[0;32m<ipython-input-16-01dd06b80d87>\u001b[0m in \u001b[0;36m<module>\u001b[0;34m\u001b[0m\n\u001b[1;32m      1\u001b[0m \u001b[0minput_im\u001b[0m \u001b[0;34m=\u001b[0m \u001b[0mX_test\u001b[0m\u001b[0;34m\u001b[0m\u001b[0;34m\u001b[0m\u001b[0m\n\u001b[0;32m----> 2\u001b[0;31m \u001b[0mres\u001b[0m \u001b[0;34m=\u001b[0m \u001b[0mnp\u001b[0m\u001b[0;34m.\u001b[0m\u001b[0margmax\u001b[0m\u001b[0;34m(\u001b[0m\u001b[0mclassifier\u001b[0m\u001b[0;34m.\u001b[0m\u001b[0mpredict\u001b[0m\u001b[0;34m(\u001b[0m\u001b[0minput_im\u001b[0m\u001b[0;34m,\u001b[0m \u001b[0;36m1\u001b[0m\u001b[0;34m,\u001b[0m \u001b[0mverbose\u001b[0m\u001b[0;34m=\u001b[0m\u001b[0;36m0\u001b[0m\u001b[0;34m)\u001b[0m\u001b[0;34m,\u001b[0m \u001b[0maxis\u001b[0m \u001b[0;34m=\u001b[0m \u001b[0;36m1\u001b[0m\u001b[0;34m)\u001b[0m\u001b[0;34m\u001b[0m\u001b[0;34m\u001b[0m\u001b[0m\n\u001b[0m\u001b[1;32m      3\u001b[0m \u001b[0;34m\u001b[0m\u001b[0m\n\u001b[1;32m      4\u001b[0m \u001b[0;31m# draw_test(\"Prediction\", res, input_im)\u001b[0m\u001b[0;34m\u001b[0m\u001b[0;34m\u001b[0m\u001b[0;34m\u001b[0m\u001b[0m\n\u001b[1;32m      5\u001b[0m \u001b[0;31m# cv2.waitkey(5000)\u001b[0m\u001b[0;34m\u001b[0m\u001b[0;34m\u001b[0m\u001b[0;34m\u001b[0m\u001b[0m\n",
      "\u001b[0;31mNameError\u001b[0m: name 'classifier' is not defined"
     ]
    }
   ],
   "source": [
    "input_im = X_test\n",
    "res = np.argmax(classifier.predict(input_im, 1, verbose=0), axis = 1)\n",
    "\n",
    "# draw_test(\"Prediction\", res, input_im)\n",
    "# cv2.waitkey(5000)\n",
    "# cv2.destroyAllWindows()\n",
    "\n",
    "res\n",
    "                "
   ]
  },
  {
   "cell_type": "code",
   "execution_count": 104,
   "metadata": {},
   "outputs": [
    {
     "data": {
      "text/plain": [
       "['Serena_Williams',\n",
       " 'Gerhard_Schroeder',\n",
       " 'Serena_Williams',\n",
       " 'Serena_Williams',\n",
       " 'Gerhard_Schroeder',\n",
       " 'John_Ashcroft',\n",
       " 'Gerhard_Schroeder',\n",
       " 'Gerhard_Schroeder',\n",
       " 'Jean_Chretien',\n",
       " 'Ariel_Sharon',\n",
       " 'Serena_Williams',\n",
       " 'John_Ashcroft',\n",
       " 'Jean_Chretien',\n",
       " 'John_Ashcroft',\n",
       " 'Serena_Williams',\n",
       " 'Serena_Williams',\n",
       " 'Serena_Williams',\n",
       " 'John_Ashcroft',\n",
       " 'Tony_Blair',\n",
       " 'Ariel_Sharon',\n",
       " 'Junichiro_Koizumi',\n",
       " 'Serena_Williams',\n",
       " 'Serena_Williams',\n",
       " 'Serena_Williams',\n",
       " 'Donald_Rumsfeld',\n",
       " 'Gerhard_Schroeder',\n",
       " 'Junichiro_Koizumi',\n",
       " 'Jean_Chretien',\n",
       " 'Donald_Rumsfeld',\n",
       " 'Donald_Rumsfeld',\n",
       " 'Serena_Williams',\n",
       " 'Serena_Williams',\n",
       " 'Serena_Williams',\n",
       " 'Ariel_Sharon',\n",
       " 'Serena_Williams',\n",
       " 'Colin_Powell',\n",
       " 'Serena_Williams',\n",
       " 'Gerhard_Schroeder',\n",
       " 'Gerhard_Schroeder',\n",
       " 'Junichiro_Koizumi',\n",
       " 'Serena_Williams',\n",
       " 'Serena_Williams',\n",
       " 'John_Ashcroft',\n",
       " 'Serena_Williams',\n",
       " 'Donald_Rumsfeld',\n",
       " 'Serena_Williams',\n",
       " 'Ariel_Sharon',\n",
       " 'Donald_Rumsfeld',\n",
       " 'Serena_Williams',\n",
       " 'Ariel_Sharon',\n",
       " 'Gerhard_Schroeder',\n",
       " 'Junichiro_Koizumi',\n",
       " 'Gerhard_Schroeder',\n",
       " 'George_W_Bush',\n",
       " 'Serena_Williams',\n",
       " 'Gerhard_Schroeder',\n",
       " 'Gerhard_Schroeder',\n",
       " 'Serena_Williams',\n",
       " 'Serena_Williams',\n",
       " 'Gerhard_Schroeder',\n",
       " 'Serena_Williams',\n",
       " 'Ariel_Sharon',\n",
       " 'Serena_Williams',\n",
       " 'Gerhard_Schroeder',\n",
       " 'George_W_Bush',\n",
       " 'Junichiro_Koizumi',\n",
       " 'Serena_Williams',\n",
       " 'Serena_Williams',\n",
       " 'John_Ashcroft',\n",
       " 'Serena_Williams',\n",
       " 'Gerhard_Schroeder',\n",
       " 'Serena_Williams',\n",
       " 'Jean_Chretien',\n",
       " 'Junichiro_Koizumi',\n",
       " 'Serena_Williams',\n",
       " 'Serena_Williams',\n",
       " 'Serena_Williams',\n",
       " 'George_W_Bush',\n",
       " 'Serena_Williams',\n",
       " 'Serena_Williams',\n",
       " 'Serena_Williams',\n",
       " 'Donald_Rumsfeld',\n",
       " 'Gerhard_Schroeder',\n",
       " 'Hugo_Chavez',\n",
       " 'Gerhard_Schroeder',\n",
       " 'Hugo_Chavez',\n",
       " 'Serena_Williams',\n",
       " 'Gerhard_Schroeder',\n",
       " 'Jean_Chretien',\n",
       " 'Serena_Williams',\n",
       " 'Serena_Williams',\n",
       " 'Gerhard_Schroeder',\n",
       " 'Gerhard_Schroeder',\n",
       " 'Gerhard_Schroeder',\n",
       " 'Serena_Williams',\n",
       " 'Serena_Williams',\n",
       " 'Gerhard_Schroeder',\n",
       " 'Gerhard_Schroeder',\n",
       " 'Junichiro_Koizumi',\n",
       " 'Gerhard_Schroeder',\n",
       " 'Gerhard_Schroeder',\n",
       " 'Gerhard_Schroeder',\n",
       " 'Serena_Williams',\n",
       " 'John_Ashcroft',\n",
       " 'Ariel_Sharon',\n",
       " 'Jean_Chretien',\n",
       " 'Serena_Williams',\n",
       " 'Junichiro_Koizumi',\n",
       " 'Ariel_Sharon',\n",
       " 'Jean_Chretien',\n",
       " 'Ariel_Sharon',\n",
       " 'Gerhard_Schroeder',\n",
       " 'Donald_Rumsfeld']"
      ]
     },
     "execution_count": 104,
     "metadata": {},
     "output_type": "execute_result"
    }
   ],
   "source": [
    "\n",
    "uni = list(set(a))\n",
    "[uni[item] for item in res]"
   ]
  },
  {
   "cell_type": "code",
   "execution_count": 103,
   "metadata": {},
   "outputs": [
    {
     "data": {
      "text/plain": [
       "12"
      ]
     },
     "execution_count": 103,
     "metadata": {},
     "output_type": "execute_result"
    }
   ],
   "source": [
    "len(list(set(a)))"
   ]
  },
  {
   "cell_type": "code",
   "execution_count": 106,
   "metadata": {},
   "outputs": [
    {
     "data": {
      "text/plain": [
       "[<1x12 sparse matrix of type '<class 'numpy.float64'>'\n",
       " \twith 1 stored elements in Compressed Sparse Row format>,\n",
       " <1x12 sparse matrix of type '<class 'numpy.float64'>'\n",
       " \twith 1 stored elements in Compressed Sparse Row format>,\n",
       " <1x12 sparse matrix of type '<class 'numpy.float64'>'\n",
       " \twith 1 stored elements in Compressed Sparse Row format>,\n",
       " <1x12 sparse matrix of type '<class 'numpy.float64'>'\n",
       " \twith 1 stored elements in Compressed Sparse Row format>,\n",
       " <1x12 sparse matrix of type '<class 'numpy.float64'>'\n",
       " \twith 1 stored elements in Compressed Sparse Row format>,\n",
       " <1x12 sparse matrix of type '<class 'numpy.float64'>'\n",
       " \twith 1 stored elements in Compressed Sparse Row format>,\n",
       " <1x12 sparse matrix of type '<class 'numpy.float64'>'\n",
       " \twith 1 stored elements in Compressed Sparse Row format>,\n",
       " <1x12 sparse matrix of type '<class 'numpy.float64'>'\n",
       " \twith 1 stored elements in Compressed Sparse Row format>,\n",
       " <1x12 sparse matrix of type '<class 'numpy.float64'>'\n",
       " \twith 1 stored elements in Compressed Sparse Row format>,\n",
       " <1x12 sparse matrix of type '<class 'numpy.float64'>'\n",
       " \twith 1 stored elements in Compressed Sparse Row format>,\n",
       " <1x12 sparse matrix of type '<class 'numpy.float64'>'\n",
       " \twith 1 stored elements in Compressed Sparse Row format>,\n",
       " <1x12 sparse matrix of type '<class 'numpy.float64'>'\n",
       " \twith 1 stored elements in Compressed Sparse Row format>,\n",
       " <1x12 sparse matrix of type '<class 'numpy.float64'>'\n",
       " \twith 1 stored elements in Compressed Sparse Row format>,\n",
       " <1x12 sparse matrix of type '<class 'numpy.float64'>'\n",
       " \twith 1 stored elements in Compressed Sparse Row format>,\n",
       " <1x12 sparse matrix of type '<class 'numpy.float64'>'\n",
       " \twith 1 stored elements in Compressed Sparse Row format>,\n",
       " <1x12 sparse matrix of type '<class 'numpy.float64'>'\n",
       " \twith 1 stored elements in Compressed Sparse Row format>,\n",
       " <1x12 sparse matrix of type '<class 'numpy.float64'>'\n",
       " \twith 1 stored elements in Compressed Sparse Row format>,\n",
       " <1x12 sparse matrix of type '<class 'numpy.float64'>'\n",
       " \twith 1 stored elements in Compressed Sparse Row format>,\n",
       " <1x12 sparse matrix of type '<class 'numpy.float64'>'\n",
       " \twith 1 stored elements in Compressed Sparse Row format>,\n",
       " <1x12 sparse matrix of type '<class 'numpy.float64'>'\n",
       " \twith 1 stored elements in Compressed Sparse Row format>,\n",
       " <1x12 sparse matrix of type '<class 'numpy.float64'>'\n",
       " \twith 1 stored elements in Compressed Sparse Row format>,\n",
       " <1x12 sparse matrix of type '<class 'numpy.float64'>'\n",
       " \twith 1 stored elements in Compressed Sparse Row format>,\n",
       " <1x12 sparse matrix of type '<class 'numpy.float64'>'\n",
       " \twith 1 stored elements in Compressed Sparse Row format>,\n",
       " <1x12 sparse matrix of type '<class 'numpy.float64'>'\n",
       " \twith 1 stored elements in Compressed Sparse Row format>,\n",
       " <1x12 sparse matrix of type '<class 'numpy.float64'>'\n",
       " \twith 1 stored elements in Compressed Sparse Row format>,\n",
       " <1x12 sparse matrix of type '<class 'numpy.float64'>'\n",
       " \twith 1 stored elements in Compressed Sparse Row format>,\n",
       " <1x12 sparse matrix of type '<class 'numpy.float64'>'\n",
       " \twith 1 stored elements in Compressed Sparse Row format>,\n",
       " <1x12 sparse matrix of type '<class 'numpy.float64'>'\n",
       " \twith 1 stored elements in Compressed Sparse Row format>,\n",
       " <1x12 sparse matrix of type '<class 'numpy.float64'>'\n",
       " \twith 1 stored elements in Compressed Sparse Row format>,\n",
       " <1x12 sparse matrix of type '<class 'numpy.float64'>'\n",
       " \twith 1 stored elements in Compressed Sparse Row format>,\n",
       " <1x12 sparse matrix of type '<class 'numpy.float64'>'\n",
       " \twith 1 stored elements in Compressed Sparse Row format>,\n",
       " <1x12 sparse matrix of type '<class 'numpy.float64'>'\n",
       " \twith 1 stored elements in Compressed Sparse Row format>,\n",
       " <1x12 sparse matrix of type '<class 'numpy.float64'>'\n",
       " \twith 1 stored elements in Compressed Sparse Row format>,\n",
       " <1x12 sparse matrix of type '<class 'numpy.float64'>'\n",
       " \twith 1 stored elements in Compressed Sparse Row format>,\n",
       " <1x12 sparse matrix of type '<class 'numpy.float64'>'\n",
       " \twith 1 stored elements in Compressed Sparse Row format>,\n",
       " <1x12 sparse matrix of type '<class 'numpy.float64'>'\n",
       " \twith 1 stored elements in Compressed Sparse Row format>,\n",
       " <1x12 sparse matrix of type '<class 'numpy.float64'>'\n",
       " \twith 1 stored elements in Compressed Sparse Row format>,\n",
       " <1x12 sparse matrix of type '<class 'numpy.float64'>'\n",
       " \twith 1 stored elements in Compressed Sparse Row format>,\n",
       " <1x12 sparse matrix of type '<class 'numpy.float64'>'\n",
       " \twith 1 stored elements in Compressed Sparse Row format>,\n",
       " <1x12 sparse matrix of type '<class 'numpy.float64'>'\n",
       " \twith 1 stored elements in Compressed Sparse Row format>,\n",
       " <1x12 sparse matrix of type '<class 'numpy.float64'>'\n",
       " \twith 1 stored elements in Compressed Sparse Row format>,\n",
       " <1x12 sparse matrix of type '<class 'numpy.float64'>'\n",
       " \twith 1 stored elements in Compressed Sparse Row format>,\n",
       " <1x12 sparse matrix of type '<class 'numpy.float64'>'\n",
       " \twith 1 stored elements in Compressed Sparse Row format>,\n",
       " <1x12 sparse matrix of type '<class 'numpy.float64'>'\n",
       " \twith 1 stored elements in Compressed Sparse Row format>,\n",
       " <1x12 sparse matrix of type '<class 'numpy.float64'>'\n",
       " \twith 1 stored elements in Compressed Sparse Row format>,\n",
       " <1x12 sparse matrix of type '<class 'numpy.float64'>'\n",
       " \twith 1 stored elements in Compressed Sparse Row format>,\n",
       " <1x12 sparse matrix of type '<class 'numpy.float64'>'\n",
       " \twith 1 stored elements in Compressed Sparse Row format>,\n",
       " <1x12 sparse matrix of type '<class 'numpy.float64'>'\n",
       " \twith 1 stored elements in Compressed Sparse Row format>,\n",
       " <1x12 sparse matrix of type '<class 'numpy.float64'>'\n",
       " \twith 1 stored elements in Compressed Sparse Row format>,\n",
       " <1x12 sparse matrix of type '<class 'numpy.float64'>'\n",
       " \twith 1 stored elements in Compressed Sparse Row format>,\n",
       " <1x12 sparse matrix of type '<class 'numpy.float64'>'\n",
       " \twith 1 stored elements in Compressed Sparse Row format>,\n",
       " <1x12 sparse matrix of type '<class 'numpy.float64'>'\n",
       " \twith 1 stored elements in Compressed Sparse Row format>,\n",
       " <1x12 sparse matrix of type '<class 'numpy.float64'>'\n",
       " \twith 1 stored elements in Compressed Sparse Row format>,\n",
       " <1x12 sparse matrix of type '<class 'numpy.float64'>'\n",
       " \twith 1 stored elements in Compressed Sparse Row format>,\n",
       " <1x12 sparse matrix of type '<class 'numpy.float64'>'\n",
       " \twith 1 stored elements in Compressed Sparse Row format>,\n",
       " <1x12 sparse matrix of type '<class 'numpy.float64'>'\n",
       " \twith 1 stored elements in Compressed Sparse Row format>,\n",
       " <1x12 sparse matrix of type '<class 'numpy.float64'>'\n",
       " \twith 1 stored elements in Compressed Sparse Row format>,\n",
       " <1x12 sparse matrix of type '<class 'numpy.float64'>'\n",
       " \twith 1 stored elements in Compressed Sparse Row format>,\n",
       " <1x12 sparse matrix of type '<class 'numpy.float64'>'\n",
       " \twith 1 stored elements in Compressed Sparse Row format>,\n",
       " <1x12 sparse matrix of type '<class 'numpy.float64'>'\n",
       " \twith 1 stored elements in Compressed Sparse Row format>,\n",
       " <1x12 sparse matrix of type '<class 'numpy.float64'>'\n",
       " \twith 1 stored elements in Compressed Sparse Row format>,\n",
       " <1x12 sparse matrix of type '<class 'numpy.float64'>'\n",
       " \twith 1 stored elements in Compressed Sparse Row format>,\n",
       " <1x12 sparse matrix of type '<class 'numpy.float64'>'\n",
       " \twith 1 stored elements in Compressed Sparse Row format>,\n",
       " <1x12 sparse matrix of type '<class 'numpy.float64'>'\n",
       " \twith 1 stored elements in Compressed Sparse Row format>,\n",
       " <1x12 sparse matrix of type '<class 'numpy.float64'>'\n",
       " \twith 1 stored elements in Compressed Sparse Row format>,\n",
       " <1x12 sparse matrix of type '<class 'numpy.float64'>'\n",
       " \twith 1 stored elements in Compressed Sparse Row format>,\n",
       " <1x12 sparse matrix of type '<class 'numpy.float64'>'\n",
       " \twith 1 stored elements in Compressed Sparse Row format>,\n",
       " <1x12 sparse matrix of type '<class 'numpy.float64'>'\n",
       " \twith 1 stored elements in Compressed Sparse Row format>,\n",
       " <1x12 sparse matrix of type '<class 'numpy.float64'>'\n",
       " \twith 1 stored elements in Compressed Sparse Row format>,\n",
       " <1x12 sparse matrix of type '<class 'numpy.float64'>'\n",
       " \twith 1 stored elements in Compressed Sparse Row format>,\n",
       " <1x12 sparse matrix of type '<class 'numpy.float64'>'\n",
       " \twith 1 stored elements in Compressed Sparse Row format>,\n",
       " <1x12 sparse matrix of type '<class 'numpy.float64'>'\n",
       " \twith 1 stored elements in Compressed Sparse Row format>,\n",
       " <1x12 sparse matrix of type '<class 'numpy.float64'>'\n",
       " \twith 1 stored elements in Compressed Sparse Row format>,\n",
       " <1x12 sparse matrix of type '<class 'numpy.float64'>'\n",
       " \twith 1 stored elements in Compressed Sparse Row format>,\n",
       " <1x12 sparse matrix of type '<class 'numpy.float64'>'\n",
       " \twith 1 stored elements in Compressed Sparse Row format>,\n",
       " <1x12 sparse matrix of type '<class 'numpy.float64'>'\n",
       " \twith 1 stored elements in Compressed Sparse Row format>,\n",
       " <1x12 sparse matrix of type '<class 'numpy.float64'>'\n",
       " \twith 1 stored elements in Compressed Sparse Row format>,\n",
       " <1x12 sparse matrix of type '<class 'numpy.float64'>'\n",
       " \twith 1 stored elements in Compressed Sparse Row format>,\n",
       " <1x12 sparse matrix of type '<class 'numpy.float64'>'\n",
       " \twith 1 stored elements in Compressed Sparse Row format>,\n",
       " <1x12 sparse matrix of type '<class 'numpy.float64'>'\n",
       " \twith 1 stored elements in Compressed Sparse Row format>,\n",
       " <1x12 sparse matrix of type '<class 'numpy.float64'>'\n",
       " \twith 1 stored elements in Compressed Sparse Row format>,\n",
       " <1x12 sparse matrix of type '<class 'numpy.float64'>'\n",
       " \twith 1 stored elements in Compressed Sparse Row format>,\n",
       " <1x12 sparse matrix of type '<class 'numpy.float64'>'\n",
       " \twith 1 stored elements in Compressed Sparse Row format>,\n",
       " <1x12 sparse matrix of type '<class 'numpy.float64'>'\n",
       " \twith 1 stored elements in Compressed Sparse Row format>,\n",
       " <1x12 sparse matrix of type '<class 'numpy.float64'>'\n",
       " \twith 1 stored elements in Compressed Sparse Row format>,\n",
       " <1x12 sparse matrix of type '<class 'numpy.float64'>'\n",
       " \twith 1 stored elements in Compressed Sparse Row format>,\n",
       " <1x12 sparse matrix of type '<class 'numpy.float64'>'\n",
       " \twith 1 stored elements in Compressed Sparse Row format>,\n",
       " <1x12 sparse matrix of type '<class 'numpy.float64'>'\n",
       " \twith 1 stored elements in Compressed Sparse Row format>,\n",
       " <1x12 sparse matrix of type '<class 'numpy.float64'>'\n",
       " \twith 1 stored elements in Compressed Sparse Row format>,\n",
       " <1x12 sparse matrix of type '<class 'numpy.float64'>'\n",
       " \twith 1 stored elements in Compressed Sparse Row format>,\n",
       " <1x12 sparse matrix of type '<class 'numpy.float64'>'\n",
       " \twith 1 stored elements in Compressed Sparse Row format>,\n",
       " <1x12 sparse matrix of type '<class 'numpy.float64'>'\n",
       " \twith 1 stored elements in Compressed Sparse Row format>,\n",
       " <1x12 sparse matrix of type '<class 'numpy.float64'>'\n",
       " \twith 1 stored elements in Compressed Sparse Row format>,\n",
       " <1x12 sparse matrix of type '<class 'numpy.float64'>'\n",
       " \twith 1 stored elements in Compressed Sparse Row format>,\n",
       " <1x12 sparse matrix of type '<class 'numpy.float64'>'\n",
       " \twith 1 stored elements in Compressed Sparse Row format>,\n",
       " <1x12 sparse matrix of type '<class 'numpy.float64'>'\n",
       " \twith 1 stored elements in Compressed Sparse Row format>,\n",
       " <1x12 sparse matrix of type '<class 'numpy.float64'>'\n",
       " \twith 1 stored elements in Compressed Sparse Row format>,\n",
       " <1x12 sparse matrix of type '<class 'numpy.float64'>'\n",
       " \twith 1 stored elements in Compressed Sparse Row format>,\n",
       " <1x12 sparse matrix of type '<class 'numpy.float64'>'\n",
       " \twith 1 stored elements in Compressed Sparse Row format>,\n",
       " <1x12 sparse matrix of type '<class 'numpy.float64'>'\n",
       " \twith 1 stored elements in Compressed Sparse Row format>,\n",
       " <1x12 sparse matrix of type '<class 'numpy.float64'>'\n",
       " \twith 1 stored elements in Compressed Sparse Row format>,\n",
       " <1x12 sparse matrix of type '<class 'numpy.float64'>'\n",
       " \twith 1 stored elements in Compressed Sparse Row format>,\n",
       " <1x12 sparse matrix of type '<class 'numpy.float64'>'\n",
       " \twith 1 stored elements in Compressed Sparse Row format>,\n",
       " <1x12 sparse matrix of type '<class 'numpy.float64'>'\n",
       " \twith 1 stored elements in Compressed Sparse Row format>,\n",
       " <1x12 sparse matrix of type '<class 'numpy.float64'>'\n",
       " \twith 1 stored elements in Compressed Sparse Row format>,\n",
       " <1x12 sparse matrix of type '<class 'numpy.float64'>'\n",
       " \twith 1 stored elements in Compressed Sparse Row format>,\n",
       " <1x12 sparse matrix of type '<class 'numpy.float64'>'\n",
       " \twith 1 stored elements in Compressed Sparse Row format>,\n",
       " <1x12 sparse matrix of type '<class 'numpy.float64'>'\n",
       " \twith 1 stored elements in Compressed Sparse Row format>,\n",
       " <1x12 sparse matrix of type '<class 'numpy.float64'>'\n",
       " \twith 1 stored elements in Compressed Sparse Row format>,\n",
       " <1x12 sparse matrix of type '<class 'numpy.float64'>'\n",
       " \twith 1 stored elements in Compressed Sparse Row format>,\n",
       " <1x12 sparse matrix of type '<class 'numpy.float64'>'\n",
       " \twith 1 stored elements in Compressed Sparse Row format>,\n",
       " <1x12 sparse matrix of type '<class 'numpy.float64'>'\n",
       " \twith 1 stored elements in Compressed Sparse Row format>,\n",
       " <1x12 sparse matrix of type '<class 'numpy.float64'>'\n",
       " \twith 1 stored elements in Compressed Sparse Row format>]"
      ]
     },
     "execution_count": 106,
     "metadata": {},
     "output_type": "execute_result"
    }
   ],
   "source": []
  },
  {
   "cell_type": "code",
   "execution_count": null,
   "metadata": {},
   "outputs": [],
   "source": []
  },
  {
   "cell_type": "code",
   "execution_count": null,
   "metadata": {},
   "outputs": [],
   "source": []
  },
  {
   "cell_type": "code",
   "execution_count": null,
   "metadata": {},
   "outputs": [],
   "source": []
  },
  {
   "cell_type": "code",
   "execution_count": null,
   "metadata": {},
   "outputs": [],
   "source": []
  },
  {
   "cell_type": "code",
   "execution_count": null,
   "metadata": {},
   "outputs": [],
   "source": []
  },
  {
   "cell_type": "code",
   "execution_count": null,
   "metadata": {},
   "outputs": [],
   "source": []
  },
  {
   "cell_type": "code",
   "execution_count": null,
   "metadata": {},
   "outputs": [],
   "source": []
  },
  {
   "cell_type": "code",
   "execution_count": null,
   "metadata": {},
   "outputs": [],
   "source": []
  },
  {
   "cell_type": "code",
   "execution_count": null,
   "metadata": {},
   "outputs": [],
   "source": []
  },
  {
   "cell_type": "code",
   "execution_count": null,
   "metadata": {},
   "outputs": [],
   "source": []
  },
  {
   "cell_type": "code",
   "execution_count": null,
   "metadata": {},
   "outputs": [],
   "source": []
  },
  {
   "cell_type": "code",
   "execution_count": null,
   "metadata": {},
   "outputs": [],
   "source": []
  },
  {
   "cell_type": "code",
   "execution_count": null,
   "metadata": {},
   "outputs": [],
   "source": []
  },
  {
   "cell_type": "code",
   "execution_count": null,
   "metadata": {},
   "outputs": [],
   "source": []
  },
  {
   "cell_type": "code",
   "execution_count": null,
   "metadata": {},
   "outputs": [],
   "source": []
  },
  {
   "cell_type": "code",
   "execution_count": null,
   "metadata": {},
   "outputs": [],
   "source": []
  },
  {
   "cell_type": "code",
   "execution_count": null,
   "metadata": {},
   "outputs": [],
   "source": []
  },
  {
   "cell_type": "code",
   "execution_count": null,
   "metadata": {},
   "outputs": [],
   "source": []
  },
  {
   "cell_type": "code",
   "execution_count": null,
   "metadata": {},
   "outputs": [],
   "source": []
  },
  {
   "cell_type": "code",
   "execution_count": null,
   "metadata": {},
   "outputs": [],
   "source": []
  },
  {
   "cell_type": "code",
   "execution_count": 71,
   "metadata": {},
   "outputs": [],
   "source": [
    "import torch.nn as nn\n",
    "import torch.nn.functional as F\n",
    "\n",
    "\n",
    "class Net(nn.Module):\n",
    "    def __init__(self):\n",
    "        super(Net, self).__init__()\n",
    "        self.conv1 = nn.Conv2d(3, 6, 5)\n",
    "        self.pool = nn.MaxPool2d(2, 2)\n",
    "        self.conv2 = nn.Conv2d(6, 16, 5)\n",
    "        self.fc1 = nn.Linear(16 * 5 * 5, 120)\n",
    "        self.fc2 = nn.Linear(120, 84)\n",
    "        self.fc3 = nn.Linear(84, 10)\n",
    "\n",
    "    def forward(self, x):\n",
    "        x = self.pool(F.relu(self.conv1(x)))\n",
    "        x = self.pool(F.relu(self.conv2(x)))\n",
    "        x = x.view(-1, 16 * 5 * 5)\n",
    "        x = F.relu(self.fc1(x))\n",
    "        x = F.relu(self.fc2(x))\n",
    "        x = self.fc3(x)\n",
    "        return x\n",
    "\n",
    "\n",
    "net = Net()"
   ]
  },
  {
   "cell_type": "code",
   "execution_count": 72,
   "metadata": {},
   "outputs": [],
   "source": [
    "import torch.optim as optim\n",
    "\n",
    "criterion = nn.CrossEntropyLoss()\n",
    "optimizer = optim.SGD(net.parameters(), lr=0.001, momentum=0.9)\n"
   ]
  },
  {
   "cell_type": "code",
   "execution_count": 58,
   "metadata": {},
   "outputs": [
    {
     "data": {
      "text/plain": [
       "array(['Donald_Rumsfeld', 'Ariel_Sharon', 'John_Ashcroft',\n",
       "       'Jean_Chretien', 'Colin_Powell', 'Hugo_Chavez', 'John_Ashcroft',\n",
       "       'Ariel_Sharon', 'Junichiro_Koizumi', 'Tony_Blair', 'Hugo_Chavez',\n",
       "       'Hugo_Chavez', 'Tony_Blair', 'Jacques_Chirac', 'George_W_Bush',\n",
       "       'Serena_Williams', 'Junichiro_Koizumi', 'Ariel_Sharon',\n",
       "       'Donald_Rumsfeld', 'George_W_Bush', 'Ariel_Sharon',\n",
       "       'John_Ashcroft', 'Tony_Blair', 'Tony_Blair', 'Gerhard_Schroeder',\n",
       "       'Donald_Rumsfeld', 'Colin_Powell', 'John_Ashcroft', 'Colin_Powell',\n",
       "       'Jean_Chretien', 'Colin_Powell', 'Serena_Williams', 'Tony_Blair',\n",
       "       'Tony_Blair', 'John_Ashcroft', 'John_Ashcroft', 'Jacques_Chirac',\n",
       "       'Jean_Chretien', 'Gerhard_Schroeder', 'Donald_Rumsfeld',\n",
       "       'John_Ashcroft', 'George_W_Bush', 'John_Ashcroft', 'John_Ashcroft',\n",
       "       'Hugo_Chavez', 'Jean_Chretien', 'Serena_Williams', 'George_W_Bush',\n",
       "       'Serena_Williams', 'Tony_Blair', 'Tony_Blair', 'George_W_Bush',\n",
       "       'Serena_Williams', 'George_W_Bush', 'Jacques_Chirac',\n",
       "       'Gerhard_Schroeder', 'Ariel_Sharon', 'George_W_Bush',\n",
       "       'Junichiro_Koizumi', 'Ariel_Sharon', 'Serena_Williams',\n",
       "       'Serena_Williams', 'Jean_Chretien', 'Serena_Williams',\n",
       "       'Gerhard_Schroeder', 'Donald_Rumsfeld', 'Jean_Chretien',\n",
       "       'Colin_Powell', 'Serena_Williams', 'Jean_Chretien',\n",
       "       'Jacques_Chirac', 'Donald_Rumsfeld', 'Tony_Blair',\n",
       "       'Serena_Williams', 'Hugo_Chavez', 'Jacques_Chirac',\n",
       "       'Jean_Chretien', 'Donald_Rumsfeld', 'Tony_Blair', 'Jacques_Chirac',\n",
       "       'George_W_Bush', 'Colin_Powell', 'Junichiro_Koizumi',\n",
       "       'Donald_Rumsfeld', 'John_Ashcroft', 'Jacques_Chirac',\n",
       "       'Hugo_Chavez', 'Gerhard_Schroeder', 'Junichiro_Koizumi',\n",
       "       'Donald_Rumsfeld', 'Hugo_Chavez', 'Ariel_Sharon', 'John_Ashcroft',\n",
       "       'Tony_Blair', 'Gerhard_Schroeder', 'Tony_Blair', 'Serena_Williams',\n",
       "       'Serena_Williams', 'Donald_Rumsfeld', 'Donald_Rumsfeld',\n",
       "       'Hugo_Chavez', 'George_W_Bush', 'Colin_Powell', 'Ariel_Sharon',\n",
       "       'Jacques_Chirac', 'Colin_Powell', 'Donald_Rumsfeld',\n",
       "       'John_Ashcroft', 'Serena_Williams', 'Jean_Chretien',\n",
       "       'Jean_Chretien', 'Colin_Powell', 'George_W_Bush', 'Colin_Powell',\n",
       "       'Ariel_Sharon', 'Ariel_Sharon', 'Jean_Chretien',\n",
       "       'Gerhard_Schroeder', 'Gerhard_Schroeder', 'Jean_Chretien',\n",
       "       'Jean_Chretien', 'Jean_Chretien', 'Ariel_Sharon', 'Hugo_Chavez',\n",
       "       'John_Ashcroft', 'Hugo_Chavez', 'Jacques_Chirac', 'Hugo_Chavez',\n",
       "       'Gerhard_Schroeder', 'Gerhard_Schroeder', 'Serena_Williams',\n",
       "       'Donald_Rumsfeld', 'George_W_Bush', 'Jacques_Chirac',\n",
       "       'Colin_Powell', 'Junichiro_Koizumi', 'Serena_Williams',\n",
       "       'Tony_Blair', 'Tony_Blair', 'Junichiro_Koizumi', 'John_Ashcroft',\n",
       "       'Jean_Chretien', 'Gerhard_Schroeder', 'Colin_Powell',\n",
       "       'George_W_Bush', 'Junichiro_Koizumi', 'Tony_Blair',\n",
       "       'George_W_Bush', 'Hugo_Chavez', 'Ariel_Sharon', 'Tony_Blair',\n",
       "       'Ariel_Sharon', 'Hugo_Chavez', 'Colin_Powell', 'Tony_Blair',\n",
       "       'Colin_Powell', 'Colin_Powell', 'Ariel_Sharon', 'George_W_Bush',\n",
       "       'Colin_Powell', 'George_W_Bush', 'Ariel_Sharon', 'John_Ashcroft',\n",
       "       'George_W_Bush', 'Junichiro_Koizumi', 'Junichiro_Koizumi',\n",
       "       'Hugo_Chavez', 'Serena_Williams', 'Ariel_Sharon', 'George_W_Bush',\n",
       "       'Tony_Blair', 'Gerhard_Schroeder', 'Donald_Rumsfeld', 'Tony_Blair',\n",
       "       'Donald_Rumsfeld', 'Junichiro_Koizumi', 'Ariel_Sharon',\n",
       "       'Colin_Powell', 'Gerhard_Schroeder', 'Ariel_Sharon',\n",
       "       'Jacques_Chirac', 'Serena_Williams', 'Ariel_Sharon',\n",
       "       'George_W_Bush', 'Jean_Chretien', 'Jacques_Chirac',\n",
       "       'Junichiro_Koizumi', 'Gerhard_Schroeder', 'Serena_Williams',\n",
       "       'Colin_Powell', 'Tony_Blair', 'Hugo_Chavez', 'Donald_Rumsfeld',\n",
       "       'Colin_Powell', 'Junichiro_Koizumi', 'John_Ashcroft',\n",
       "       'Jean_Chretien', 'Jacques_Chirac', 'Tony_Blair', 'Tony_Blair',\n",
       "       'George_W_Bush', 'Tony_Blair', 'Hugo_Chavez', 'Hugo_Chavez',\n",
       "       'Jean_Chretien', 'Gerhard_Schroeder', 'Gerhard_Schroeder',\n",
       "       'Donald_Rumsfeld', 'Jean_Chretien', 'Junichiro_Koizumi',\n",
       "       'George_W_Bush', 'Donald_Rumsfeld', 'John_Ashcroft',\n",
       "       'Colin_Powell', 'Donald_Rumsfeld', 'Serena_Williams', 'Tony_Blair',\n",
       "       'Tony_Blair', 'Jean_Chretien', 'Colin_Powell', 'Serena_Williams',\n",
       "       'John_Ashcroft', 'Serena_Williams', 'Gerhard_Schroeder',\n",
       "       'George_W_Bush', 'George_W_Bush', 'Ariel_Sharon', 'Tony_Blair',\n",
       "       'Jean_Chretien', 'Hugo_Chavez', 'Jacques_Chirac',\n",
       "       'Serena_Williams', 'Ariel_Sharon', 'Gerhard_Schroeder',\n",
       "       'Tony_Blair', 'George_W_Bush', 'Jacques_Chirac', 'Hugo_Chavez',\n",
       "       'Serena_Williams', 'Junichiro_Koizumi', 'Donald_Rumsfeld',\n",
       "       'Jacques_Chirac', 'John_Ashcroft', 'George_W_Bush',\n",
       "       'Serena_Williams', 'George_W_Bush', 'Jean_Chretien',\n",
       "       'Junichiro_Koizumi', 'Jean_Chretien', 'Jean_Chretien',\n",
       "       'Donald_Rumsfeld', 'Junichiro_Koizumi', 'Hugo_Chavez',\n",
       "       'Jean_Chretien', 'Jacques_Chirac', 'Serena_Williams',\n",
       "       'Junichiro_Koizumi', 'Hugo_Chavez', 'Gerhard_Schroeder',\n",
       "       'Donald_Rumsfeld', 'Ariel_Sharon', 'Colin_Powell',\n",
       "       'Jacques_Chirac', 'Ariel_Sharon', 'Colin_Powell',\n",
       "       'Gerhard_Schroeder', 'Serena_Williams', 'Tony_Blair',\n",
       "       'John_Ashcroft', 'John_Ashcroft', 'Gerhard_Schroeder',\n",
       "       'Jacques_Chirac', 'Jacques_Chirac', 'Colin_Powell',\n",
       "       'Jacques_Chirac', 'Ariel_Sharon', 'Jean_Chretien', 'Ariel_Sharon',\n",
       "       'Junichiro_Koizumi', 'Junichiro_Koizumi', 'Junichiro_Koizumi',\n",
       "       'Jacques_Chirac', 'Tony_Blair', 'Gerhard_Schroeder',\n",
       "       'Ariel_Sharon', 'John_Ashcroft', 'John_Ashcroft', 'George_W_Bush',\n",
       "       'John_Ashcroft', 'Junichiro_Koizumi', 'Donald_Rumsfeld',\n",
       "       'Gerhard_Schroeder', 'Donald_Rumsfeld', 'Junichiro_Koizumi',\n",
       "       'Junichiro_Koizumi', 'Junichiro_Koizumi', 'Gerhard_Schroeder',\n",
       "       'Serena_Williams', 'Gerhard_Schroeder', 'Gerhard_Schroeder',\n",
       "       'Tony_Blair', 'Gerhard_Schroeder', 'Gerhard_Schroeder',\n",
       "       'Hugo_Chavez', 'Colin_Powell', 'Ariel_Sharon', 'Gerhard_Schroeder',\n",
       "       'Jacques_Chirac', 'Gerhard_Schroeder', 'Donald_Rumsfeld',\n",
       "       'Serena_Williams', 'Donald_Rumsfeld', 'George_W_Bush',\n",
       "       'Hugo_Chavez', 'Serena_Williams', 'Ariel_Sharon', 'Hugo_Chavez',\n",
       "       'Junichiro_Koizumi', 'Colin_Powell', 'Junichiro_Koizumi',\n",
       "       'Tony_Blair', 'Jacques_Chirac', 'Ariel_Sharon', 'Jacques_Chirac',\n",
       "       'Jacques_Chirac', 'Donald_Rumsfeld', 'Hugo_Chavez',\n",
       "       'Gerhard_Schroeder', 'Junichiro_Koizumi', 'George_W_Bush',\n",
       "       'Colin_Powell', 'Donald_Rumsfeld', 'Jean_Chretien',\n",
       "       'John_Ashcroft', 'Ariel_Sharon', 'Donald_Rumsfeld',\n",
       "       'George_W_Bush', 'George_W_Bush', 'Ariel_Sharon',\n",
       "       'Junichiro_Koizumi', 'Jean_Chretien', 'Donald_Rumsfeld',\n",
       "       'Serena_Williams', 'Junichiro_Koizumi', 'Donald_Rumsfeld',\n",
       "       'Hugo_Chavez', 'Hugo_Chavez', 'Jean_Chretien', 'Junichiro_Koizumi',\n",
       "       'Jacques_Chirac', 'Jacques_Chirac', 'Serena_Williams',\n",
       "       'Hugo_Chavez', 'John_Ashcroft', 'Serena_Williams', 'Ariel_Sharon',\n",
       "       'Jacques_Chirac', 'Jacques_Chirac', 'Serena_Williams',\n",
       "       'Hugo_Chavez', 'Jean_Chretien', 'Gerhard_Schroeder', 'Tony_Blair',\n",
       "       'Ariel_Sharon', 'Junichiro_Koizumi', 'Donald_Rumsfeld',\n",
       "       'Hugo_Chavez', 'Jacques_Chirac', 'Colin_Powell', 'George_W_Bush',\n",
       "       'Jean_Chretien', 'Serena_Williams', 'Tony_Blair', 'Hugo_Chavez',\n",
       "       'Jacques_Chirac', 'Tony_Blair', 'George_W_Bush', 'Ariel_Sharon',\n",
       "       'Colin_Powell', 'Jacques_Chirac', 'Hugo_Chavez', 'Ariel_Sharon',\n",
       "       'Jean_Chretien', 'Junichiro_Koizumi', 'Colin_Powell',\n",
       "       'Hugo_Chavez', 'Ariel_Sharon', 'Gerhard_Schroeder', 'Colin_Powell',\n",
       "       'Ariel_Sharon', 'Hugo_Chavez', 'John_Ashcroft', 'Colin_Powell',\n",
       "       'Gerhard_Schroeder', 'Serena_Williams', 'Serena_Williams',\n",
       "       'Tony_Blair', 'Tony_Blair', 'Junichiro_Koizumi', 'Donald_Rumsfeld',\n",
       "       'Gerhard_Schroeder', 'John_Ashcroft', 'Colin_Powell',\n",
       "       'Serena_Williams', 'John_Ashcroft', 'Donald_Rumsfeld',\n",
       "       'George_W_Bush', 'Ariel_Sharon', 'Serena_Williams', 'Tony_Blair',\n",
       "       'Ariel_Sharon', 'Jean_Chretien', 'John_Ashcroft', 'Ariel_Sharon',\n",
       "       'John_Ashcroft', 'Gerhard_Schroeder', 'John_Ashcroft',\n",
       "       'Jean_Chretien', 'Junichiro_Koizumi', 'Tony_Blair',\n",
       "       'Donald_Rumsfeld', 'John_Ashcroft', 'Jean_Chretien',\n",
       "       'Jacques_Chirac', 'John_Ashcroft', 'Jacques_Chirac',\n",
       "       'George_W_Bush', 'Jean_Chretien', 'Hugo_Chavez', 'Donald_Rumsfeld',\n",
       "       'Gerhard_Schroeder', 'Donald_Rumsfeld', 'Tony_Blair',\n",
       "       'George_W_Bush', 'George_W_Bush', 'Colin_Powell', 'Jacques_Chirac',\n",
       "       'Colin_Powell', 'Jean_Chretien', 'Jean_Chretien', 'John_Ashcroft',\n",
       "       'Gerhard_Schroeder', 'Hugo_Chavez', 'Tony_Blair',\n",
       "       'Gerhard_Schroeder', 'George_W_Bush', 'George_W_Bush',\n",
       "       'Jean_Chretien', 'Tony_Blair', 'George_W_Bush', 'Jean_Chretien',\n",
       "       'Junichiro_Koizumi', 'Donald_Rumsfeld', 'Serena_Williams',\n",
       "       'Donald_Rumsfeld', 'Colin_Powell', 'Jacques_Chirac',\n",
       "       'Gerhard_Schroeder', 'Colin_Powell', 'John_Ashcroft',\n",
       "       'Colin_Powell', 'Colin_Powell', 'Junichiro_Koizumi',\n",
       "       'Donald_Rumsfeld', 'Jacques_Chirac', 'Colin_Powell',\n",
       "       'Jacques_Chirac', 'Hugo_Chavez', 'Junichiro_Koizumi',\n",
       "       'Ariel_Sharon', 'John_Ashcroft', 'Jean_Chretien', 'Hugo_Chavez',\n",
       "       'Serena_Williams', 'Colin_Powell', 'Tony_Blair', 'Donald_Rumsfeld',\n",
       "       'Ariel_Sharon', 'George_W_Bush', 'Junichiro_Koizumi',\n",
       "       'Serena_Williams', 'George_W_Bush', 'Hugo_Chavez', 'Hugo_Chavez',\n",
       "       'Jacques_Chirac', 'Junichiro_Koizumi', 'George_W_Bush',\n",
       "       'George_W_Bush', 'Donald_Rumsfeld', 'Junichiro_Koizumi',\n",
       "       'Junichiro_Koizumi', 'Donald_Rumsfeld', 'Colin_Powell',\n",
       "       'Tony_Blair', 'George_W_Bush', 'Colin_Powell', 'Tony_Blair',\n",
       "       'Serena_Williams', 'Jacques_Chirac', 'John_Ashcroft',\n",
       "       'Serena_Williams', 'Colin_Powell', 'Hugo_Chavez', 'Ariel_Sharon',\n",
       "       'Jean_Chretien', 'Gerhard_Schroeder', 'Tony_Blair'], dtype='<U17')"
      ]
     },
     "execution_count": 58,
     "metadata": {},
     "output_type": "execute_result"
    }
   ],
   "source": [
    "trainloader = list(zip(X_train,y_train))\n",
    "y_train"
   ]
  },
  {
   "cell_type": "code",
   "execution_count": 18,
   "metadata": {},
   "outputs": [
    {
     "ename": "TypeError",
     "evalue": "conv2d(): argument 'input' (position 1) must be Tensor, not numpy.ndarray",
     "output_type": "error",
     "traceback": [
      "\u001b[0;31m---------------------------------------------------------------------------\u001b[0m",
      "\u001b[0;31mTypeError\u001b[0m                                 Traceback (most recent call last)",
      "\u001b[0;32m<ipython-input-18-8e82031cfffb>\u001b[0m in \u001b[0;36m<module>\u001b[0;34m\u001b[0m\n\u001b[1;32m     10\u001b[0m \u001b[0;34m\u001b[0m\u001b[0m\n\u001b[1;32m     11\u001b[0m         \u001b[0;31m# forward + backward + optimize\u001b[0m\u001b[0;34m\u001b[0m\u001b[0;34m\u001b[0m\u001b[0;34m\u001b[0m\u001b[0m\n\u001b[0;32m---> 12\u001b[0;31m         \u001b[0moutputs\u001b[0m \u001b[0;34m=\u001b[0m \u001b[0mnet\u001b[0m\u001b[0;34m(\u001b[0m\u001b[0minputs\u001b[0m\u001b[0;34m)\u001b[0m\u001b[0;34m\u001b[0m\u001b[0;34m\u001b[0m\u001b[0m\n\u001b[0m\u001b[1;32m     13\u001b[0m         \u001b[0mloss\u001b[0m \u001b[0;34m=\u001b[0m \u001b[0mcriterion\u001b[0m\u001b[0;34m(\u001b[0m\u001b[0moutputs\u001b[0m\u001b[0;34m,\u001b[0m \u001b[0mlabels\u001b[0m\u001b[0;34m)\u001b[0m\u001b[0;34m\u001b[0m\u001b[0;34m\u001b[0m\u001b[0m\n\u001b[1;32m     14\u001b[0m         \u001b[0mloss\u001b[0m\u001b[0;34m.\u001b[0m\u001b[0mbackward\u001b[0m\u001b[0;34m(\u001b[0m\u001b[0;34m)\u001b[0m\u001b[0;34m\u001b[0m\u001b[0;34m\u001b[0m\u001b[0m\n",
      "\u001b[0;32m~/opt/anaconda3/envs/sml/lib/python3.6/site-packages/torch/nn/modules/module.py\u001b[0m in \u001b[0;36m_call_impl\u001b[0;34m(self, *input, **kwargs)\u001b[0m\n\u001b[1;32m    725\u001b[0m             \u001b[0mresult\u001b[0m \u001b[0;34m=\u001b[0m \u001b[0mself\u001b[0m\u001b[0;34m.\u001b[0m\u001b[0m_slow_forward\u001b[0m\u001b[0;34m(\u001b[0m\u001b[0;34m*\u001b[0m\u001b[0minput\u001b[0m\u001b[0;34m,\u001b[0m \u001b[0;34m**\u001b[0m\u001b[0mkwargs\u001b[0m\u001b[0;34m)\u001b[0m\u001b[0;34m\u001b[0m\u001b[0;34m\u001b[0m\u001b[0m\n\u001b[1;32m    726\u001b[0m         \u001b[0;32melse\u001b[0m\u001b[0;34m:\u001b[0m\u001b[0;34m\u001b[0m\u001b[0;34m\u001b[0m\u001b[0m\n\u001b[0;32m--> 727\u001b[0;31m             \u001b[0mresult\u001b[0m \u001b[0;34m=\u001b[0m \u001b[0mself\u001b[0m\u001b[0;34m.\u001b[0m\u001b[0mforward\u001b[0m\u001b[0;34m(\u001b[0m\u001b[0;34m*\u001b[0m\u001b[0minput\u001b[0m\u001b[0;34m,\u001b[0m \u001b[0;34m**\u001b[0m\u001b[0mkwargs\u001b[0m\u001b[0;34m)\u001b[0m\u001b[0;34m\u001b[0m\u001b[0;34m\u001b[0m\u001b[0m\n\u001b[0m\u001b[1;32m    728\u001b[0m         for hook in itertools.chain(\n\u001b[1;32m    729\u001b[0m                 \u001b[0m_global_forward_hooks\u001b[0m\u001b[0;34m.\u001b[0m\u001b[0mvalues\u001b[0m\u001b[0;34m(\u001b[0m\u001b[0;34m)\u001b[0m\u001b[0;34m,\u001b[0m\u001b[0;34m\u001b[0m\u001b[0;34m\u001b[0m\u001b[0m\n",
      "\u001b[0;32m<ipython-input-15-7184b89f1db8>\u001b[0m in \u001b[0;36mforward\u001b[0;34m(self, x)\u001b[0m\n\u001b[1;32m     14\u001b[0m \u001b[0;34m\u001b[0m\u001b[0m\n\u001b[1;32m     15\u001b[0m     \u001b[0;32mdef\u001b[0m \u001b[0mforward\u001b[0m\u001b[0;34m(\u001b[0m\u001b[0mself\u001b[0m\u001b[0;34m,\u001b[0m \u001b[0mx\u001b[0m\u001b[0;34m)\u001b[0m\u001b[0;34m:\u001b[0m\u001b[0;34m\u001b[0m\u001b[0;34m\u001b[0m\u001b[0m\n\u001b[0;32m---> 16\u001b[0;31m         \u001b[0mx\u001b[0m \u001b[0;34m=\u001b[0m \u001b[0mself\u001b[0m\u001b[0;34m.\u001b[0m\u001b[0mpool\u001b[0m\u001b[0;34m(\u001b[0m\u001b[0mF\u001b[0m\u001b[0;34m.\u001b[0m\u001b[0mrelu\u001b[0m\u001b[0;34m(\u001b[0m\u001b[0mself\u001b[0m\u001b[0;34m.\u001b[0m\u001b[0mconv1\u001b[0m\u001b[0;34m(\u001b[0m\u001b[0mx\u001b[0m\u001b[0;34m)\u001b[0m\u001b[0;34m)\u001b[0m\u001b[0;34m)\u001b[0m\u001b[0;34m\u001b[0m\u001b[0;34m\u001b[0m\u001b[0m\n\u001b[0m\u001b[1;32m     17\u001b[0m         \u001b[0mx\u001b[0m \u001b[0;34m=\u001b[0m \u001b[0mself\u001b[0m\u001b[0;34m.\u001b[0m\u001b[0mpool\u001b[0m\u001b[0;34m(\u001b[0m\u001b[0mF\u001b[0m\u001b[0;34m.\u001b[0m\u001b[0mrelu\u001b[0m\u001b[0;34m(\u001b[0m\u001b[0mself\u001b[0m\u001b[0;34m.\u001b[0m\u001b[0mconv2\u001b[0m\u001b[0;34m(\u001b[0m\u001b[0mx\u001b[0m\u001b[0;34m)\u001b[0m\u001b[0;34m)\u001b[0m\u001b[0;34m)\u001b[0m\u001b[0;34m\u001b[0m\u001b[0;34m\u001b[0m\u001b[0m\n\u001b[1;32m     18\u001b[0m         \u001b[0mx\u001b[0m \u001b[0;34m=\u001b[0m \u001b[0mx\u001b[0m\u001b[0;34m.\u001b[0m\u001b[0mview\u001b[0m\u001b[0;34m(\u001b[0m\u001b[0;34m-\u001b[0m\u001b[0;36m1\u001b[0m\u001b[0;34m,\u001b[0m \u001b[0;36m16\u001b[0m \u001b[0;34m*\u001b[0m \u001b[0;36m5\u001b[0m \u001b[0;34m*\u001b[0m \u001b[0;36m5\u001b[0m\u001b[0;34m)\u001b[0m\u001b[0;34m\u001b[0m\u001b[0;34m\u001b[0m\u001b[0m\n",
      "\u001b[0;32m~/opt/anaconda3/envs/sml/lib/python3.6/site-packages/torch/nn/modules/module.py\u001b[0m in \u001b[0;36m_call_impl\u001b[0;34m(self, *input, **kwargs)\u001b[0m\n\u001b[1;32m    725\u001b[0m             \u001b[0mresult\u001b[0m \u001b[0;34m=\u001b[0m \u001b[0mself\u001b[0m\u001b[0;34m.\u001b[0m\u001b[0m_slow_forward\u001b[0m\u001b[0;34m(\u001b[0m\u001b[0;34m*\u001b[0m\u001b[0minput\u001b[0m\u001b[0;34m,\u001b[0m \u001b[0;34m**\u001b[0m\u001b[0mkwargs\u001b[0m\u001b[0;34m)\u001b[0m\u001b[0;34m\u001b[0m\u001b[0;34m\u001b[0m\u001b[0m\n\u001b[1;32m    726\u001b[0m         \u001b[0;32melse\u001b[0m\u001b[0;34m:\u001b[0m\u001b[0;34m\u001b[0m\u001b[0;34m\u001b[0m\u001b[0m\n\u001b[0;32m--> 727\u001b[0;31m             \u001b[0mresult\u001b[0m \u001b[0;34m=\u001b[0m \u001b[0mself\u001b[0m\u001b[0;34m.\u001b[0m\u001b[0mforward\u001b[0m\u001b[0;34m(\u001b[0m\u001b[0;34m*\u001b[0m\u001b[0minput\u001b[0m\u001b[0;34m,\u001b[0m \u001b[0;34m**\u001b[0m\u001b[0mkwargs\u001b[0m\u001b[0;34m)\u001b[0m\u001b[0;34m\u001b[0m\u001b[0;34m\u001b[0m\u001b[0m\n\u001b[0m\u001b[1;32m    728\u001b[0m         for hook in itertools.chain(\n\u001b[1;32m    729\u001b[0m                 \u001b[0m_global_forward_hooks\u001b[0m\u001b[0;34m.\u001b[0m\u001b[0mvalues\u001b[0m\u001b[0;34m(\u001b[0m\u001b[0;34m)\u001b[0m\u001b[0;34m,\u001b[0m\u001b[0;34m\u001b[0m\u001b[0;34m\u001b[0m\u001b[0m\n",
      "\u001b[0;32m~/opt/anaconda3/envs/sml/lib/python3.6/site-packages/torch/nn/modules/conv.py\u001b[0m in \u001b[0;36mforward\u001b[0;34m(self, input)\u001b[0m\n\u001b[1;32m    421\u001b[0m \u001b[0;34m\u001b[0m\u001b[0m\n\u001b[1;32m    422\u001b[0m     \u001b[0;32mdef\u001b[0m \u001b[0mforward\u001b[0m\u001b[0;34m(\u001b[0m\u001b[0mself\u001b[0m\u001b[0;34m,\u001b[0m \u001b[0minput\u001b[0m\u001b[0;34m:\u001b[0m \u001b[0mTensor\u001b[0m\u001b[0;34m)\u001b[0m \u001b[0;34m->\u001b[0m \u001b[0mTensor\u001b[0m\u001b[0;34m:\u001b[0m\u001b[0;34m\u001b[0m\u001b[0;34m\u001b[0m\u001b[0m\n\u001b[0;32m--> 423\u001b[0;31m         \u001b[0;32mreturn\u001b[0m \u001b[0mself\u001b[0m\u001b[0;34m.\u001b[0m\u001b[0m_conv_forward\u001b[0m\u001b[0;34m(\u001b[0m\u001b[0minput\u001b[0m\u001b[0;34m,\u001b[0m \u001b[0mself\u001b[0m\u001b[0;34m.\u001b[0m\u001b[0mweight\u001b[0m\u001b[0;34m)\u001b[0m\u001b[0;34m\u001b[0m\u001b[0;34m\u001b[0m\u001b[0m\n\u001b[0m\u001b[1;32m    424\u001b[0m \u001b[0;34m\u001b[0m\u001b[0m\n\u001b[1;32m    425\u001b[0m \u001b[0;32mclass\u001b[0m \u001b[0mConv3d\u001b[0m\u001b[0;34m(\u001b[0m\u001b[0m_ConvNd\u001b[0m\u001b[0;34m)\u001b[0m\u001b[0;34m:\u001b[0m\u001b[0;34m\u001b[0m\u001b[0;34m\u001b[0m\u001b[0m\n",
      "\u001b[0;32m~/opt/anaconda3/envs/sml/lib/python3.6/site-packages/torch/nn/modules/conv.py\u001b[0m in \u001b[0;36m_conv_forward\u001b[0;34m(self, input, weight)\u001b[0m\n\u001b[1;32m    418\u001b[0m                             _pair(0), self.dilation, self.groups)\n\u001b[1;32m    419\u001b[0m         return F.conv2d(input, weight, self.bias, self.stride,\n\u001b[0;32m--> 420\u001b[0;31m                         self.padding, self.dilation, self.groups)\n\u001b[0m\u001b[1;32m    421\u001b[0m \u001b[0;34m\u001b[0m\u001b[0m\n\u001b[1;32m    422\u001b[0m     \u001b[0;32mdef\u001b[0m \u001b[0mforward\u001b[0m\u001b[0;34m(\u001b[0m\u001b[0mself\u001b[0m\u001b[0;34m,\u001b[0m \u001b[0minput\u001b[0m\u001b[0;34m:\u001b[0m \u001b[0mTensor\u001b[0m\u001b[0;34m)\u001b[0m \u001b[0;34m->\u001b[0m \u001b[0mTensor\u001b[0m\u001b[0;34m:\u001b[0m\u001b[0;34m\u001b[0m\u001b[0;34m\u001b[0m\u001b[0m\n",
      "\u001b[0;31mTypeError\u001b[0m: conv2d(): argument 'input' (position 1) must be Tensor, not numpy.ndarray"
     ]
    }
   ],
   "source": [
    "for epoch in range(2):  # loop over the dataset multiple times\n",
    "\n",
    "    running_loss = 0.0\n",
    "    for i, data in enumerate(trainloader, 0):\n",
    "        # get the inputs; data is a list of [inputs, labels]\n",
    "        inputs, labels = data\n",
    "\n",
    "        # zero the parameter gradients\n",
    "        optimizer.zero_grad()\n",
    "\n",
    "        # forward + backward + optimize\n",
    "        outputs = net(inputs)\n",
    "        loss = criterion(outputs, labels)\n",
    "        loss.backward()\n",
    "        optimizer.step()\n",
    "\n",
    "        # print statistics\n",
    "        running_loss += loss.item()\n",
    "        if i % 2000 == 1999:    # print every 2000 mini-batches\n",
    "            print('[%d, %5d] loss: %.3f' %\n",
    "                  (epoch + 1, i + 1, running_loss / 2000))\n",
    "            running_loss = 0.0\n",
    "\n",
    "print('Finished Training')"
   ]
  },
  {
   "cell_type": "code",
   "execution_count": 59,
   "metadata": {},
   "outputs": [
    {
     "ename": "ValueError",
     "evalue": "invalid literal for int() with base 10: 'Donald_Rumsfeld'",
     "output_type": "error",
     "traceback": [
      "\u001b[0;31m---------------------------------------------------------------------------\u001b[0m",
      "\u001b[0;31mValueError\u001b[0m                                Traceback (most recent call last)",
      "\u001b[0;32m<ipython-input-59-6ef2a638d48e>\u001b[0m in \u001b[0;36m<module>\u001b[0;34m\u001b[0m\n\u001b[0;32m----> 1\u001b[0;31m \u001b[0mto_categorical\u001b[0m\u001b[0;34m(\u001b[0m\u001b[0mlist\u001b[0m\u001b[0;34m(\u001b[0m\u001b[0my_train\u001b[0m\u001b[0;34m)\u001b[0m\u001b[0;34m)\u001b[0m\u001b[0;34m\u001b[0m\u001b[0;34m\u001b[0m\u001b[0m\n\u001b[0m",
      "\u001b[0;32m~/opt/anaconda3/envs/sml/lib/python3.6/site-packages/tensorflow/python/keras/utils/np_utils.py\u001b[0m in \u001b[0;36mto_categorical\u001b[0;34m(y, num_classes)\u001b[0m\n\u001b[1;32m     37\u001b[0m       \u001b[0mlast\u001b[0m\u001b[0;34m.\u001b[0m\u001b[0;34m\u001b[0m\u001b[0;34m\u001b[0m\u001b[0m\n\u001b[1;32m     38\u001b[0m   \"\"\"\n\u001b[0;32m---> 39\u001b[0;31m   \u001b[0my\u001b[0m \u001b[0;34m=\u001b[0m \u001b[0mnp\u001b[0m\u001b[0;34m.\u001b[0m\u001b[0marray\u001b[0m\u001b[0;34m(\u001b[0m\u001b[0my\u001b[0m\u001b[0;34m,\u001b[0m \u001b[0mdtype\u001b[0m\u001b[0;34m=\u001b[0m\u001b[0;34m'int'\u001b[0m\u001b[0;34m)\u001b[0m\u001b[0;34m\u001b[0m\u001b[0;34m\u001b[0m\u001b[0m\n\u001b[0m\u001b[1;32m     40\u001b[0m   \u001b[0minput_shape\u001b[0m \u001b[0;34m=\u001b[0m \u001b[0my\u001b[0m\u001b[0;34m.\u001b[0m\u001b[0mshape\u001b[0m\u001b[0;34m\u001b[0m\u001b[0;34m\u001b[0m\u001b[0m\n\u001b[1;32m     41\u001b[0m   \u001b[0;32mif\u001b[0m \u001b[0minput_shape\u001b[0m \u001b[0;32mand\u001b[0m \u001b[0minput_shape\u001b[0m\u001b[0;34m[\u001b[0m\u001b[0;34m-\u001b[0m\u001b[0;36m1\u001b[0m\u001b[0;34m]\u001b[0m \u001b[0;34m==\u001b[0m \u001b[0;36m1\u001b[0m \u001b[0;32mand\u001b[0m \u001b[0mlen\u001b[0m\u001b[0;34m(\u001b[0m\u001b[0minput_shape\u001b[0m\u001b[0;34m)\u001b[0m \u001b[0;34m>\u001b[0m \u001b[0;36m1\u001b[0m\u001b[0;34m:\u001b[0m\u001b[0;34m\u001b[0m\u001b[0;34m\u001b[0m\u001b[0m\n",
      "\u001b[0;31mValueError\u001b[0m: invalid literal for int() with base 10: 'Donald_Rumsfeld'"
     ]
    }
   ],
   "source": [
    "to_categorical(list(y_train))"
   ]
  },
  {
   "cell_type": "code",
   "execution_count": 83,
   "metadata": {},
   "outputs": [
    {
     "data": {
      "text/plain": [
       "array([[0., 0., 0., ..., 0., 0., 0.],\n",
       "       [0., 1., 0., ..., 0., 0., 0.],\n",
       "       [0., 0., 0., ..., 0., 0., 0.],\n",
       "       ...,\n",
       "       [0., 0., 0., ..., 0., 0., 1.],\n",
       "       [0., 0., 0., ..., 0., 0., 0.],\n",
       "       [0., 0., 0., ..., 0., 0., 0.]], dtype=float32)"
      ]
     },
     "execution_count": 83,
     "metadata": {},
     "output_type": "execute_result"
    }
   ],
   "source": [
    "y_train_ohe"
   ]
  },
  {
   "cell_type": "code",
   "execution_count": null,
   "metadata": {},
   "outputs": [],
   "source": []
  }
 ],
 "metadata": {
  "kernelspec": {
   "display_name": "sml",
   "language": "python",
   "name": "sml"
  },
  "language_info": {
   "codemirror_mode": {
    "name": "ipython",
    "version": 3
   },
   "file_extension": ".py",
   "mimetype": "text/x-python",
   "name": "python",
   "nbconvert_exporter": "python",
   "pygments_lexer": "ipython3",
   "version": "3.6.12"
  }
 },
 "nbformat": 4,
 "nbformat_minor": 4
}
