{
 "cells": [
  {
   "cell_type": "code",
   "execution_count": 2,
   "metadata": {},
   "outputs": [],
   "source": [
    "import cv2\n",
    "import matplotlib.pyplot as plt\n",
    "import pandas as pd\n",
    "import numpy as np\n",
    "\n",
    "from imutils import face_utils\n",
    "font = cv2.FONT_HERSHEY_SIMPLEX"
   ]
  },
  {
   "cell_type": "code",
   "execution_count": 3,
   "metadata": {},
   "outputs": [],
   "source": [
    "import os\n",
    "\n",
    "def get_files(path):\n",
    "    return os.listdir(path)\n",
    "\n",
    "cascPath = \"/Users/telekenesis/Husky Gdrive/Coursework/7. SML_EE/Project/image/haarcascade_frontalface_default.xml\"\n",
    "\n",
    "def return_bbx(image):\n",
    "    faceCascade = cv2.CascadeClassifier(cascPath)\n",
    "    faces = faceCascade.detectMultiScale(image, scaleFactor=1.1, minNeighbors=5, flags=cv2.CASCADE_SCALE_IMAGE)\n",
    "    return faces"
   ]
  },
  {
   "cell_type": "code",
   "execution_count": 4,
   "metadata": {},
   "outputs": [
    {
     "data": {
      "text/html": [
       "<div>\n",
       "<style scoped>\n",
       "    .dataframe tbody tr th:only-of-type {\n",
       "        vertical-align: middle;\n",
       "    }\n",
       "\n",
       "    .dataframe tbody tr th {\n",
       "        vertical-align: top;\n",
       "    }\n",
       "\n",
       "    .dataframe thead th {\n",
       "        text-align: right;\n",
       "    }\n",
       "</style>\n",
       "<table border=\"1\" class=\"dataframe\">\n",
       "  <thead>\n",
       "    <tr style=\"text-align: right;\">\n",
       "      <th></th>\n",
       "      <th>name</th>\n",
       "      <th>images</th>\n",
       "    </tr>\n",
       "  </thead>\n",
       "  <tbody>\n",
       "    <tr>\n",
       "      <th>373</th>\n",
       "      <td>Ariel_Sharon</td>\n",
       "      <td>77</td>\n",
       "    </tr>\n",
       "    <tr>\n",
       "      <th>1047</th>\n",
       "      <td>Colin_Powell</td>\n",
       "      <td>236</td>\n",
       "    </tr>\n",
       "    <tr>\n",
       "      <th>1404</th>\n",
       "      <td>Donald_Rumsfeld</td>\n",
       "      <td>121</td>\n",
       "    </tr>\n",
       "    <tr>\n",
       "      <th>1871</th>\n",
       "      <td>George_W_Bush</td>\n",
       "      <td>530</td>\n",
       "    </tr>\n",
       "    <tr>\n",
       "      <th>1892</th>\n",
       "      <td>Gerhard_Schroeder</td>\n",
       "      <td>109</td>\n",
       "    </tr>\n",
       "    <tr>\n",
       "      <th>2175</th>\n",
       "      <td>Hugo_Chavez</td>\n",
       "      <td>71</td>\n",
       "    </tr>\n",
       "    <tr>\n",
       "      <th>2288</th>\n",
       "      <td>Jacques_Chirac</td>\n",
       "      <td>52</td>\n",
       "    </tr>\n",
       "    <tr>\n",
       "      <th>2468</th>\n",
       "      <td>Jean_Chretien</td>\n",
       "      <td>55</td>\n",
       "    </tr>\n",
       "    <tr>\n",
       "      <th>2682</th>\n",
       "      <td>John_Ashcroft</td>\n",
       "      <td>53</td>\n",
       "    </tr>\n",
       "    <tr>\n",
       "      <th>2941</th>\n",
       "      <td>Junichiro_Koizumi</td>\n",
       "      <td>60</td>\n",
       "    </tr>\n",
       "    <tr>\n",
       "      <th>4963</th>\n",
       "      <td>Serena_Williams</td>\n",
       "      <td>52</td>\n",
       "    </tr>\n",
       "    <tr>\n",
       "      <th>5458</th>\n",
       "      <td>Tony_Blair</td>\n",
       "      <td>144</td>\n",
       "    </tr>\n",
       "  </tbody>\n",
       "</table>\n",
       "</div>"
      ],
      "text/plain": [
       "                   name  images\n",
       "373        Ariel_Sharon      77\n",
       "1047       Colin_Powell     236\n",
       "1404    Donald_Rumsfeld     121\n",
       "1871      George_W_Bush     530\n",
       "1892  Gerhard_Schroeder     109\n",
       "2175        Hugo_Chavez      71\n",
       "2288     Jacques_Chirac      52\n",
       "2468      Jean_Chretien      55\n",
       "2682      John_Ashcroft      53\n",
       "2941  Junichiro_Koizumi      60\n",
       "4963    Serena_Williams      52\n",
       "5458         Tony_Blair     144"
      ]
     },
     "execution_count": 4,
     "metadata": {},
     "output_type": "execute_result"
    }
   ],
   "source": [
    "Dataset_path = '/Users/telekenesis/Husky Gdrive/Coursework/7. SML_EE/Project/Data/'\n",
    "\n",
    "Celebs = pd.read_csv('/Users/telekenesis/Husky Gdrive/Coursework/7. SML_EE/Project/lfw_allnames.csv')\n",
    "Celebs = Celebs[Celebs['images']>50]\n",
    "Celebs"
   ]
  },
  {
   "cell_type": "code",
   "execution_count": 45,
   "metadata": {},
   "outputs": [],
   "source": [
    "X = []\n",
    "Y = []\n",
    "\n",
    "for _, [name,__] in Celebs.iterrows():\n",
    "    celeb_path = Dataset_path+name+'/'\n",
    "    \n",
    "    images_paths = get_files(celeb_path)\n",
    "    for image_path in images_paths:\n",
    "        image = cv2.imread(celeb_path+image_path,1)\n",
    "        faces = return_bbx(image)\n",
    "        if len(faces) == 1:\n",
    "            (x,y,w,h) = faces[0]\n",
    "            cropped = image[x:x+w, y:y+h]\n",
    "            dim = (64, 64)\n",
    "            resized = cv2.resize(cropped, dim, interpolation = cv2.INTER_AREA)\n",
    "            image = np.array(resized).astype(\"float32\")\n",
    "            X.append(image)\n",
    "            Y.append(name)\n",
    "\n"
   ]
  },
  {
   "cell_type": "code",
   "execution_count": 52,
   "metadata": {},
   "outputs": [],
   "source": [
    "X_data = np.array(X)\n",
    "Y_data = np.array(Y)"
   ]
  },
  {
   "cell_type": "code",
   "execution_count": null,
   "metadata": {},
   "outputs": [],
   "source": []
  },
  {
   "cell_type": "code",
   "execution_count": 6,
   "metadata": {},
   "outputs": [],
   "source": [
    "from collections import Counter\n"
   ]
  },
  {
   "cell_type": "code",
   "execution_count": 7,
   "metadata": {},
   "outputs": [
    {
     "data": {
      "text/plain": [
       "Counter({'Ariel_Sharon': 70,\n",
       "         'Colin_Powell': 214,\n",
       "         'Donald_Rumsfeld': 109,\n",
       "         'George_W_Bush': 480,\n",
       "         'Gerhard_Schroeder': 106,\n",
       "         'Hugo_Chavez': 67,\n",
       "         'Jacques_Chirac': 51,\n",
       "         'Jean_Chretien': 51,\n",
       "         'John_Ashcroft': 47,\n",
       "         'Junichiro_Koizumi': 51,\n",
       "         'Serena_Williams': 48,\n",
       "         'Tony_Blair': 138})"
      ]
     },
     "execution_count": 7,
     "metadata": {},
     "output_type": "execute_result"
    }
   ],
   "source": [
    "Counter(Y_data)"
   ]
  },
  {
   "cell_type": "code",
   "execution_count": 53,
   "metadata": {},
   "outputs": [
    {
     "name": "stdout",
     "output_type": "stream",
     "text": [
      "Counter({'Ariel_Sharon': 47, 'Colin_Powell': 47, 'Donald_Rumsfeld': 47, 'George_W_Bush': 47, 'Gerhard_Schroeder': 47, 'Hugo_Chavez': 47, 'Jacques_Chirac': 47, 'Jean_Chretien': 47, 'John_Ashcroft': 47, 'Junichiro_Koizumi': 47, 'Serena_Williams': 47, 'Tony_Blair': 47})\n"
     ]
    }
   ],
   "source": [
    "from imblearn.under_sampling import NearMiss\n",
    "\n",
    "X_data_reshaped = X_data.reshape(X_data.shape[0], X_data.shape[1] * X_data.shape[2] * X_data.shape[3])\n",
    "undersample = NearMiss(version=1)\n",
    "X_resampled, Y_resampled = undersample.fit_resample(X_data_reshaped,Y_data)\n",
    "# X_data = X_resampled.reshape(X_resampled.shape[0], X_data.shape[1], X_data.shape[2], X_data.shape[3])\n",
    "Y_data = Y_resampled\n",
    "counter = Counter(Y_data)\n",
    "print(counter)\n",
    "\n",
    "del X_data_reshaped\n",
    "del undersample\n",
    "# del X_resampled\n",
    "del Y_resampled\n",
    "del counter"
   ]
  },
  {
   "cell_type": "code",
   "execution_count": 54,
   "metadata": {},
   "outputs": [
    {
     "data": {
      "text/plain": [
       "12"
      ]
     },
     "execution_count": 54,
     "metadata": {},
     "output_type": "execute_result"
    }
   ],
   "source": [
    "a = Y_data\n",
    "n_classes = len(set(a))\n",
    "n_classes"
   ]
  },
  {
   "cell_type": "code",
   "execution_count": 69,
   "metadata": {},
   "outputs": [],
   "source": [
    "from sklearn.preprocessing import MinMaxScaler, LabelEncoder\n",
    "from sklearn.preprocessing import OneHotEncoder\n",
    "\n",
    "scaler = MinMaxScaler(feature_range=(0, 1))\n",
    "X_resampled = scaler.fit_transform(X_resampled)\n",
    "X_data = X_resampled.reshape(X_resampled.shape[0], X_data.shape[1],\n",
    "                             X_data.shape[2], X_data.shape[3])\n",
    "onehotencoder = OneHotEncoder()\n",
    "Y_data = onehotencoder.fit_transform(Y_data.reshape(-1,1))"
   ]
  },
  {
   "cell_type": "code",
   "execution_count": 140,
   "metadata": {},
   "outputs": [],
   "source": [
    "from sklearn.metrics import confusion_matrix\n",
    "from sklearn.model_selection import train_test_split\n",
    "from sklearn import svm\n",
    "\n",
    "X_train, X_test, y_train, y_test = train_test_split(X_data, Y_data, train_size=0.9, random_state = 0)\n"
   ]
  },
  {
   "cell_type": "code",
   "execution_count": 127,
   "metadata": {},
   "outputs": [],
   "source": [
    "from tensorflow.python.keras.applications import VGG16\n",
    "rows = dim[0]\n",
    "cols = dim[1]\n",
    "\n",
    "num_classes = n_classes"
   ]
  },
  {
   "cell_type": "code",
   "execution_count": 76,
   "metadata": {},
   "outputs": [
    {
     "name": "stdout",
     "output_type": "stream",
     "text": [
      "0 InputLayer False\n",
      "1 Conv2D False\n",
      "2 Conv2D False\n",
      "3 MaxPooling2D False\n",
      "4 Conv2D False\n",
      "5 Conv2D False\n",
      "6 MaxPooling2D False\n",
      "7 Conv2D False\n",
      "8 Conv2D False\n",
      "9 Conv2D False\n",
      "10 MaxPooling2D False\n",
      "11 Conv2D False\n",
      "12 Conv2D False\n",
      "13 Conv2D False\n",
      "14 MaxPooling2D False\n",
      "15 Conv2D False\n",
      "16 Conv2D False\n",
      "17 Conv2D False\n",
      "18 MaxPooling2D False\n"
     ]
    }
   ],
   "source": [
    "for (i,layer) in enumerate(model.layers):\n",
    "    print(str(i) + \" \" + layer.__class__.__name__,layer.trainable)"
   ]
  },
  {
   "cell_type": "code",
   "execution_count": 160,
   "metadata": {},
   "outputs": [],
   "source": [
    "from tensorflow.python.keras.models import Sequential\n",
    "from tensorflow.python.keras.layers import Dense, Dropout, Activation, Flatten,GlobalAveragePooling2D\n",
    "from tensorflow.python.keras.layers import Conv2D, MaxPooling2D, ZeroPadding2D\n",
    "from tensorflow.python.keras.layers.normalization import BatchNormalization\n",
    "from tensorflow.python.keras.models import Model\n",
    "from tensorflow.python.keras.layers.advanced_activations import LeakyReLU\n",
    "from tensorflow.python.keras.regularizers import l2\n",
    "\n",
    "\n",
    "model = Sequential()\n",
    "model.add(Conv2D(64, kernel_size=(3,3), input_shape=(rows,cols,3), padding = 'same'))\n",
    "model.add(LeakyReLU(alpha=0.1))\n",
    "model.add(MaxPooling2D((2,2),padding='same'))\n",
    "model.add(Conv2D(64, (3, 3), activation='linear',padding='same',\n",
    "                 kernel_regularizer = l2(0.01)))\n",
    "model.add(LeakyReLU(alpha=0.1))\n",
    "model.add(MaxPooling2D(pool_size=(2, 2),padding='same'))\n",
    "model.add(Conv2D(128, (3, 3), activation='linear',padding='same',\n",
    "                 kernel_regularizer = l2(0.01)))\n",
    "model.add(LeakyReLU(alpha=0.1))                  \n",
    "model.add(MaxPooling2D(pool_size=(2, 2),padding='same'))\n",
    "model.add(Flatten())\n",
    "model.add(Dense(4096, activation='linear'))\n",
    "model.add(Dropout(0.5))\n",
    "model.add(Dense(1028, activation='linear'))\n",
    "model.add(Dropout(0.5))\n",
    "model.add(LeakyReLU(alpha=0.1))                  \n",
    "model.add(Dense(num_classes, activation='softmax'))\n",
    "\n"
   ]
  },
  {
   "cell_type": "code",
   "execution_count": 161,
   "metadata": {},
   "outputs": [
    {
     "data": {
      "text/plain": [
       "<tf.Tensor 'conv2d_15_input:0' shape=(?, 64, 64, 3) dtype=float32>"
      ]
     },
     "execution_count": 161,
     "metadata": {},
     "output_type": "execute_result"
    }
   ],
   "source": [
    "model.input"
   ]
  },
  {
   "cell_type": "code",
   "execution_count": 162,
   "metadata": {},
   "outputs": [
    {
     "data": {
      "text/plain": [
       "[<tensorflow.python.keras.layers.convolutional.Conv2D at 0x7fc13240cf98>,\n",
       " <tensorflow.python.keras.layers.advanced_activations.LeakyReLU at 0x7fc16c416198>,\n",
       " <tensorflow.python.keras.layers.pooling.MaxPooling2D at 0x7fc16c4163c8>,\n",
       " <tensorflow.python.keras.layers.convolutional.Conv2D at 0x7fc16c416908>,\n",
       " <tensorflow.python.keras.layers.advanced_activations.LeakyReLU at 0x7fc16c416400>,\n",
       " <tensorflow.python.keras.layers.pooling.MaxPooling2D at 0x7fc0403b72b0>,\n",
       " <tensorflow.python.keras.layers.convolutional.Conv2D at 0x7fc0403b7fd0>,\n",
       " <tensorflow.python.keras.layers.advanced_activations.LeakyReLU at 0x7fc0403b75c0>,\n",
       " <tensorflow.python.keras.layers.pooling.MaxPooling2D at 0x7fc1324aa160>,\n",
       " <tensorflow.python.keras.layers.core.Flatten at 0x7fc1324aa438>,\n",
       " <tensorflow.python.keras.layers.core.Dense at 0x7fc1324aa470>,\n",
       " <tensorflow.python.keras.layers.core.Dropout at 0x7fc1324aaac8>,\n",
       " <tensorflow.python.keras.layers.core.Dense at 0x7fc13240cbe0>,\n",
       " <tensorflow.python.keras.layers.core.Dropout at 0x7fc16c4529e8>,\n",
       " <tensorflow.python.keras.layers.advanced_activations.LeakyReLU at 0x7fc1324aa5c0>,\n",
       " <tensorflow.python.keras.layers.core.Dense at 0x7fc16c452710>]"
      ]
     },
     "execution_count": 162,
     "metadata": {},
     "output_type": "execute_result"
    }
   ],
   "source": [
    "model.layers"
   ]
  },
  {
   "cell_type": "code",
   "execution_count": 163,
   "metadata": {
    "scrolled": false
   },
   "outputs": [
    {
     "name": "stdout",
     "output_type": "stream",
     "text": [
      "_________________________________________________________________\n",
      "Layer (type)                 Output Shape              Param #   \n",
      "=================================================================\n",
      "conv2d_15 (Conv2D)           (None, 64, 64, 64)        1792      \n",
      "_________________________________________________________________\n",
      "leaky_re_lu_15 (LeakyReLU)   (None, 64, 64, 64)        0         \n",
      "_________________________________________________________________\n",
      "max_pooling2d_12 (MaxPooling (None, 32, 32, 64)        0         \n",
      "_________________________________________________________________\n",
      "conv2d_16 (Conv2D)           (None, 32, 32, 64)        36928     \n",
      "_________________________________________________________________\n",
      "leaky_re_lu_16 (LeakyReLU)   (None, 32, 32, 64)        0         \n",
      "_________________________________________________________________\n",
      "max_pooling2d_13 (MaxPooling (None, 16, 16, 64)        0         \n",
      "_________________________________________________________________\n",
      "conv2d_17 (Conv2D)           (None, 16, 16, 128)       73856     \n",
      "_________________________________________________________________\n",
      "leaky_re_lu_17 (LeakyReLU)   (None, 16, 16, 128)       0         \n",
      "_________________________________________________________________\n",
      "max_pooling2d_14 (MaxPooling (None, 8, 8, 128)         0         \n",
      "_________________________________________________________________\n",
      "flatten_5 (Flatten)          (None, 8192)              0         \n",
      "_________________________________________________________________\n",
      "dense_20 (Dense)             (None, 4096)              33558528  \n",
      "_________________________________________________________________\n",
      "dropout_4 (Dropout)          (None, 4096)              0         \n",
      "_________________________________________________________________\n",
      "dense_21 (Dense)             (None, 1028)              4211716   \n",
      "_________________________________________________________________\n",
      "dropout_5 (Dropout)          (None, 1028)              0         \n",
      "_________________________________________________________________\n",
      "leaky_re_lu_18 (LeakyReLU)   (None, 1028)              0         \n",
      "_________________________________________________________________\n",
      "dense_22 (Dense)             (None, 12)                12348     \n",
      "=================================================================\n",
      "Total params: 37,895,168\n",
      "Trainable params: 37,895,168\n",
      "Non-trainable params: 0\n",
      "_________________________________________________________________\n",
      "None\n"
     ]
    }
   ],
   "source": [
    "from tensorflow.python.keras.models import Sequential\n",
    "from tensorflow.python.keras.layers import Dense, Dropout, Activation, Flatten,GlobalAveragePooling2D\n",
    "from tensorflow.python.keras.layers import Conv2D, MaxPooling2D, ZeroPadding2D\n",
    "from tensorflow.python.keras.layers.normalization import BatchNormalization\n",
    "from tensorflow.python.keras.models import Model\n",
    "\n",
    "\n",
    "num_classes = n_classes\n",
    "\n",
    "print(model.summary())"
   ]
  },
  {
   "cell_type": "code",
<<<<<<< HEAD
   "execution_count": 77,
=======
   "execution_count": 164,
>>>>>>> rish_trials
   "metadata": {},
   "outputs": [
    {
     "name": "stdout",
     "output_type": "stream",
     "text": [
      "Train on 507 samples, validate on 57 samples\n",
      "Epoch 1/50\n",
      "507/507 [==============================] - 10s 20ms/step - loss: 4.2763 - acc: 0.0907 - val_loss: 3.8411 - val_acc: 0.0702\n",
      "Epoch 2/50\n",
      "507/507 [==============================] - 6s 11ms/step - loss: 3.7713 - acc: 0.1144 - val_loss: 3.5766 - val_acc: 0.2632\n",
      "Epoch 3/50\n",
      "507/507 [==============================] - 6s 11ms/step - loss: 3.5108 - acc: 0.1874 - val_loss: 3.3839 - val_acc: 0.1930\n",
      "Epoch 4/50\n",
      "507/507 [==============================] - 6s 12ms/step - loss: 3.2962 - acc: 0.2249 - val_loss: 3.1715 - val_acc: 0.2281\n",
      "Epoch 5/50\n",
      "507/507 [==============================] - 6s 12ms/step - loss: 3.0136 - acc: 0.3195 - val_loss: 3.1772 - val_acc: 0.2105\n",
      "Epoch 6/50\n",
      "507/507 [==============================] - 6s 11ms/step - loss: 2.7210 - acc: 0.4201 - val_loss: 2.5667 - val_acc: 0.4386\n",
      "Epoch 7/50\n",
      "507/507 [==============================] - 6s 12ms/step - loss: 2.2091 - acc: 0.5542 - val_loss: 2.2554 - val_acc: 0.4561\n",
      "Epoch 8/50\n",
      "507/507 [==============================] - 6s 11ms/step - loss: 1.7833 - acc: 0.6903 - val_loss: 1.9052 - val_acc: 0.6491\n",
      "Epoch 9/50\n",
      "507/507 [==============================] - 6s 12ms/step - loss: 1.5049 - acc: 0.7751 - val_loss: 2.1823 - val_acc: 0.5263\n",
      "Epoch 10/50\n",
      "507/507 [==============================] - 6s 11ms/step - loss: 1.2803 - acc: 0.8087 - val_loss: 2.0473 - val_acc: 0.5614\n",
      "Epoch 11/50\n",
      "507/507 [==============================] - 6s 12ms/step - loss: 1.1482 - acc: 0.8560 - val_loss: 1.8820 - val_acc: 0.6842\n",
      "Epoch 12/50\n",
      "507/507 [==============================] - 6s 11ms/step - loss: 0.9802 - acc: 0.9250 - val_loss: 1.6896 - val_acc: 0.7368\n",
      "Epoch 13/50\n",
      "507/507 [==============================] - 6s 11ms/step - loss: 0.8315 - acc: 0.9684 - val_loss: 1.4427 - val_acc: 0.7193\n",
      "Epoch 14/50\n",
      "507/507 [==============================] - 6s 11ms/step - loss: 0.7587 - acc: 0.9763 - val_loss: 1.5336 - val_acc: 0.7193\n",
      "Epoch 15/50\n",
      "507/507 [==============================] - 6s 11ms/step - loss: 0.7161 - acc: 0.9862 - val_loss: 1.4826 - val_acc: 0.7719\n",
      "Epoch 16/50\n",
      "507/507 [==============================] - 6s 11ms/step - loss: 0.6603 - acc: 0.9980 - val_loss: 1.7302 - val_acc: 0.7368\n",
      "Epoch 17/50\n",
      "507/507 [==============================] - 6s 12ms/step - loss: 0.6259 - acc: 0.9980 - val_loss: 1.2278 - val_acc: 0.8246\n",
      "Epoch 18/50\n",
      "507/507 [==============================] - 6s 12ms/step - loss: 0.6043 - acc: 0.9941 - val_loss: 1.4229 - val_acc: 0.7895\n",
      "Epoch 19/50\n",
      "448/507 [=========================>....] - ETA: 0s - loss: 0.5775 - acc: 0.9978"
     ]
    },
    {
     "ename": "KeyboardInterrupt",
     "evalue": "",
     "output_type": "error",
     "traceback": [
      "\u001b[0;31m---------------------------------------------------------------------------\u001b[0m",
<<<<<<< HEAD
      "\u001b[0;31mTypeError\u001b[0m                                 Traceback (most recent call last)",
      "\u001b[0;32m<ipython-input-77-924673bf9c28>\u001b[0m in \u001b[0;36m<module>\u001b[0;34m\u001b[0m\n\u001b[1;32m      3\u001b[0m \u001b[0;34m\u001b[0m\u001b[0m\n\u001b[1;32m      4\u001b[0m \u001b[0mcheckpoint\u001b[0m \u001b[0;34m=\u001b[0m \u001b[0mModelCheckpoint\u001b[0m\u001b[0;34m(\u001b[0m\u001b[0;34m\"face_recog_vgg.h5\"\u001b[0m\u001b[0;34m,\u001b[0m \u001b[0mmonitor\u001b[0m\u001b[0;34m=\u001b[0m\u001b[0;34m\"val_loss\"\u001b[0m\u001b[0;34m,\u001b[0m \u001b[0mmode\u001b[0m \u001b[0;34m=\u001b[0m \u001b[0;34m\"min\"\u001b[0m\u001b[0;34m,\u001b[0m \u001b[0msave_best_only\u001b[0m \u001b[0;34m=\u001b[0m \u001b[0;32mTrue\u001b[0m\u001b[0;34m,\u001b[0m \u001b[0mverbose\u001b[0m \u001b[0;34m=\u001b[0m \u001b[0;36m1\u001b[0m\u001b[0;34m)\u001b[0m\u001b[0;34m\u001b[0m\u001b[0;34m\u001b[0m\u001b[0m\n\u001b[0;32m----> 5\u001b[0;31m \u001b[0mearlystop\u001b[0m \u001b[0;34m=\u001b[0m \u001b[0mEarlyStopping\u001b[0m\u001b[0;34m(\u001b[0m\u001b[0mmonitor\u001b[0m\u001b[0;34m=\u001b[0m \u001b[0;34m'val_loss'\u001b[0m\u001b[0;34m,\u001b[0m \u001b[0mmin_delta\u001b[0m\u001b[0;34m=\u001b[0m\u001b[0;36m0\u001b[0m\u001b[0;34m,\u001b[0m \u001b[0mpatience\u001b[0m\u001b[0;34m=\u001b[0m\u001b[0;36m3\u001b[0m\u001b[0;34m,\u001b[0m \u001b[0mverbose\u001b[0m\u001b[0;34m=\u001b[0m\u001b[0;36m1\u001b[0m\u001b[0;34m,\u001b[0m\u001b[0mrestore_best_weights\u001b[0m\u001b[0;34m=\u001b[0m\u001b[0;32mTrue\u001b[0m\u001b[0;34m)\u001b[0m\u001b[0;34m\u001b[0m\u001b[0;34m\u001b[0m\u001b[0m\n\u001b[0m\u001b[1;32m      6\u001b[0m \u001b[0mcallbacks\u001b[0m \u001b[0;34m=\u001b[0m \u001b[0;34m[\u001b[0m\u001b[0mearlystop\u001b[0m\u001b[0;34m,\u001b[0m \u001b[0mcheckpoint\u001b[0m\u001b[0;34m]\u001b[0m\u001b[0;34m\u001b[0m\u001b[0;34m\u001b[0m\u001b[0m\n\u001b[1;32m      7\u001b[0m \u001b[0;34m\u001b[0m\u001b[0m\n",
      "\u001b[0;31mTypeError\u001b[0m: __init__() got an unexpected keyword argument 'restore_best_weights'"
=======
      "\u001b[0;31mKeyboardInterrupt\u001b[0m                         Traceback (most recent call last)",
      "\u001b[0;32m<ipython-input-164-27b51dea9602>\u001b[0m in \u001b[0;36m<module>\u001b[0;34m\u001b[0m\n\u001b[1;32m     14\u001b[0m \u001b[0;34m\u001b[0m\u001b[0m\n\u001b[1;32m     15\u001b[0m history = model.fit(X_train,y_train,validation_data = (X_test,y_test), verbose = 1,\n\u001b[0;32m---> 16\u001b[0;31m                        epochs = epochs, batch_size = batch_size)\n\u001b[0m\u001b[1;32m     17\u001b[0m \u001b[0;34m\u001b[0m\u001b[0m\n\u001b[1;32m     18\u001b[0m \u001b[0mmodel\u001b[0m\u001b[0;34m.\u001b[0m\u001b[0msave\u001b[0m\u001b[0;34m(\u001b[0m\u001b[0;34m'fgvgg.h5'\u001b[0m\u001b[0;34m)\u001b[0m\u001b[0;34m\u001b[0m\u001b[0;34m\u001b[0m\u001b[0m\n",
      "\u001b[0;32m~/opt/anaconda3/envs/sml/lib/python3.6/site-packages/tensorflow/python/keras/engine/training.py\u001b[0m in \u001b[0;36mfit\u001b[0;34m(self, x, y, batch_size, epochs, verbose, callbacks, validation_split, validation_data, shuffle, class_weight, sample_weight, initial_epoch, steps_per_epoch, validation_steps, max_queue_size, workers, use_multiprocessing, **kwargs)\u001b[0m\n\u001b[1;32m   1637\u001b[0m           \u001b[0minitial_epoch\u001b[0m\u001b[0;34m=\u001b[0m\u001b[0minitial_epoch\u001b[0m\u001b[0;34m,\u001b[0m\u001b[0;34m\u001b[0m\u001b[0;34m\u001b[0m\u001b[0m\n\u001b[1;32m   1638\u001b[0m           \u001b[0msteps_per_epoch\u001b[0m\u001b[0;34m=\u001b[0m\u001b[0msteps_per_epoch\u001b[0m\u001b[0;34m,\u001b[0m\u001b[0;34m\u001b[0m\u001b[0;34m\u001b[0m\u001b[0m\n\u001b[0;32m-> 1639\u001b[0;31m           validation_steps=validation_steps)\n\u001b[0m\u001b[1;32m   1640\u001b[0m \u001b[0;34m\u001b[0m\u001b[0m\n\u001b[1;32m   1641\u001b[0m   def evaluate(self,\n",
      "\u001b[0;32m~/opt/anaconda3/envs/sml/lib/python3.6/site-packages/tensorflow/python/keras/engine/training_arrays.py\u001b[0m in \u001b[0;36mfit_loop\u001b[0;34m(model, inputs, targets, sample_weights, batch_size, epochs, verbose, callbacks, val_inputs, val_targets, val_sample_weights, shuffle, initial_epoch, steps_per_epoch, validation_steps)\u001b[0m\n\u001b[1;32m    231\u001b[0m                 \u001b[0msample_weights\u001b[0m\u001b[0;34m=\u001b[0m\u001b[0mval_sample_weights\u001b[0m\u001b[0;34m,\u001b[0m\u001b[0;34m\u001b[0m\u001b[0;34m\u001b[0m\u001b[0m\n\u001b[1;32m    232\u001b[0m                 \u001b[0mbatch_size\u001b[0m\u001b[0;34m=\u001b[0m\u001b[0mbatch_size\u001b[0m\u001b[0;34m,\u001b[0m\u001b[0;34m\u001b[0m\u001b[0;34m\u001b[0m\u001b[0m\n\u001b[0;32m--> 233\u001b[0;31m                 verbose=0)\n\u001b[0m\u001b[1;32m    234\u001b[0m             \u001b[0;32mif\u001b[0m \u001b[0;32mnot\u001b[0m \u001b[0misinstance\u001b[0m\u001b[0;34m(\u001b[0m\u001b[0mval_outs\u001b[0m\u001b[0;34m,\u001b[0m \u001b[0mlist\u001b[0m\u001b[0;34m)\u001b[0m\u001b[0;34m:\u001b[0m\u001b[0;34m\u001b[0m\u001b[0;34m\u001b[0m\u001b[0m\n\u001b[1;32m    235\u001b[0m               \u001b[0mval_outs\u001b[0m \u001b[0;34m=\u001b[0m \u001b[0;34m[\u001b[0m\u001b[0mval_outs\u001b[0m\u001b[0;34m]\u001b[0m\u001b[0;34m\u001b[0m\u001b[0;34m\u001b[0m\u001b[0m\n",
      "\u001b[0;32m~/opt/anaconda3/envs/sml/lib/python3.6/site-packages/tensorflow/python/keras/engine/training_arrays.py\u001b[0m in \u001b[0;36mtest_loop\u001b[0;34m(model, inputs, targets, sample_weights, batch_size, verbose, steps)\u001b[0m\n\u001b[1;32m    437\u001b[0m         \u001b[0mins_batch\u001b[0m\u001b[0;34m[\u001b[0m\u001b[0mi\u001b[0m\u001b[0;34m]\u001b[0m \u001b[0;34m=\u001b[0m \u001b[0mins_batch\u001b[0m\u001b[0;34m[\u001b[0m\u001b[0mi\u001b[0m\u001b[0;34m]\u001b[0m\u001b[0;34m.\u001b[0m\u001b[0mtoarray\u001b[0m\u001b[0;34m(\u001b[0m\u001b[0;34m)\u001b[0m\u001b[0;34m\u001b[0m\u001b[0;34m\u001b[0m\u001b[0m\n\u001b[1;32m    438\u001b[0m \u001b[0;34m\u001b[0m\u001b[0m\n\u001b[0;32m--> 439\u001b[0;31m       \u001b[0mbatch_outs\u001b[0m \u001b[0;34m=\u001b[0m \u001b[0mf\u001b[0m\u001b[0;34m(\u001b[0m\u001b[0mins_batch\u001b[0m\u001b[0;34m)\u001b[0m\u001b[0;34m\u001b[0m\u001b[0;34m\u001b[0m\u001b[0m\n\u001b[0m\u001b[1;32m    440\u001b[0m \u001b[0;34m\u001b[0m\u001b[0m\n\u001b[1;32m    441\u001b[0m       \u001b[0;32mif\u001b[0m \u001b[0misinstance\u001b[0m\u001b[0;34m(\u001b[0m\u001b[0mbatch_outs\u001b[0m\u001b[0;34m,\u001b[0m \u001b[0mlist\u001b[0m\u001b[0;34m)\u001b[0m\u001b[0;34m:\u001b[0m\u001b[0;34m\u001b[0m\u001b[0;34m\u001b[0m\u001b[0m\n",
      "\u001b[0;32m~/opt/anaconda3/envs/sml/lib/python3.6/site-packages/tensorflow/python/keras/backend.py\u001b[0m in \u001b[0;36m__call__\u001b[0;34m(self, inputs)\u001b[0m\n\u001b[1;32m   2984\u001b[0m \u001b[0;34m\u001b[0m\u001b[0m\n\u001b[1;32m   2985\u001b[0m     fetched = self._callable_fn(*array_vals,\n\u001b[0;32m-> 2986\u001b[0;31m                                 run_metadata=self.run_metadata)\n\u001b[0m\u001b[1;32m   2987\u001b[0m     \u001b[0mself\u001b[0m\u001b[0;34m.\u001b[0m\u001b[0m_call_fetch_callbacks\u001b[0m\u001b[0;34m(\u001b[0m\u001b[0mfetched\u001b[0m\u001b[0;34m[\u001b[0m\u001b[0;34m-\u001b[0m\u001b[0mlen\u001b[0m\u001b[0;34m(\u001b[0m\u001b[0mself\u001b[0m\u001b[0;34m.\u001b[0m\u001b[0m_fetches\u001b[0m\u001b[0;34m)\u001b[0m\u001b[0;34m:\u001b[0m\u001b[0;34m]\u001b[0m\u001b[0;34m)\u001b[0m\u001b[0;34m\u001b[0m\u001b[0;34m\u001b[0m\u001b[0m\n\u001b[1;32m   2988\u001b[0m     \u001b[0;32mreturn\u001b[0m \u001b[0mfetched\u001b[0m\u001b[0;34m[\u001b[0m\u001b[0;34m:\u001b[0m\u001b[0mlen\u001b[0m\u001b[0;34m(\u001b[0m\u001b[0mself\u001b[0m\u001b[0;34m.\u001b[0m\u001b[0moutputs\u001b[0m\u001b[0;34m)\u001b[0m\u001b[0;34m]\u001b[0m\u001b[0;34m\u001b[0m\u001b[0;34m\u001b[0m\u001b[0m\n",
      "\u001b[0;32m~/opt/anaconda3/envs/sml/lib/python3.6/site-packages/tensorflow/python/client/session.py\u001b[0m in \u001b[0;36m__call__\u001b[0;34m(self, *args, **kwargs)\u001b[0m\n\u001b[1;32m   1437\u001b[0m           ret = tf_session.TF_SessionRunCallable(\n\u001b[1;32m   1438\u001b[0m               \u001b[0mself\u001b[0m\u001b[0;34m.\u001b[0m\u001b[0m_session\u001b[0m\u001b[0;34m.\u001b[0m\u001b[0m_session\u001b[0m\u001b[0;34m,\u001b[0m \u001b[0mself\u001b[0m\u001b[0;34m.\u001b[0m\u001b[0m_handle\u001b[0m\u001b[0;34m,\u001b[0m \u001b[0margs\u001b[0m\u001b[0;34m,\u001b[0m \u001b[0mstatus\u001b[0m\u001b[0;34m,\u001b[0m\u001b[0;34m\u001b[0m\u001b[0;34m\u001b[0m\u001b[0m\n\u001b[0;32m-> 1439\u001b[0;31m               run_metadata_ptr)\n\u001b[0m\u001b[1;32m   1440\u001b[0m         \u001b[0;32mif\u001b[0m \u001b[0mrun_metadata\u001b[0m\u001b[0;34m:\u001b[0m\u001b[0;34m\u001b[0m\u001b[0;34m\u001b[0m\u001b[0m\n\u001b[1;32m   1441\u001b[0m           \u001b[0mproto_data\u001b[0m \u001b[0;34m=\u001b[0m \u001b[0mtf_session\u001b[0m\u001b[0;34m.\u001b[0m\u001b[0mTF_GetBuffer\u001b[0m\u001b[0;34m(\u001b[0m\u001b[0mrun_metadata_ptr\u001b[0m\u001b[0;34m)\u001b[0m\u001b[0;34m\u001b[0m\u001b[0;34m\u001b[0m\u001b[0m\n",
      "\u001b[0;31mKeyboardInterrupt\u001b[0m: "
>>>>>>> rish_trials
     ]
    }
   ],
   "source": [
    "from tensorflow.python.keras.optimizers import RMSprop\n",
    "from tensorflow.python.keras.callbacks import ModelCheckpoint, EarlyStopping\n",
    "\n",
    "# checkpoint = ModelCheckpoint(\"face_recog_vgg.h5\", monitor=\"val_loss\", mode = \"min\", save_best_only = True, verbose = 1)\n",
    "# earlystop = EarlyStopping(monitor= 'val_loss', min_delta=0, patience=3, verbose=1,\n",
    "#                           restore_best_weights=True\n",
    "#                          )\n",
    "# callbacks = [earlystop, checkpoint]\n",
    "\n",
    "model.compile(loss=\"categorical_crossentropy\", optimizer=\"Adam\",metrics=['accuracy'])\n",
    "\n",
    "epochs=50\n",
    "batch_size=64\n",
    "\n",
    "history = model.fit(X_train,y_train,validation_data = (X_test,y_test), verbose = 1,\n",
    "                       epochs = epochs, batch_size = batch_size)\n",
    "\n",
    "model.save('fgvgg.h5')"
   ]
  },
  {
   "cell_type": "code",
   "execution_count": 151,
   "metadata": {},
   "outputs": [
    {
     "data": {
      "image/png": "iVBORw0KGgoAAAANSUhEUgAAAYIAAAEWCAYAAABrDZDcAAAAOXRFWHRTb2Z0d2FyZQBNYXRwbG90bGliIHZlcnNpb24zLjMuMiwgaHR0cHM6Ly9tYXRwbG90bGliLm9yZy8vihELAAAACXBIWXMAAAsTAAALEwEAmpwYAAA7KElEQVR4nO3dd3hUZfbA8e9JT0joNaE36TWAICiKhaKAqAiCiA3sbXXVtay6/tTd1bULCmKjCygoUSkiIr33FloSWkKAkF7f3x93gBCSMMDcmSRzPs8zT2bm3pn3zGW4Z+5bxRiDUkop7+Xj6QCUUkp5liYCpZTycpoIlFLKy2kiUEopL6eJQCmlvJwmAqWU8nKaCJRXEZGvReRNJ/fdLyLX2x2TUp6miUAppbycJgKlSiER8fN0DKrs0ESgShxHlcxzIrJJRFJF5EsRqSEiv4hIsogsEJFK+fbvLyJbReSkiPwhIs3zbWsvIuscr5sGBBUo62YR2eB47TIRaeNkjP1EZL2InBKRWBF5rcD27o73O+nYPtLxfLCIvCciB0QkSUT+cjzXU0TiCjkO1zvuvyYiM0RkooicAkaKSGcRWe4o47CIfCIiAfle31JE5ovIcRE5KiL/EJGaIpImIlXy7ddRRBJExN+Zz67KHk0EqqS6DbgBaArcAvwC/AOoivW9fQJARJoCU4CngGpAFPCTiAQ4Too/At8BlYHvHe+L47UdgAnAaKAK8DkwR0QCnYgvFRgBVAT6AQ+LyEDH+9Z1xPuxI6Z2wAbH694FOgLdHDH9Hchz8pgMAGY4ypwE5AJPYx2TrkAv4BFHDGHAAuBXIBxoDCw0xhwB/gAG53vf4cBUY0y2k3GoMkYTgSqpPjbGHDXGHASWACuNMeuNMZnAD0B7x353AnONMfMdJ7J3gWCsE+2VgD/wgTEm2xgzA1idr4wHgc+NMSuNMbnGmG+ATMfrimWM+cMYs9kYk2eM2YSVjK5xbB4GLDDGTHGUm2iM2SAiPsB9wJPGmIOOMpc5PpMzlhtjfnSUmW6MWWuMWWGMyTHG7MdKZKdjuBk4Yox5zxiTYYxJNsasdGz7Buvkj4j4AkOxkqXyUpoIVEl1NN/99EIehzruhwMHTm8wxuQBsUCEY9tBc+7Migfy3a8H/M1RtXJSRE4CdRyvK5aIdBGRRY4qlSTgIaxf5jjeY08hL6uKVTVV2DZnxBaIoamI/CwiRxzVRW85EQPAbKCFiDTEuupKMsasusSYVBmgiUCVdoewTugAiIhgnQQPAoeBCMdzp9XNdz8W+D9jTMV8txBjzBQnyp0MzAHqGGMqAGOB0+XEAo0Kec0xIKOIbalASL7P4YtVrZRfwamCxwA7gCbGmPJYVWcXigFjTAYwHevK5W70asDraSJQpd10oJ+I9HI0dv4Nq3pnGbAcyAGeEBE/ERkEdM732nHAQ45f9yIi5RyNwGFOlBsGHDfGZIhIZ+CufNsmAdeLyGBHuVVEpJ3jamUC8D8RCRcRXxHp6miT2AUEOcr3B14GLtRWEQacAlJEpBnwcL5tPwM1ReQpEQkUkTAR6ZJv+7fASKA/MNGJz6vKME0EqlQzxuzEqu/+GOsX9y3ALcaYLGNMFjAI64R3Aqs9YVa+167Baif4xLE92rGvMx4B3hCRZOBVrIR0+n1jgL5YSek4VkNxW8fmZ4HNWG0Vx4F/Az7GmCTHe47HuppJBc7pRVSIZ7ESUDJWUpuWL4ZkrGqfW4AjwG7g2nzbl2I1Uq9ztC8oLya6MI1S3klEfgcmG2PGezoW5VmaCJTyQiLSCZiP1caR7Ol4lGdp1ZBSXkZEvsEaY/CUJgEFekWglFJeT68IlFLKy5W6iauqVq1q6tev7+kwlFKqVFm7du0xY0zBsSlAKUwE9evXZ82aNZ4OQymlShUROVDUNq0aUkopL6eJQCmlvJwmAqWU8nKlro2gMNnZ2cTFxZGRkeHpUGwXFBRE7dq18ffXNUSUUq5RJhJBXFwcYWFh1K9fn3MnmixbjDEkJiYSFxdHgwYNPB2OUqqMsK1qSEQmiEi8iGwpYruIyEciEi3WkoQdLrWsjIwMqlSpUqaTAICIUKVKFa+48lFKuY+dbQRfA72L2d4HaOK4jcKaW/2SlfUkcJq3fE6llPvYVjVkjPlTROoXs8sA4FvH6lErRKSiiNQyxhy2KyallLpUqZk5pGbmkJmTR1ZuHlk5jlu++/m3ZReyj48IAX4+Z26BvmfvB/j64O/4G+DnQ2C+50/vExroR5C/r8s/myfbCCI4d+m9OMdz5yUCERmFddVA3bp1C272uJMnTzJ58mQeeeSRi3pd3759mTx5MhUrVrQnMKWU0/LyDEdOZRBzPI2YxDTr7/E0DhxPI/Z4GsdTszwdIqOvaciLfZq7/H09mQgKq+ModAY8Y8wXwBcAkZGRJW6WvJMnT/LZZ5+dlwhyc3Px9S06e0dFRdkdmlIqn/SsXGJPpHHg9Ik+MfXMyT7ueDpZuXln9vX1ESIqBlO3cgg3taxJ3cohlA/2O+cXu7/v+b/aA/18CPD1PfPY31fO7JNnOHv1kJt73hVDdq7jqqKQq42s3Dxahpe35bh4MhHEYa0te1ptrPVnS50XXniBPXv20K5dO/z9/QkNDaVWrVps2LCBbdu2MXDgQGJjY8nIyODJJ59k1KhRwNnpMlJSUujTpw/du3dn2bJlREREMHv2bIKDgz38yZQqOTKyczmZlk1KZjbJGTmkZuaeuZ/iqLZJzswhJf9jx/0Ux/2Cv+rDAv2oWyWEK2qEcUOLGtStHELdyiHUq1yOWhWD8Pd1bTOqr0BwgC/BAb5AyekC7slEMAd4TESmAl2AJFe0D7z+01a2HTp12cHl1yK8PP+8pWWR29955x22bNnChg0b+OOPP+jXrx9btmw508VzwoQJVK5cmfT0dDp16sRtt91GlSpVznmP3bt3M2XKFMaNG8fgwYOZOXMmw4cPd+nnUKo02nboFN8s28+PGw6SmZNX7L6Bfj6EBfkRGuhHuUDrb60KQWceh1cMps6Zk30IFUP8tQMGNiYCEZkC9ASqikgc8E8cKdAYMxaIwlrXNRpIA+61KxZ369y58zn9/D/66CN++OEHAGJjY9m9e/d5iaBBgwa0a9cOgI4dO7J//353hatUiZOTm8eC7Uf5aul+Vu47TrC/L4M61KZN7QqEOk7woY4TfmigH2FB1one1b/gvYWdvYaGXmC7AR51dbnF/XJ3l3Llyp25/8cff7BgwQKWL19OSEgIPXv2LHQcQGBg4Jn7vr6+pKenuyVWpUqSk2lZTF0dy3fLD3DwZDq1KwXzUt/mDI6sQ4WQklOVUtaUiZHFnhYWFkZycuEr/iUlJVGpUiVCQkLYsWMHK1ascHN0SpV8O45Y1T8/rD9IRnYeXRtW4dVbWnB98xr4+mjVjd00EbhAlSpVuOqqq2jVqhXBwcHUqFHjzLbevXszduxY2rRpwxVXXMGVV17pwUiVKjly8wwLth/l66X7Wb43kUA/HwZ1iOCebvVpVtOe3jGqcKVuzeLIyEhTcGGa7du307y56/vWllTe9nlV2ZKUls20NTF8u/wAcSfSiagYzN1d63FnZB0qlQvwdHhlloisNcZEFrZNrwiUUm6x+2gyXy3bzw/rDpKenUuXBpV5uV9zrm9eAz9t5PUoTQRKKVvtPprMBwt2M3fzYQL8fBjYLpyR3RrQwqbBUeriaSJQStli37FUPlywi9kbDxHi78tj1zbmvu4NqKzVPyWOJgKllEvFHk/jo4W7mbX+IAG+Poy6uiGjr26kCaAE00SglHKJQyfT+fj3aL5fE4uPjzCyW30euqYR1cICL/xi5VGaCJRSlyX+VAafLopmyqpYDIa7utTl0WsbU6N8kKdDU07SpnoXOD376KX44IMPSEtLc3FEStnvWEomb/68jR7/WcSklTHc1jGCP567ljcGtNIkUMpoInABTQTKm5xIzeKdX3bQ49+LmLB0H7e0Def3v/Xk7UFtiKioM+aWRlo15AL5p6G+4YYbqF69OtOnTyczM5Nbb72V119/ndTUVAYPHkxcXBy5ubm88sorHD16lEOHDnHttddStWpVFi1a5OmPolSRktKz+XLJXiYs3U9qVg7924bzZK8mNKwW6unQ1GUqe4nglxfgyGbXvmfN1tDnnSI355+Get68ecyYMYNVq1ZhjKF///78+eefJCQkEB4ezty5cwFrDqIKFSrwv//9j0WLFlG1alXXxqxUPrl5hvjkDJLSs0nJsObtT803d781v7/jfmHbsqy/uXmGvq1r8tT1TWlaI8zTH0u5SNlLBB42b9485s2bR/v27QFISUlh9+7d9OjRg2effZbnn3+em2++mR49eng4UlXWpGXlnL/MYqK1zGLciXNX3ypMSIDvmemdwxx/K5cLOfM4LMifPq1r0jK8gps+kXKXspcIivnl7g7GGF588UVGjx593ra1a9cSFRXFiy++yI033sirr77qgQhVaWWMISE5kwOOk/3ptXQPJKYSczydYymZ5+wfFuRHvSohNKsVxg0ta1CnUgiVywWcN5d/aJAf5QL8dJZPL1b2EoEH5J+G+qabbuKVV15h2LBhhIaGcvDgQfz9/cnJyaFy5coMHz6c0NBQvv7663Neq1VDqjj7jqUy5IvlHD119mQvAuEVrDV1ezWrTt0qIWeXWqwSQoVgXX1LOUcTgQvkn4a6T58+3HXXXXTt2hWA0NBQJk6cSHR0NM899xw+Pj74+/szZswYAEaNGkWfPn2oVauWNharQmXl5PHk1PVkZOfxxoCWjhN9OSIqBhPgpx3/1OXTaahLIW/7vN7unV92MHbxHsYO70DvVrU8HY4qpYqbhlp/TihVgi3bc4zP/9zD0M51NAko22giUKqEOpGaxTPTNtKgajleubmFp8NRZViZSQSlrYrrUnnL5/R2xhhenLWZxNRMPhrSnpAAbc5T9ikTiSAoKIjExMQyf5I0xpCYmEhQkM7jUtZNWx3Lr1uP8OyNV9AqQvvtK3uViZ8ZtWvXJi4ujoSEBE+HYrugoCBq167t6TCUjfYkpPD6T9u4qnEVHuzR0NPhKC9QJhKBv78/DRo08HQYSl22rJw8npq6gUB/H967ox0+OshLuUGZSARKlRXvzd/J5oNJfH53R2pW0CpA5R5loo1AqbJgafQxPl+8l7u61OWmljU9HY7yIpoIlCoBTqRm8cz0DTSqVo5X+mlXUeVeWjWklIcZY3h+5iaOp2bx5T2dCA7w9XRIqiTJy4P4rXBgOdRoCfWvcnkRmgiU8rApq2KZt+0oL/Vtrl1FFeRkweENcGCpdfKPXQEZSda2ro9pIlCqrImOT+GNn7fSo0lV7u+uPd+8UmYKxK2GA8sgZjnErYGcdGtblSbQYgDU7Qb1ukHFuraEoIlAKQ/JzMnlyanrCfb35d072mpXUW+Rdtw64R9YZt0ObwSTC+JjrYbYcaR10q/bFUKruSUkTQRKech783ax9dApxo2IpEZ57SpaZiXFWVU8MY4Tf8IO63nfQIjoCN2fhnpdoXZnCCrvkRA1ESjlAUt2J/DFn3sZfmVdbmhRw9PhKFcxBo7tOlvNc2A5JMVY2wLLQ50u0GawVdUT0QH8Aj0br4MmAqXc7HhqFn+bvpHG1UN5qa92FS3VcnPgyKazVT0xKyDtmLWtXHXrl37XR62/NVqBT8nsEWZrIhCR3sCHgC8w3hjzToHtFYCJQF1HLO8aY76yMyalPMkYw99nbOJkWjZf39tZu4qWNtnpcHDt2aqe2FWQlWJtq1QfmtxonfTrdoMqjaz1REsB2xKBiPgCnwI3AHHAahGZY4zZlm+3R4FtxphbRKQasFNEJhljsuyKSylPmrQyhgXbj/Jyv+a0CPdMfbBHpB2Hn56ENndC85s9Hc3FS9wDUc/B/iWQ6zg9VW8JbYdYjbr1ukH5cM/GeBnsvCLoDEQbY/YCiMhUYACQPxEYIEysFbZDgeNAjo0xKeUx0fHJvDl3Gz2aVOW+q7yoq2huNnx/D+z7E3b8DAPHWCfQ0sAY2DjFSgI+vtBlNNS7yqrrD6ns6ehcxs5EEAHE5nscB3QpsM8nwBzgEBAG3GmMySv4RiIyChgFULeuPf1olbJTRnYuT0zZQEiAH+95U1dRY6yT6L4/od97sG02/PAQZKdB5H2ejq546Sdh7jOwZaZ18r/1c6hYx9NR2cLOuYYK+6YXXDnmJmADEA60Az4RkfOul40xXxhjIo0xkdWquadfrVKu9PpP29h2+BT/vb0N1b2pq+jKz2HtV1YXyU4PwF3TockN8PPTsPxTT0dXtAPLYWwP2PojXPcy3PNTmU0CYG8iiAPyH7naWL/887sXmGUs0cA+oJmNMSnldt+viWXKqhge7tmIXs29qKvo7gXw24vQ7Ga47lXrOf9guHMSNO8Pv/0DFv/XumooKXJzYNHb8HVf8PGB+36Dq58rsb19XMXORLAaaCIiDUQkABiCVQ2UXwzQC0BEagBXAHttjEkpt9p6KImXf9xCt0ZV+NsNTT0djvvE74AZ91oNqrd+bp1UT/MLgNu/gjZDYNGbsPD1kpEMThywEsDid6D1YBi9BOp08nRUbmFbG4ExJkdEHgN+w+o+OsEYs1VEHnJsHwv8C/haRDZjVSU9b4w5ZldMSrlTUno2D09cR6WQAD4a2h4/Xy+Z9T01EabcCX5BMHQKBIaev4+vn9VoHBACf70PWWnQ+51zE4Y7bZ5hVVcBDBoPbe7wTBweYus4AmNMFBBV4Lmx+e4fAm60MwalPCEvz/C36Rs4dDKdaaO7UjW0BIwgTT8JQRXs7duekwXT74ZTh2Hk3OLr1X18oN//wD8Eln9iNSDf8qF7q2Eyk63G7I1TrJ5Ag76wxgN4GR1ZrJQNxizew4Lt8bx2Sws61qvk2WByc2DJe7D439D4ehj4GZSr6vpyjIG5T1vTJw8a71y1igjc+KaVDP78jzVg69ax4Ovv+vgKilsDM++HkzFwzQtWW4Cvd54SvfNTK2WjpdHHeG/eTvq3DeeebvU9G8zJGJj5oDWnfcOesPcPGNPNqpZp3Mu1ZS3/FNZPtE6oF1O1IgLXvWRVEy14DXIy4PYJ9s3Dk5drVUctegvKR8DIKGs0sBfzkkpLpdzjcFI6T0xZT6Nqobw9qDXiySkGNs+AMd3h6Fa49QsYMRse/B2CK8HEQfDbS5CT6Zqydv4K81625s7v+Y9Le4/uT0Of/1qDzqYMtdoNXC0pDr7pD7//C1oOhIeWeH0SAE0ESrlMVk4ej0xaR0Z2LmOGd6RcoIcuuDOT4YeHrWqPak2tk13bO61tNVvBqD+sPv3LP4HxvSBh5+WVd3SbVVattjBw7OU1+HYZBf0/gT2/w6Tbrc/iChmnYONUGHOVtfrXwLFw25cQXNE171/KadWQUi7yVtR21sec5LNhHWhcvZCeMu4Qt9ZR730Arv47XPP38+vb/YOtUb6NesHsR+Hza6D3W9Dx3otvSE5JsHoIBYRaPYQCQi7/M3S424px1ij4diAMn2FdxVxsXDHLzk4Od2QzmDwI7wC3jbcmhFNnaCJQygVmbzjI18v280D3BvRtXcv9AeTlwtIPrHrv0JpWj5163Yp/TbO+EL4MfnzI6joZvRD6f+z8HDo5mTBtOKTEw72/uHbStda3W8ng+5Hw9S1w9w9Fr9ZljNUWcmDZ2ZN/4m5rm18Q1O5ktVvU7Qr1e3htg3BxxJSEgRwXITIy0qxZs8bTYSh1xq6jyQz4ZCmtIsoz+cEr8Xf3eIGkg/DDaGtmzJa3ws3vX9wv6Lw8WPEpLHjd6k106+fQ8JriX2MM/Piw1e3y9q+g1aDL+wxFiV4IU4dZ3VBHzIHytax4j+08u7h7zHI4ddDaP6iCdcI/PSNorXbWADaFiKw1xkQWuk0TgVKXLjkjmwGfLOVURg5RT3R3/zxC2+bAnMetGT77/gfaDbv0cQKHNsDMByAxGq56Eq59qeiT6F/vWz18ev4Dej5/qdE7Z/9SmDzYSlLVW1gn/vQT1rawWmdP+nW7Wts9NSithCsuEeg1klKX6PQiMweOpzH5gS7uTQJZqfDri7DuGwhvbzV8Xm69d3g7GL3Yet+lH8C+xYW/7/afrauHVrdZbRB2q3+VdTUwfYTVsN2sn7XwS71u1uCvUrL4S0mmiUCpS/TlX/v4ZcsR/tG3GV0aVnFfwfl/uXd/2vpV7qrqj4By0P8ja+DZnMetGTjzX2kc3mQ14kZ0gAGfuu8kXLsjPLPVPWV5IU0ESl2ClXsTefuXHfRuWZMHezR0T6Hn1OVXg3vmQIOr7SmrRX+I6Gi1Pcx+FKIXWAlnylCry+WQyVZjrioTNBEodZHiT2Xw2JT11K0cwn/vaOOeQWPJR6wFXfYusqZ1vpjePZeqQoQ1CG3ph7Do/6y5+f2D4b5fIaymvWUrt9JEoNRFyM7N47HJ60nJyGHi/V0IC3LDnDg7f7F+lWelWT2CLqW//6Xy8YUez1i9iOb/E7o+ag0cU2WKJgKlLsJ/ft3Bqv3H+eDOdlxRM8zewrLTrWkbVo+Hmq3htgnWSGFPiOgII3/2TNnKdpoIlHJS1ObDjFuyjxFd6zGwfYS9hR3ZYjUIJ2yHro9Br1ftm4RNeT1NBEo5Ye6mw/x9xkba1anIS/2a21eQMdY6v/NftQZHDZ/l+llClSpAE4FSxTiemsWrs7fw86bDtKldgTHDOxDoZ9PCKSkJMPsR2D0Pmtxkdc8saloFpVxIE4FSRfh1yxFe/nEzSenZPHfTFYy+uqF9y03uXmDN+ZNxCvq+a80OqgOllJtoIlCqgJNpWbw2Zys/bjhEy/DyTHygC81qlrensOwMa/H2FZ9Z0yOMmAM1WthTllJF0ESgVD4Lth3lxR82cyI1i6evb8oj1zaybxK5+B3WlNFHt0Dn0XDD6zpIS3mEJgKlgKT0bN74aRsz18XRrGYYX9/biZbhFewpzBhYMwF++4c1j/9d06HpTfaUpZQTNBEor7doZzwvzNzEsZQsnriuMY9d14QAP5uuAlITrTl8ds6FRtdZK2WF1bCnLKWcpIlAea1TGdn838/bmbYmlqY1Qhk/ohOta9t0FQDWwvGzRkP6cbjpLejysE6ZrEoETQTKKy3ZncDzMzZx5FQGD/dsxFPXN7GvWyhA7Gr47lao0hiGfQ+12thXllIXSROB8iopmTm8FbWdyStjaFStHDMf7kb7uhe5Hu7FysuFqL9BaA14YCEE2dQDSalLpIlAeY1le47x3PebOJSUzqirG/LMDU0J8rfxKuC0tV/D4Y3WIi+aBFQJpIlAeYWNsScZNn4l9auUY8ZDXelYz+YpnE9LTYSFb1iLpre6zT1lKnWRNBEor/DJomjKB/kz+7GrKO+OqaNPW/g6ZKVA3//qSGFVYmmXBVXm7TySzPxtRxnZrb57k8DBtbDuW+jyEFS3caI6pS6TJgJV5o35I5qQAF9GdqvvvkLz8mDusxBaHa553n3lKnUJnEoEIjJTRPqJiCYOVarEJKYxZ+MhhnWpS6VyLlrg3Rnrv4VD6+DGN7WBWJV4zp7YxwB3AbtF5B0RaWZjTEq5zNg/9+Dn48MD7lpgHiDtuLXAfL2roPUd7itXqUvkVCIwxiwwxgwDOgD7gfkiskxE7hURN1a6KuW8o6cymLEmjjsia1OjfJD7Cv79TchI0gZiVWo4XdUjIlWAkcADwHrgQ6zEMN+WyJS6TOOX7CXXGEZf3ch9hR7aYE0o13kU1GjpvnKVugxOdR8VkVlAM+A74BZjzGHHpmkissau4JS6VCdSs5i0Mob+bcOpWyXEPYXm5UHUs1CuKvR8wT1lKuUCzl4RfGKMaWGMeTtfEgDAGBNZ1ItEpLeI7BSRaBEp9H+GiPQUkQ0islVEFl9E7EoV6etl+0nLyuXhnm68Gtg4GeJWww1vQHBF95Wr1GVyNhE0F5GKpx+ISCUReaS4F4iIL/Ap0AdoAQwVkRYF9qkIfAb0N8a0BLRlTV22lMwcvl62nxtb1KBpjTD3FJp+Aub/E+p0gTZD3FOmUi7ibCJ40Bhz8vQDY8wJ4MELvKYzEG2M2WuMyQKmAgMK7HMXMMsYE+N433gn41GqSJNWHCApPZtHrm3svkIXvWVNL933XZ1aWpU6zn5jfUTOdn9w/Nq/UKfsCCA23+M4x3P5NQUqicgfIrJWREYU9kYiMkpE1ojImoSEBCdDVt4oIzuXcUv20b1xVdrVqeieQg9vgtXjIfJ+nV5alUrOJoLfgOki0ktErgOmAL9e4DWF9ZszBR77AR2BfsBNwCsi0vS8FxnzhTEm0hgTWa1aNSdDVt7o+7VxHEvJ5JFr3dQ2YAxEPQfBleG6l9xTplIu5uykc88Do4GHsU7w84DxF3hNHFAn3+PawKFC9jlmjEkFUkXkT6AtsMvJuJQ6Izs3j88X76F93Yp0bVjFPYVunAqxK6D/JxBs87oGStnE2QFlecaYMcaY240xtxljPjfG5F7gZauBJiLSQEQCgCHAnAL7zAZ6iIifiIQAXYDtF/shlAL4aeMh4k6k82jPxog7BnJlJMH8VyEiEtoNs788pWzi7DiCJsDbWL1/zgzRNMYUOW7fGJMjIo9hVSv5AhOMMVtF5CHH9rHGmO0i8iuwCcgDxhtjtlzyp1FeKy/P8Nkfe2hWM4zrmlV3T6GL3obUBBg2XRuIVanmbNXQV8A/gfeBa4F7KbwN4BzGmCggqsBzYws8/i/wXyfjUKpQ87YdJTo+hQ+HtMPHxw1XA0e3wqovIPJeCG9vf3lK2cjZnzHBxpiFgBhjDhhjXgOusy8spZxnjOGzP6KpVyWEfq1ruaNAa4rpoApw3Sv2l6eUzZy9IshwTEG921HdcxBw0/W3UsX7K/oYm+KSeGdQa/x83VBFs/l7iFkGt3wIIW5a8lIpGzn7v+YpIAR4Aqu753DgHptiUuqifLoomprlg7i1Q8FhKjbIOAXzXobwDtC+0GEvSpU6F7wicAweG2yMeQ5IwWofUKpEWHvgOCv2HueVm1sQ6Odrf4GL/w0p8TBkijYQqzLjgt9kRzfRjuKW/nhKXZzPFu2hUog/QzvXufDOlyt+B6wcCx3uhtod7S9PKTdxto1gPTBbRL4HUk8/aYyZZUtUSjlh26FTLNwRz99uaEpIgLNf5Ut0eorpgFDo9Zq9ZSnlZs7+76kMJHJuTyEDaCJQHvPZH9GEBvoxomt9ewtKPgI/jIb9S+Dm96Gcm0YtK+UmTiUCY4y2C6gSZW9CCnM3H2b01Y2oEGLjaqk7f4HZj0JWGtz8AXQcaV9ZSnmIsyOLv+L8CeMwxtzn8oiUcsLni/cS4OvD/d0b2FNAdrrVO2j1eKjZGm6bANXOmw9RqTLB2aqhn/PdDwJu5fwJ5JRyi0Mn05m1Po6hnetSLSzQ9QUc2QIz74eEHdD1Mej1KvjZUI5SJYSzVUMz8z8WkSnAAlsiUuoCxi3ZizEw6uoip7q6NMbAys+tieSCK8LwWdC4l2vLUKoEutSuFk2Auq4MRClnJKZkMmVVDAPaRVC7kgsXpU+Jhx8fgej50LQ3DPjUWoReKS/gbBtBMue2ERzBWqNAKbf6aul+MnPyeLinC68Gdi+AHx+CzGRrqclOD4AOm1FexNmqITetAK5U0U5lZPPN8v30blmTxtVd8JXMzoCFr8OKz6B6CxgxB2q0uPz3VaqUcWqMvIjcKiIV8j2uKCIDbYtKqUJMXHGA5IwcHunpgkXp43fA+F5WEug8Gh78XZOA8lrOTpbyT2NM0ukHxpiTWOsTKOUWiSmZfLlkH9c0rUbr2hUu/IKiGGN1Cf3iGmug2F3Toe9/wD/YdcEqVco421hcWMKweUy/UpZFO+J5bsYmkjNyePL6Jpf+RqmJMOcx2BkFjXrBwDEQVsN1gSpVSjl7Ml8jIv8DPsVqNH4cWGtbVEoB6Vm5/F/UNiauiOGKGmF8d39nmtcqf/FvlJ0O676DJe9C+gm46W3o8pDOHqqUg7OJ4HHgFWCa4/E84GVbIlIK2Bh7kqenbWDvsVQe6N6AZ2+6giD/i5xmOuMUrPkSln9qrS1cpwsMmwG12tgTtFKllLO9hlKBF2yORSlycvP47I89fLhwN9XDApn8QBe6Nb7I/vxpx2HFGFj1OWQkWdVAPf4G9bppt1ClCuHsOIL5wB2ORmJEpBIw1Rhzk42xKS9zIDGVp6ZtYH3MSQa0C+eN/q0ubkK5U4dh+Sew5ivIToXmt0D3ZyCig31BK1UGOFs1VPV0EgAwxpwQEV2zWLmEMYapq2P518/b8PMRPhranv5tw51/g+P7YOmHsGES5OVC6zug+9NQvZl9QStVhjibCPJEpK4xJgZAROpTyGykSl2sYymZvDBzMwu2H6Vboyq8e0dbwis62ZUzfjv89T5sngE+vtB+OHR7AirbNCOpUmWUs4ngJeAvEVnseHw1MMqekJS3WLDtKC/M2sSpjBxe7tec+65qgI+PE3X4B9fBkvdgx8/gXw6ufNiaJbR8LfuDVqoMcrax+FcRicQ6+W8AZgPpNsalyrDUzBzenLudKatiaFYzjEkPXMkVNZ2YMmL/UqsL6J7fIagCXPO81Q00pLL9QStVhjnbWPwA8CRQGysRXAks59ylK5W6oPUxJ3h62gYOHE9j9NUNeebGpgT6OdEtdMl7sPANKFcdrn8dIu+DoEsYU6CUOo+zVUNPAp2AFcaYa0WkGfC6fWGpsiYvz/DR77v5+PdoapYPYsqDV3JlQyfW/jUGfv+XlQha3wH9P9bpIJRyMWcTQYYxJkNEEJFAY8wOEbnC1shUmTJjbRwfLNjNwHbhvDGwFeWDnOgWagz8+iKsHAMd7rEWjve5yEFlSqkLcjYRxIlIReBHYL6InECXqlROSsvK4d15O2lftyLv39kOcWZQV14u/Pw0rPsGujwMvd/WwWBK2cTZxuJbHXdfE5FFQAXgV9uiUmXKuD/3EZ+cyZjhHZxLArk58OPDsHm6NSL4ulc0CShlo4ueQdQYs/jCeylliT+Vwed/7qFv65p0rOdE756cLJh5H2z/yUoAVz9rf5BKeTmdSlrZ6v0Fu8jOzePvNzkxyjc7Habdba0b3Psda3yAUsp2mgiUbXYeSWba6lhGdmtA/arlit85MxmmDIX9f8EtH0LHkW6JUSmliUDZ6K2o7YQG+vFErwssLZl+Eibdbo0YHvQFtBnslviUUhZdmUPZ4s9dCSzelcATvZpQMSSg6B1TE+GbW+DQBhj8jSYBpTzA1kQgIr1FZKeIRItIkesZiEgnEckVkdvtjEe5R26e4a2o7dSpHMzdXesVvWPyEfi6LxzbBUOnWNNGK6XczrZEICK+WEtb9gFaAENFpEUR+/0b+M2uWJR7zVwXx44jyTzfu1nR00ecjIWv+lh/h82AJje4N0il1Bl2XhF0BqKNMXuNMVnAVGBAIfs9DswE4m2MRblJWlYO783bSbs6FenXuojZQBP3WEkgNRFGzIYGPdwbpFLqHHYmggggNt/jOMdzZ4hIBHArMLa4NxKRUSKyRkTWJCQkuDxQ5Trjl+zj6KlMXu7XvPDBY/E74Ku+kJ0GI3+COp3cH6RS6hx2JoLChoIWXMzmA+B5Y0xucW9kjPnCGBNpjImsVq2aq+JTLhafnMHYxXvo06omkfULGTx2eKPVJgAwMgpqtXVvgEqpQtnZfTQOqJPvcW3On58oEpjq+OVYFegrIjnGmB9tjEvZ5P351uCx53s7Bo8ZAwk7IWYZHFgGO3+F4IpWdVCVRh6NVSl1lp2JYDXQREQaAAeBIcBd+XcwxpxZU1BEvgZ+1iRQOu08ksyM1ft5vm0W9XdNgPnLIWY5pB+3dgitAU1vtNYSqFin+DdTSrmVbYnAGJMjIo9h9QbyBSYYY7aKyEOO7cW2C6hSICsNDq6BA8vJXvErGwO3ErIjE3YAlRrAFX2hXleo2xUqN9SJ45QqoWwdWWyMiQKiCjxXaAIwxoy0MxblAuknIGalo6pnORxaD3nZGATfvDrsqzuQllf2hnrdIKymp6NVSjlJp5hQzjm8CSbcZPX28fGHiA7Q9VFy63RlcFQeR7ODWDjyGnBm2UmlVImiiUA5Z/mnID5wz09Qu9OZ5SJnrYllbfwmPh5azOAxpVSJpolAXVjqMdg6y1oussHVZ54+vfJYuzoVublNEYPHlFIlnk46py5s3beQmwWdHjjn6QsOHlNKlQqaCFTx8nJhzVdQvwdUP7u4zAUHjymlSg1NBKp4u36DpBjo/OA5T78/fzdZOfkGjymlSi1NBKp4q8dBWDhc0e/MU7uOJjNtdQx3d6134ZXHlFIlniYCVbRj0bDnd4i8F3zP9it4O2o75QL9eOK6Jh4MTinlKpoIVNHWfGmNGehwz5mn/tp9jEU7E3j8usZUKlfMymNKqVJDE4EqXFYqrJ8ELfpDWA3AWnns/6K2U7tSMCO61vdsfEopl9FEoAq3+XvITIJOZxuJZ62LY/vhU/y9dzOC/HXwmFJlhSYCdT5jYNV4qNEK6l4JnDt47BYdPKZUmaKJQJ0vdiUc3WwNIBPBGMNz328iPlkHjylVFmkiUOdbNQ4CK0CbwQB8tDCauZsP80LvZjp4TKkySBOBOldKPGybDe3ugoByRG0+zPsLdjGoQwSjrm7o6eiUUjbQRKDOtfYbyMuGTg+w5WASz0zfQPu6FXnr1tZaJaRUGaWJQJ2VmwNrJkDDa4kPrM2ob9dQKSSAz+/uqL2ElCrDNBGos3bOheRDZHW4n9HfreVEWjbjRkRSPSzI05EppWykiUCdtWocpkJtXtwazvqYk7w3uC2tIip4OiqllM00EShL/A7Yv4TVVQYyc/0Rnrq+CX1b63gBpbyBJgJlWT2ePB9/Ht7ein6ta+mEckp5EV2qUkFmMrkbpjA3tys1a9Xm3Tva4uOjPYSU8hZ6RaBIWz0J3+wUZvr1YdyISIIDtIeQUt5Erwi8XHZOLol/fMoe05AnRwwhvGKwp0NSSrmZXhF4uW+nTKROTgxZ7e+jQz2dPkIpb6SJwIt9t3w/NXdNJN2vPB37PeDpcJRSHqJVQ15qafQxxvz0F0sC1iCdHgV/rRJSylvpFYEX2n8slUcmrePhsCX4YPDpdL+nQ1JKeZAmAi9zKiOb+79ZTQDZ3OX7O9LkBqjcwNNhKaU8SBOBF8nNMzw+eT0HEtOY1P0Yvmnx5yxFqZTyTpoIvMg7v2xn8a4EXh/QkqYHpkKl+tD4ek+HpZTyME0EXmL2hoOMW7KPe7rWY1j9FIhZBpH3g49+BZTydnoW8ALR8cm8OGsznepX4uWbW1hLUfoFQfvhng5NKVUCaCIo49Kycnh44jqC/X35eGgH/LOTYdN0aHU7hOgAMqWUzYlARHqLyE4RiRaRFwrZPkxENjluy0SkrZ3xeBtjDC//sIXohBQ+GNKOmhWCYMMUyE6FzjqATCllsS0RiIgv8CnQB2gBDBWRFgV22wdcY4xpA/wL+MKueLzR9DWxzFp/kCeua0KPJtXAGFg9HiIiIby9p8NTSpUQdl4RdAaijTF7jTFZwFRgQP4djDHLjDEnHA9XALVtjMerbDt0ildnb6V746o80cuxtsDePyBxN3TWLqNKqbPsTAQRQGy+x3GO54pyP/BLYRtEZJSIrBGRNQkJCS4MsWxKzsjm0cnrqBDszwdD2uF7em2B1eMhpAq0GOjR+JRSJYudiaCwlU1MoTuKXIuVCJ4vbLsx5gtjTKQxJrJatWouDNGNjkXDjPtg+0+Ql2dbMcYYXpi5mZjjaXxyVweqhgZCXi5sngE7o6DDCPDXxeiVUmfZOelcHFAn3+PawKGCO4lIG2A80McYk2hjPJ6Tdhwm3wHH98KWmVCtGXR/BlrdBr6u/Sf4dvkB5m4+zAt9mtG5Tiisnwh/vQ+J0VD1CujykEvLU0qVfnZeEawGmohIAxEJAIYAc/LvICJ1gVnA3caYXTbG4jm52TB9BCTFwb2/wKDxgMAPo+DjDrBmAuRkuqSoDbEneXPuNno3rcCowAXwUXuY/Sj4h8Ad38AjyyGspkvKUkqVHbZdERhjckTkMeA3wBeYYIzZKiIPObaPBV4FqgCfiQhAjjEm0q6YyEyBwFDb3v48xkDUs7B/Cdz6BdTrZj3f6jbY9Qv8+S78/DQs/g90fQwi74WAcpdU1Mm0LJ6b+BfPBP/C6GO/4fNrAtTtCrd8CI17gegaxEqpwokxhVbbl1iRkZFmzZo1F//CXfNg9iMwdBrU7uj6wAqzYgz8+gL0+Bv0evX87cZYPXmWvGcli+DKcOXDVq+e4EpOF5OXcoy5417lmpM/UF7SoFEvuPrZs4lHKeX1RGRtUT+0vScRnDgA3/aH1EQYNt3+k+Tu+TB5MFzRFwZ/d+E5fWJXWQlh168QEAad7oeuj0Jo9aJfc+oQLPuE7FVf4p+Xwf7qvag/8BUdI6CUOo8mgtNOHYJvB8DJWBg6GRpd59rgTovfDuNvgMr14b7fLq6658hmWPI/2PoD+AVavXy6PQEV87W7H98LSz+EDZMxebn8mNONLQ3u4+V7b0W0CkgpVQhNBPmlJMB3A+HYLqsBtVlfl8UGWFcc466FnAx48HeocIlj5I5Fw9L3YeNU63GbIdBqkPV4ywzw8Se91VCGbuvMyYBwfnq8O2FB/q77HEqpMkUTQUFpx2HibXBkEwz6wmq8dYWcLOuK49A6GBnlmraIk7Gw7GNY942VXPzLQaf7yO3yKPd8H8Oq/cf58ZGraBFe/vLLUkqVWcUlAu9cvD6kMoyYDZPvhJkPQHYGtB92ee9pjNUDKGYZ3Pal6xqkK9aBvv+Bq5+DfYut6qyQyny8YBd/RR/jnUGtNQkopS6L905DHVQehs+Ehj2t3kSrxl3e+y37GDZMhGueh9a3uyTEc4RWs943pDJ/7T7Ghwt3M6hDBHd2qnPh1yqlVDG8NxEABITA0KlWz56oZ60G2Eux8xeY/6o1h88158227VJHkjJ4cup6GlcL5c2BrbRxWCl12bw7EYDVM2fwt9BykHUyX/S2Vc3jrCNbrOqlWm1h4Bhbl37Myc3j8SnrSMvKZczwDoQEeGfNnlLKtfRMAuDrD7eNt6ZiWPyOtXDLDf+68GjclHiYMgQCw2DoFOsKw0bvztvF6v0n+ODOdjSuHmZrWUop76GJ4DQfX+j/MfgHW/X9WWnQ992if+FnZ8C04ZB6DO77BcqHuyyUpLRsohOSiY5PITo+hd2Ov3En0rmrS10Gti9uNm+llLo4mgjy8/GBvv+1ftkv/RCy063kUHCGUGPgpychdqU1FuESRvIaY0hIzrRO9gkp7D6acuZ+QvLZSegC/XxoVC2UDnUrMaJrPUZ0rX+ZH1Ippc6liaAgEbj+dQgIhUX/BznpMGicVX102l/vw6apcO3L0HKgU2+7NyGF33fEs+to8plf+ckZOWe2hwX50bh6KD2bVqNJjVAaVw+lcbUwIioFn11YRimlbKCJoDAicM3frWqieS9b1UB3fG0t6LL9J1j4OrS63ZrYrRhHkjL4edMhZm84xOaDSQBUDQ2kcfVyDGgXTpPqYdYJv3oo1cMCtQeQUsojNBEUp9vjVgPy3Gdgyp1W19BZo6zF3wd8Umhj8sm0LKI2H2HOxoOs3HccY6BN7Qq83K85/drUolaFYA98EKWUKpomggvpdL+VDGY/Yk0ZXb42DJlsXS04pGbmsGD7UeZsOMSfuxPIzjU0rFaOp3o15Za2tWhYzY1rICil1EXSROCMdkOtE/+f78LAzyCsBlk5efy5K4HZGw+xYNtR0rNzqVUhiHuvakD/tuG0DC+vVT1KqVLBaxJBQnImO48kE+Dng7+vEODnQ6CfDwG+vgT4+Zy9+VrbzzuJtxxIbvMBrNp3nDmzNhG1+QhJ6dlUCvFnUIcI+rcNp1P9yvhow65SqpTxmkSwcl8ij01e7/T+AX4+BPr6OBKH9Tc1M4fE1CxCAny5sUUNBrSLoHuTqvj76gBtpVTp5TWJoFujqkwf3ZWsnDyycnPJyskjMyeP7FxjPZeTS1ZunuN+Hpn57luvycPXR7j2iupc37wGwQG+nv5ISinlEl6TCCqXC6Bzg8qeDkMppUocrdNQSikvp4lAKaW8nCYCpZTycpoIlFLKy2kiUEopL6eJQCmlvJwmAqWU8nKaCJRSysuJuZiF2ksAEUkADlziy6sCx1wYjquV9Pig5Meo8V0eje/ylOT46hljqhW2odQlgsshImuMMZGejqMoJT0+KPkxanyXR+O7PCU9vqJo1ZBSSnk5TQRKKeXlvC0RfOHpAC6gpMcHJT9Gje/yaHyXp6THVyivaiNQSil1Pm+7IlBKKVWAJgKllPJyZTIRiEhvEdkpItEi8kIh20VEPnJs3yQiHdwYWx0RWSQi20Vkq4g8Wcg+PUUkSUQ2OG6vuis+R/n7RWSzo+w1hWz35PG7It9x2SAip0TkqQL7uP34icgEEYkXkS35nqssIvNFZLfjb6UiXlvs99XG+P4rIjsc/4Y/iEjFIl5b7PfBxvheE5GD+f4d+xbxWk8dv2n5YtsvIhuKeK3tx++yGWPK1A3wBfYADYEAYCPQosA+fYFfAAGuBFa6Mb5aQAfH/TBgVyHx9QR+9uAx3A9ULWa7x45fIf/WR7AGynj0+AFXAx2ALfme+w/wguP+C8C/i/gMxX5fbYzvRsDPcf/fhcXnzPfBxvheA5514jvgkeNXYPt7wKueOn6XeyuLVwSdgWhjzF5jTBYwFRhQYJ8BwLfGsgKoKCK13BGcMeawMWad434ysB2IcEfZLuSx41dAL2CPMeZSR5q7jDHmT+B4gacHAN847n8DDCzkpc58X22JzxgzzxiT43i4Aqjt6nKdVcTxc4bHjt9pIiLAYGCKq8t1l7KYCCKA2HyP4zj/ROvMPrYTkfpAe2BlIZu7ishGEflFRFq6NzIMME9E1orIqEK2l4jjBwyh6P98njx+p9UwxhwG6wcAUL2QfUrKsbwP6yqvMBf6PtjpMUfV1YQiqtZKwvHrARw1xuwuYrsnj59TymIikEKeK9hH1pl9bCUiocBM4CljzKkCm9dhVXe0BT4GfnRnbMBVxpgOQB/gURG5usD2knD8AoD+wPeFbPb08bsYJeFYvgTkAJOK2OVC3we7jAEaAe2Aw1jVLwV5/PgBQyn+asBTx89pZTERxAF18j2uDRy6hH1sIyL+WElgkjFmVsHtxphTxpgUx/0owF9EqrorPmPMIcffeOAHrMvv/Dx6/Bz6AOuMMUcLbvD08cvn6OkqM8ff+EL28fR38R7gZmCYcVRoF+TE98EWxpijxphcY0weMK6Icj19/PyAQcC0ovbx1PG7GGUxEawGmohIA8evxiHAnAL7zAFGOHq/XAkknb6Et5ujPvFLYLsx5n9F7FPTsR8i0hnr3ynRTfGVE5Gw0/exGhS3FNjNY8cvnyJ/hXny+BUwB7jHcf8eYHYh+zjzfbWFiPQGngf6G2PSitjHme+DXfHlb3e6tYhyPXb8HK4Hdhhj4grb6Mnjd1E83Vptxw2rV8surN4ELzmeewh4yHFfgE8d2zcDkW6MrTvWpesmYIPj1rdAfI8BW7F6QKwAurkxvoaOcjc6YihRx89RfgjWib1Cvuc8evywktJhIBvrV+r9QBVgIbDb8beyY99wIKq476ub4ovGql8//T0cWzC+or4PborvO8f3axPWyb1WSTp+jue/Pv29y7ev24/f5d50igmllPJyZbFqSCml1EXQRKCUUl5OE4FSSnk5TQRKKeXlNBEopZSX00SglBuJNTPqz56OQ6n8NBEopZSX00SgVCFEZLiIrHLMIf+5iPiKSIqIvCci60RkoYhUc+zbTkRW5JvXv5Lj+cYissAx+d06EWnkePtQEZkh1loAk06PglbKUzQRKFWAiDQH7sSaLKwdkAsMA8phzW/UAVgM/NPxkm+B540xbbBGwp5+fhLwqbEmv+uGNTIVrBlnnwJaYI08vcrmj6RUsfw8HYBSJVAvoCOw2vFjPRhrwrg8zk4uNhGYJSIVgIrGmMWO578BvnfMLxNhjPkBwBiTAeB4v1XGMTeNY1Wr+sBftn8qpYqgiUCp8wnwjTHmxXOeFHmlwH7Fzc9SXHVPZr77uej/Q+VhWjWk1PkWAreLSHU4s/ZwPaz/L7c79rkL+MsYkwScEJEejufvBhYba42JOBEZ6HiPQBEJceeHUMpZ+ktEqQKMMdtE5GWsVaV8sGacfBRIBVqKyFogCasdAawppsc6TvR7gXsdz98NfC4ibzje4w43fgylnKazjyrlJBFJMcaEejoOpVxNq4aUUsrL6RWBUkp5Ob0iUEopL6eJQCmlvJwmAqWU8nKaCJRSystpIlBKKS/3/8GvfLQULD1fAAAAAElFTkSuQmCC\n",
      "text/plain": [
       "<Figure size 432x288 with 1 Axes>"
      ]
     },
     "metadata": {
      "needs_background": "light"
     },
     "output_type": "display_data"
    },
    {
     "data": {
      "image/png": "iVBORw0KGgoAAAANSUhEUgAAAYIAAAEWCAYAAABrDZDcAAAAOXRFWHRTb2Z0d2FyZQBNYXRwbG90bGliIHZlcnNpb24zLjMuMiwgaHR0cHM6Ly9tYXRwbG90bGliLm9yZy8vihELAAAACXBIWXMAAAsTAAALEwEAmpwYAAA2oklEQVR4nO3dd3wUdf7H8dcnm95JoYWOdKSGDoqdotIUPcWCKHDiz3KWU892nme7O88uoqAinI2iqKCI0pEuvUhAkFBCCIQkpCff3x+zYAhJSMi27H6ej8c+drMzO/PZYdn3znxnvl8xxqCUUsp3+bm7AKWUUu6lQaCUUj5Og0AppXycBoFSSvk4DQKllPJxGgRKKeXjNAiUqiQR+VBEnqvkvHtF5PLqLkcpV9AgUEopH6dBoJRSPk6DQHkV+yGZh0Vkk4icFJHJIlJHROaJSKaILBCRWiXmv1ZEtopIuogsEpE2JaZ1FpH19td9BgSXWtfVIrLB/toVItLhPGu+S0SSROSYiMwRkfr250VE/isiR0TkhP09tbdPGyQi2+y1HRCRh85rgymFBoHyTiOAK4CWwDXAPOBxIA7rM38vgIi0BD4B7gfigbnA1yISKCKBwJfAx0AM8IV9udhf2wWYAowDYoF3gTkiElSVQkXkUuAFYCRQD9gHfGqffCVwkf19RAM3AGn2aZOBccaYCKA98FNV1qtUSRoEyhu9YYxJMcYcAJYCq4wxvxhj8oDZQGf7fDcA3xpjfjDGFAD/BkKA3kBPIAB41RhTYIyZAawpsY67gHeNMauMMUXGmI+APPvrquJmYIoxZr29vseAXiLSBCgAIoDWgBhjthtjDtlfVwC0FZFIY8xxY8z6Kq5XqdM0CJQ3SinxOKeMv8Ptj+tj/QIHwBhTDOwHEuzTDpgze2XcV+JxY+BB+2GhdBFJBxraX1cVpWvIwvrVn2CM+Ql4E3gLSBGRSSISaZ91BDAI2Ccii0WkVxXXq9RpGgTKlx3E+kIHrGPyWF/mB4BDQIL9uVMalXi8H/inMSa6xC3UGPNJNWsIwzrUdADAGPO6MaYr0A7rENHD9ufXGGOGALWxDmF9XsX1KnWaBoHyZZ8Dg0XkMhEJAB7EOryzAvgZKATuFRF/ERkOdC/x2veA8SLSw96oGyYig0Ukooo1/A8YLSKd7O0Lz2MdytorIt3syw8ATgK5QJG9DeNmEYmyH9LKAIqqsR2Uj9MgUD7LGLMTGAW8ARzFali+xhiTb4zJB4YDtwPHsdoTZpV47VqsdoI37dOT7PNWtYYfgSeBmVh7Ic2BG+2TI7EC5zjW4aM0rHYMgFuAvSKSAYy3vw+lzovowDRKKeXbdI9AKaV8nAaBUkr5OA0CpZTycRoESinl4/zdXUBVxcXFmSZNmri7DKWUqlHWrVt31BgTX9a0GhcETZo0Ye3ate4uQymlahQR2VfeND00pJRSPk6DQCmlfJwGgVJK+bga10ZQloKCApKTk8nNzXV3KU4XHBxMgwYNCAgIcHcpSikv4RVBkJycTEREBE2aNOHMziK9izGGtLQ0kpOTadq0qbvLUUp5Ca84NJSbm0tsbKxXhwCAiBAbG+sTez5KKdfxiiAAvD4ETvGV96mUch2vCYJzyS0o4mB6DsXa26pSSp3BZ4Igv7CYo1l5ZOUWOnzZ6enpvP3221V+3aBBg0hPT3d4PUopVRU+EwThwf74+wnp2QUOX3Z5QVBUVPGgUXPnziU6Otrh9SilVFV4xVlDleEnQlRIAMezCygqNtj8HHes/dFHH2X37t106tSJgIAAwsPDqVevHhs2bGDbtm0MHTqU/fv3k5uby3333cfYsWOBP7rLyMrKYuDAgfTt25cVK1aQkJDAV199RUhIiMNqVEqp8nhdEPz9661sO5hR5rQiY8jNLyIowIZ/FYKgbf1Inr6mXbnTX3zxRbZs2cKGDRtYtGgRgwcPZsuWLadP8ZwyZQoxMTHk5OTQrVs3RowYQWxs7BnL2LVrF5988gnvvfceI0eOZObMmYwapaMPKqWcz2cODQHYRBARCouKnbqe7t27n3Ge/+uvv07Hjh3p2bMn+/fvZ9euXWe9pmnTpnTq1AmArl27snfvXqfWqJRSp3jdHkFFv9wBDp3I4WhWPm3qRuBvc04OhoWFnX68aNEiFixYwM8//0xoaCj9+/cv8zqAoKCg049tNhs5OTlOqU0ppUrzqT0CgOiQAIwxnMh1XKNxREQEmZmZZU47ceIEtWrVIjQ0lB07drBy5UqHrVcppRzB6/YIziU4wEaQv4307AJiw4LO/YJKiI2NpU+fPrRv356QkBDq1KlzetqAAQOYOHEiHTp0oFWrVvTs2dMh61RKKUcRU8MusEpMTDSlB6bZvn07bdq0qfQyUjJyScnIpU3dSAL8a95OUVXfr1JKicg6Y0xiWdNq3regA0SHWD13puc4/poCpZSqaXwyCIICbIQE2EjPyXd3KUop5XY+GQQA0aGB5OQXkVdQ8dW/Sinl7Xw2CKL08JBSSgE+HASB/n6EBfmTnl1ATWswV0opR/LZIACr0TivsIhcPTyklPJhPh0EUSEBCFLtw0Pn2w01wKuvvkp2dna11q+UUtXhtCAQkWARWS0iG0Vkq4j8vYx5REReF5EkEdkkIl2cVU9Z/G1+RARX//CQBoFSqiZz5pXFecClxpgsEQkAlonIPGNMyT4WBgIt7LcewDv2e5eJDg0g41gB2flFhAWd3+Yo2Q31FVdcQe3atfn888/Jy8tj2LBh/P3vf+fkyZOMHDmS5ORkioqKePLJJ0lJSeHgwYNccsklxMXFsXDhQge/O6WUOjenBYGxfmJn2f8MsN9K/+weAky1z7tSRKJFpJ4x5tB5r3jeo3B4c6Vnj8LQPL/I6pba31b2THUvhIEvlruMkt1Qz58/nxkzZrB69WqMMVx77bUsWbKE1NRU6tevz7fffgtYfRBFRUXxyiuvsHDhQuLi4qr0NpVSylGc2kYgIjYR2QAcAX4wxqwqNUsCsL/E38n250ovZ6yIrBWRtampqY6tEcHmJxQWG8xZOVV18+fPZ/78+XTu3JkuXbqwY8cOdu3axYUXXsiCBQv461//ytKlS4mKinJA9UopVX1O7XTOGFMEdBKRaGC2iLQ3xmwpMUtZo8Oc9W1sjJkETAKrr6EKV1rBL/fy5OcUsDftJE3jwogIDqjy60syxvDYY48xbty4s6atW7eOuXPn8thjj3HllVfy1FNPVWtdSinlCC45a8gYkw4sAgaUmpQMNCzxdwPgoCtqKik82B9bNcYzLtkN9VVXXcWUKVPIyrKOih04cIAjR45w8OBBQkNDGTVqFA899BDr168/67VKKeUOTtsjEJF4oMAYky4iIcDlwEulZpsD3CMin2I1Ep+oVvvAefITISo4gPScAhKKDX5VHM+4ZDfUAwcO5KabbqJXr14AhIeHM23aNJKSknj44Yfx8/MjICCAd955B4CxY8cycOBA6tWrp43FSim3cFo31CLSAfgIsGHteXxujHlWRMYDGGMmiogAb2LtKWQDo40xa8tbJjimG+qyZOUWsOfoSRrHhBIVGlitZTmbdkOtlKqqirqhduZZQ5uAzmU8P7HEYwNMcFYNVREW5E+AzY/0nAKPDwKllHIkn76yuCQRISokgIzcQoqKnTu4vVJKeRKvCQJHHOKKDrWPZ5xT6ICKnEM7yFNKOZpXBEFwcDBpaWnV/pIMCbAR6O9HerZnDlhjjCEtLY3g4GB3l6KU8iJeMXh9gwYNSE5OxhEXm2XkFJCZW0j2kWBsVTx7yBWCg4Np0KCBu8tQSnkRrwiCgIAAmjZt6pBl7UrJ5Ib/LuGZa9pyex/HLFMppTyZVxwacqQWdSJoXTeCORtdfl2bUkq5hQZBGYZ0SmD97+nsP6bdQyulvJ8GQRmu6VgPQPcKlFI+QYOgDA1qhdK1cS2+1iBQSvkADYJyDOlUnx2HM9l5WDuEU0p5Nw2Ccgy6sB42P2HOxgPuLkUppZxKg6AcceFB9G4ey9cbD+nVvEopr6ZBUIEhnRL4/Vg2G/anu7sUpZRyGg2CClzVrg6B/n58tUEbjZVS3kuDoAIRwQFc2qo2324+RFGxHh5SSnknDYJzGNKpPqmZeazck+buUpRSyik0CM7hkta1CQ/y56sNevaQUso7aRCcQ3CAjava1WXelsPkFRa5uxyllHI4DYJKuLZTfTJzC1m0s/rdXCullKfRIKiEPs1jiQ0L1L6HlFJeSYOgEvxtfgzuUI8ft6ewaOcRPYNIKeVVnDYwjYg0BKYCdYFiYJIx5rVS8/QHvgJ+sz81yxjzrFMK2volzBwDtkCwBdjvA8HP/4/HJZ+3nfn8QwVCW/8c/vHhfjLDmzG0cwLDOifQpl6kU8pVSilXceYIZYXAg8aY9SISAawTkR+MMdtKzbfUGHO1E+uwxLWA3vdCcQEUFUBRvv1WWOKx/fniQijIgdwTp5+LLCrgBv8URgbPZ0nwIB5bPohJS/bQpl4kI7okcG2n+tSO0LGElVI1j9OCwBhzCDhkf5wpItuBBKB0ELhGnXbWrRrk5FFk8cv0XzuZFaE/srHRbTx/4gqe+3Y7z8/dTr8W8QzvksCVbesSEmhzUOFKKeVc4ooO1USkCbAEaG+MySjxfH9gJpAMHAQeMsZsLeP1Y4GxAI0aNeq6b98+p9dcobTdsOAZ2D4HwutwJPFBPs7ty6wNKRxIzyE8yJ9BF9ZlWOcG9Ggag5+fuLdepZTPE5F1xpjEMqc5OwhEJBxYDPzTGDOr1LRIoNgYkyUig4DXjDEtKlpeYmKiWbt2rfMKror9q2H+E7B/FcS3pviyZ1jl343ZGw4wd/NhsvIKSYgOYVjnBIZ1SaB5fPhZizDGkFdYzMm8QrLziziZX8jJvCKyS97nF5GdV4ifCCMTGxIVGuCGN6uUqsncFgQiEgB8A3xvjHmlEvPvBRKNMUfLm8ejggDAGNj+tbWHcGw3NOkHVzxLTnxH5m87zKz1B1i6K5ViA63rRuBvE7LzrC/8U/dVOQmpdkQQL43owCWtazvtLSmlvI9bgkBEBPgIOGaMub+ceeoCKcYYIyLdgRlAY1NBUR4XBKcUFcC6D2HRi5B9FNpfB5c9BbUacyQjlzkbD7L411QCbX6EBvkTFmgjNNCfsCAbIYE2wgL9CQ20ERZU6j7Qn9Ag635P6kke+mIjO1MyGZnYgCeubktksO4dKKXOzV1B0BdYCmzGOn0U4HGgEYAxZqKI3AP8GesMoxzgL8aYFRUt12OD4JTcDFj+Gvz8Fpgi6D4W+j0IoTGVf/3x3+DYb3B875mP8zIpuORJ/nusNxMX76ZuZDAvX9eRvi3inPmOlFJewK1tBI7m8UFwyokDsOh5+GU6BEdCv4esULAFQtbhMr7o7X9nl+rlNCQGYppCraaQcRB+XwGdb2HDhX/jL7N3sif1JKN6NuKxgW0IC3Lm2cBKqZpMg8CdUrbCD09B0gIIjobCXOt2ivhBVAPriz6mKdRqcubj4Kg/5i0ugoX/hKX/gfqdyR3+Ef9eeZLJy3+jYa1Q/nVdB3o0i3XxG1RK1QQaBJ5g90LY+CmExZ35hR/dyLqiuSp2fAuzx1tXRV83hdV+HXl4xkZ+P5bN6N5NefiqVnodg1LqDBoE3uhoEnx2Mxz9FS59kuzu/8eL3+1k6s/7aBYXxr+u70jXxrXcXaVSykNUFATa6VxNFXcB3PkjtB0CP/6d0Nm38+xVjZh+Zw/yCou5fuIKXpi3ndwCHUNBKVUxDYKaLCgcrvsArnoeds6D9y6lT+RRvru/HyMTG/Lu4j1c88YyNiefcHelSikPpkFQ04lArwlw2xzITYf3LiVi9ze8OKIDH4zuRkZuAUPfXs4r83eSX1h8zsUppXyPBoG3aNIXxi2BOm3hi9vh+79xyQUxzL//YoZ0qs/rPyUx9K3lHEzPcXelSikPo0HgTSLrw+1zodtd8POb8PFQoorTeWVkJybd0pX9x7IZNXkVR7Py3F2pUsqDaBB4G/9AGPxvGDoRktfAuxfB/jVc2a4uk2/vxsH0HG6dvJoTOQXurlQp5SE0CLxVpz/BmB+saxQ+GAhrJtO9SS0mjurKriOZjPlwDTn5ekaRUkqDwLvV6wBjF0Gzi+Hbv8BXE+jfPIpXb+jM+t+PM27aOm1AVkppEHi90Bi46XO4+K+wYTrMHsfg9rV5YfiFLPk1lfs/+4WiqvSDrZTyOtpLmS/ws8Elj0NgmNXvUWgcNwz6F5m5hTz37XbCgzbx0ogOWD2HK6V8jQaBL+lzH2Qdsc4oCq/NnRc/QkZOAa//lEREcABPDG6jYaCUD9Ig8DVX/MPq6nrhPyEsjgeuGE1GbiGTl/1GVEgA915W4UihSikvpEHga/z84No3IPsYfPMXJDSWp66+lozcAl754Vcigv0Z3aepu6tUSrmQNhb7IlsAXP8hNOgGM+/Eb99SXh7RgSvb1uHvX29jxrpkd1eolHIhDQJfFRgKN30GMc3gk5vwP7KZN27qTN8L4nhkxka+23LI3RUqpVxEg8CXhcbAqFnWKGjTRhB0Yi/v3tKVTg2jufeTDSzdleruCpVSLqBB4OuiEuCW2dYwmNOGE5afxge3d6dZfBhjp65j3b5j7q5QKeVkGgQK4lvCzTMgKxWmjSDKL5uPx/SgTmQQt3+whm0HM9xdoVLKiZwWBCLSUEQWish2EdkqIveVMY+IyOsikiQim0Ski7PqUefQoCvc8DGkbodPbiI+2DDtzh6EB/lz65RV7EnNcneFSiknceYeQSHwoDGmDdATmCAibUvNMxBoYb+NBd5xYj3qXC64zOq1dN8ymDmGBlFBfDymB8bAqPdXcUDHMlDKKzktCIwxh4wx6+2PM4HtQEKp2YYAU41lJRAtIvWcVZOqhA7Xw4AXYcc38M0DXBAfxkd3dCczt5Bb3l9Fmo5loJTXcUkbgYg0AToDq0pNSgD2l/g7mbPDAhEZKyJrRWRtaqqeyeJ0Pf8M/R6E9R/Bwn/SPiGKKaO7cSA9h7EfryO3QLuvVsqbOD0IRCQcmAncb4wp3epYVsc2Z3WFaYyZZIxJNMYkxsfHO6NMVdqlT0KXW2HJv2DVu3RrEsMrIzuxbt9xHpmxCWO0x1KlvIVTu5gQkQCsEJhujJlVxizJQMMSfzcADjqzJlVJIjD4v1ZXFPP+CqGxDO5wHXvTWvGv73fSNC6MB65o6e4qlVIO4MyzhgSYDGw3xrxSzmxzgFvtZw/1BE4YY/SSVk9h84cR70Pj3jB7POz+ibv7N+e6rg147cddfPnLAXdXqJRyAGceGuoD3AJcKiIb7LdBIjJeRMbb55kL7AGSgPeAu51YjzofASFw4/8gvhV8OgrZu4znh11Iz2YxPDJjE6t/0wvOlKrppKYd601MTDRr1651dxm+J/MwTB0Cx/bA0HdIb34tw99ewfHsfGbf3YcmcWHurlApVQERWWeMSSxrml5ZrConoi7c8R006A4zxxC9/m2m3JaIAe74cA0nsgvcXaFS6jxpEKjKC6kFt8yC9iNgwdM0Wf0Mk27uzP7j2Yybtpb8wmJ3V6iUOg8aBKpq/INg+PvQ+15Y8x7dV9/Hf4a2YOWeY/xt9mY9rVSpGkhHKFNV5+cHV/4DohrCvEe4NiuFAxc9z0tLkmkaH8bd/S9wd4VKqSrQPQJ1/nqMtTqqS9nC+KTx3NGmmJe/28nczXoGsFI1iQaBqp4218BtXyM56TyZch831k/hgc828Mvvx91dmVKqkjQIVPU17A5jfkCCIngh43GGhW7krqlr2X8s292VKaUqQYNAOUbcBTBmAVK7DS8UvMSQwu8Y89EaMnL1tFKlPF2lgkBE7hORSHtXEJNFZL2IXOns4lQNEx4Pt3+DtLiSJ3mf4cfe5/+mr6OwSE8rVcqTVXaP4A57z6FXAvHAaOBFp1Wlaq7AMLhhOnQdzXjbHIbufZZnv9ygp5Uq5cEqGwSnuoseBHxgjNlI2V1IK2V1Vnf1f+GypxhmW86ADROYtmiTu6tSSpWjskGwTkTmYwXB9yISAej+viqfCPR7kOKh79Ld9ivdFt7M0rUb3F2VUqoMlQ2CMcCjQDdjTDYQgHV4SKkK+XW6kaI/fUFDWxotvh7GxqXfuLskpVQplQ2CXsBOY0y6iIwCngBOOK8s5U2CWl1K7qhvKLYF0vHHm9k8cTTF2enuLkspZVfZIHgHyBaRjsAjwD5gqtOqUl4ntnlXov+ymoUxI2l7aDbp/+lK5sav3V2WUorKB0GhsU77GAK8Zox5DYhwXlnKG4WGR9H//yYxv9c0UgtDiJg9iuMfjYKsVHeXppRPq2wQZIrIY1gjjn0rIjasdgKlqkREGDjgavLv+In3/P9E2J655L3WFbPhE9BTTJVyi8oGwQ1AHtb1BIeBBOBfTqtKeb0LG9fmugde55n677Ilrzby5XiKPh4B6b+7uzSlfE6lgsD+5T8diBKRq4FcY4y2EahqqRUWyHN3XcfPF03j74W3kr9nGcVv9oBVk6BYz05WylUq28XESGA1cD0wElglItc5szDlG/z8hHsub81ltz3NdX7/5eeCC2Dew/DBAEjd6e7ylPIJlRq8XkQ2AlcYY47Y/44HFhhjOjq5vrPo4PXe69CJHCZMW0fTA1/zXMh0gslDLnoE+t4PNm2SUqo6HDF4vd+pELBLO9drRWSKiBwRkS3lTO8vIidEZIP99lQla1Feql5UCJ+O601kr1vpd/JlVvh3h4XPwaT+cGC9u8tTymtVdqjK70Tke+AT+983AHPP8ZoPgTep+HqDpcaYqytZg/IBgf5+PH1NO7o2rsXYGTEM8O/N8xkfEvT+ZdBrAlz0CARHurtMpbxKpYLAGPOwiIwA+mB1NjfJGDP7HK9ZIiJNql+i8kVXd6hP67qR/HlaCN1SW/BJ47m0W/EG/DINet0DPcZBkF7KopQjVKqN4LwXbgXBN8aY9mVM6w/MBJKBg8BDxpit5SxnLDAWoFGjRl337dvnpIqVpzmZV8jjszfz1YaD3NHkGI+HzcF/93wIqQW9/w+6j9VAUKoSKmojqDAIRCQTKGsGAYwxpsJ99HMEQSRQbIzJEpFBWFcst6hoeaCNxb7IGMO0lft4es5Wbu7RmH8k5sGiFyDpBwiJgT73Qre7ICjc3aUq5bHOu7HYGBNhjIks4xZxrhA4F2NMhjEmy/54LhAgInHVWabyTiLCLb2acHvvpkxbtY+1hU1h1Ay480dI6AILnoHXOsCyVyH/pLvLVarGcduYxSJSV0TE/ri7vZY0d9WjPN+DV7akflQIj87aTF5hETRIhFEzYcwPUK8TLHgaXu0Ay1/XQFCqCpwWBCLyCfAz0EpEkkVkjIiMF5Hx9lmuA7bYr1F4HbjR6HiGqgJhQf48N6w9SUeyeGfR7j8mNOwOt8yCO+ZDvQ7ww5PwWkdY8QbkZ7uvYKVqCKc2FjuDthGo+z79hbmbDzH33n60qFNGQ/HvK602hD2LICwe+twPiXdAYKirS1XKYzjigjKlPMaTV7clLMifR2dtpri4jB8yjXrCrV/B6O+gdluY/zd4vRP8/DYU5Li8XqU8nQaBqnHiwoN4YnBb1u07zvTVFfRW2rgX3DYHbp8L8a3g+8esQ0Yr39FAUKoEDQJVI43okkDfC+J4ad4ODp/IrXjmJn3gtq/h9m8hriV896gGglIlaBCoGklE+Oew9hQWF/PkV1uoVFtXk75w+zdnB4IeMlI+ToNA1ViNY8N44PKW/LAthe+2HK78C08HQqlDRhoIykdpEKgabUzfprSrH8lTc7ZyIqegai8+fchIA0H5Ng0CVaP52/x4aUQHjp3M58V5289vIRoIysdpEKgar31CFGP6NuWT1ftZuacaF6drICgfpUGgvMIDl7ekYUwIj8/aTG5BUfUWVlYgvNoBfn4LCvMdU7BSHkSDQHmFkEAbzw+7kD1HT/LmT0mOWWjJQKjdGr5/HL64XcNAeR0NAuU1+rWIZ3iXBCYu3s2OwxmOW/CpQBj4Muz8FmaMhqIqNkwr5cE0CJRXeWJwWyJDAnh05maKyup+ojp6jIMBL8KOb2DmGA0D5TU0CJRXiQkL5Olr2rJhfzpTf97r+BX0/DNc9Txs+wpm3QVFhY5fh1IupkGgvM61Hetzcct4/vX9Tg6kO+Fsn14T4Ip/wNbZMHushoGq8TQIlNcREZ4b2h5j4InZmyvX/URV9bkXLv87bJkJX46H4mqeqaSUG2kQKK/UMCaUB69sycKdqXy96ZBzVtL3frjsKdj8BXz5Zw0DVWNpECivNbpPUzo2iOLZr7eSnu2kUz77PQiXPgGbPoOv7tEwUDWSBoHyWjY/4YXhHTieXcA/vz3P7icq46KHof/jsPF/MOdeKC523rqUcgINAuXV2taPZOxFzfhiXTLLk446b0X9/woXPwobpsHXGgaqZtEgUF7vvsta0CQ2lMdnbyYj14nn/vd/1No7+OVj+OZ+DQNVY2gQKK8XHGDjheEd2H8sm4tfXsj7S/dUvz+isojAJX+z2g3WfwRzHwRnnLGklIM5LQhEZIqIHBGRLeVMFxF5XUSSRGSTiHRxVi1K9Woey5cT+tCufhTPfbudS/+9iM/X7KewyMG/2kXg0iehz/2wdgrMfUjDQHk8Z+4RfAgMqGD6QKCF/TYWeMeJtShFhwbRTLuzB9Pv7EF8RBCPzNzEVa8uYd7mQ4691kAELn8Get8La96HeX/VMFAezWlBYIxZAhyrYJYhwFRjWQlEi0g9Z9Wj1Cl9Lojjywl9mDiqKyLCn6evZ+hby1m2y4GNySJwxbPQ6x5Y/S5895iGgfJY/m5cdwKwv8Tfyfbnzrr6R0TGYu010KhRI5cUp7ybiDCgfV0ub1ObWb8c4LUFuxg1eRV9Lojlkata07FhtCNWAlc+Z11bsOodED+46p/W80p5EHc2Fpf1v6HMn0zGmEnGmERjTGJ8fLyTy1K+xN/mx8jEhvz00MU8dXVbth/KZMhbyxn/8TqSjmRWfwUiMOAF6D4OVr4Fb3SBhS9A2u7qL1spB3FnECQDDUv83QA46KZalI8L8rdxR9+mLHnkEu6/vAXLko5y5X+X8PAXG6vfcZ0IDHwJhr0LUQ1g8UtWIEy6BFa+A5kpjnkTSp0ncUqHXKcWLtIE+MYY076MaYOBe4BBQA/gdWNM93MtMzEx0axdu9bRpSp1hrSsPN5etJuPf94HwKiejZlwSXNiw4Oqv/CMg1ZndZs+h8ObrENGTS+GDjdAm6shKKL661CqFBFZZ4xJLHOas4JARD4B+gNxQArwNBAAYIyZKCICvIl1ZlE2MNoYc85veA0C5UoH0nN4bcGvzFiXTEiAjXdvSaRvizjHrSB1pxUIm7+A9H3gHwKtBkKHkdD8MvAPdNy6lE9zSxA4iwaBcoekI5nc879fOJiew5cT+tAsPtyxKzAG9q+GzZ/DllmQcwxCakG7YXDhSGjYA/z0+k91/jQIlHKA/ceyGfLWcqJDAph9dx+iQgOcs6KiAtj9k7WnsONbKMyBqEbQ4Xrr2oSQaOesV3m1ioJAf2IoVUkNY0KZOKor+49nc88n6x1/VfIptgBoeRVcNxkeToJhkyC+JSz7L3x6ExTmOWe9ymdpEChVBd2bxvDc0PYs3XWU5+fucP4Kg8Kh4w0waiYMfw/2LYcv79YO7ZRDufOCMqVqpBu6NWLn4SymLP+NlnXCubG7iy5yvPA6q0H5x2ehVmNrdDSlHECDQKnz8Pig1iSlZvHkV1toFh9O96Yxrllx37/A8X2w9D8Q3Qi63u6a9SqvpoeGlDoP/jY/3vhTZxrGhDJ+2jr2H8t2zYpFYPArcMHl8M1fYNcC16xXeTUNAqXOU1RIAO/fmkhhUTF3TV1LVl6ha1Zs84frP4TabeGL2+DQJtes19mMsRrC8zIh+xhkHrb2fo4mQco2OLzZOqNKOZyePqpUNS3dlcrtH6zh0ta1eXdUV/z8XNSpXMZBeP9yMMVw5wKr+wpPdOIAbJ0FO+Za10cU5Vtf6IV5fzwuyofiSnzJx7eBq1+Bxr2dX7eX0esIlHKyD5f/xjNfb2PCJc15+KrWrlvx4S0wZYDVXnDHPAiOct26K3LyKGz7EjbPhN9XWM/V7QAxTcEWaL8FgC3Ifm9/zj+wjOn2x3mZsPhlOPE7dLrZ6uY7zIFXeXu5ioJAG4uVcoDbejdhZ0omby3cTcs6EQzplOCaFddtDzdMhenXw+e3wc1fWF+a7pCTbl0At2UG7FkMpgjiWlnDd7YfAbHNq7+O9sNhyb9gxRvWui5/Brrc5vyrrnOOw/avoXY7aNDVuetyA90jUMpB8guLGTV5FRv2p/P5uF50csSYBpX1yzT4agJ0HgXXvum6MQ/ys+HXeVa3GLvmW4d4ohtbX/wXXme1YzijliM74NsHYd8yaNDNakCv18Hx60nbDasmwi/ToeCk9VyzS+DiR2rc4Sk9NKSUixw7mc+1by4jv7CYOff0pW5UsOtW/tM/YcnLcMkTcPHDzltPYZ7VBcbmGbBznvUFGV7X+rXefgQkdHVNEBkDmz6D7/9mtT10HweXPA7BkdVf7r7l8PPbsHMu+PnDhddD4h3WYa4Vb8DJVGjcBy56yAqGGjDYkAaBUi6083Amw99eTvPa4Xw+rhfBATbXrNgYmD0eNn1qdUvR8QbHLbu4GPYusXpJ3f415J6AkBhoO8T68m/cG/xc9D5LyzluXWS39gMIrwMDnod2w6v+5VyYD1tnWwMIHdpovb9uY6DbnRBR94/5CnJg/VRY9ipkHoSERLjoYatbEA8OBA0CpVzsh20pjP14LVd3qM/rN3ZCXPUFUZgP04bD7yvhllnQ9KLqLe9EMmz4H6z/2GqkDYywxkxoPwKa9Xdfe0RZktfBtw9YX+LNL4VB/65cu0T2MVj3Aax+DzIPWe0aPf8MHW+EgJDyX1eYZ22bZa9A+u9Q90IrEFpf45E9xWoQKOUGby9K4uXvdvLQlS2559IWrltxznGYfJV1Hv6Y+VC7imcxFRVYh3zWT4XdP1qnpzbrD51vgdaDK/5ydLfiIljzPvz0nPVF3fcB6xZQxiG6o0mw8m3Y+AkUZFuHeHrdY4VIVb7IiwqsPaWl/4G0JIhvDf0esroQt3nO+TgaBEq5gTGGBz7bwJcbDjJxVFcGtK977hc5yvF91jUG/sHWNQYRdc79mqO7rC//jZ9Yx8Aj6kPnm60G6FpNnF6yQ2UettoOtsyAWk1h8L+tq7GNgd+WWAHw63fWqakdRkLPu6FOu+qts7jIOrS05N+Quh1imkG/B62R5zxgz0mDQCk3yS0o4oZJK9mVksnMP/emTb1qNmRWxYH18OFgiGsJo+dCYNjZ8+Rnw7avrAD4fYXVMNpygHVK5gWXue+4v6PsXghzH7J+qbcaBOn7IWUzhMZZx/67jYHw2o5dZ3Ex7PzWuubh8CZrLIm+90GnUWXvmbiIBoFSbnQkI5dr31yOzU+YPaE3tSNc+GWw8zv49E/Q4iq4cbr1xW4MHNpgfflvngF5GRDTHLrcCh3/VLm9h5qkMA+Wv2b9Uo9pBr3utkZ9c/aXsjGw6wfrTK7kNRBRzzq81m4Y1G7j8oZlDQKl3Gxz8glGvvsz9aKDmX5nD+pFufA4++r3rF/FXUdbhz/Wf2T12+MfDG2HWgHQuLdHn/HiEMVFIH6uf5/GwG+LrYGF9iwGjLWX1m7YH6HgAhoESnmANXuPMfqDNdQKC+B/d/akYUyo61Y+/wnr/Hewunrocqt1brwOe+lamSmwfQ5s/dK6VgFjNS63HWoPBed1T6JBoJSH2Lg/nVunrCYkwMb0u3rQPD7cNSsuLrYageu0g/qdXLNOVbEyQ6ENtBtqhUJ8K4euzm1BICIDgNcAG/C+MebFUtP7A18Bv9mfmmWMebaiZWoQqJpu+6EMbpm8CoBpd/agdV0XNiArz5R5GLbNsTrq27cCMFb3HKf2FOJbVnsVbgkCEbEBvwJXAMnAGuBPxphtJebpDzxkjLm6ssvVIFDeIOlIFje/v5K8wmKm3tGdDg2i3V2S8hQZh6yrt7fOht9/5nQotBtWrc77KgoCZ17+1h1IMsbsMcbkA58CQ5y4PqVqjAtqh/PFuN6EB/lz83urWLv3mLtLUp4ish70GGt1K/6X7TDwZat78YXPWw39TuDMIEgA9pf4O9n+XGm9RGSjiMwTkTKv6BCRsSKyVkTWpqamOqNWpVyuUWwon4/rRXxEELdMXs3ypKPuLkl5msh60GMc3PEd/GWbdeGbEzgzCMo6R6v0caj1QGNjTEfgDeDLshZkjJlkjEk0xiTGx8c7tkql3Kh+dAifjutJo5hQRn+4hp92pLi7JOWpIuuf2fmdAzkzCJKBhiX+bgAcLDmDMSbDGJNlfzwXCBARHXJI+ZTaEcF8OrYnrepEMO7jdczbfMjdJSkf48wgWAO0EJGmIhII3AjMKTmDiNQVe7eMItLdXk+aE2tSyiPVCgtk+l096NAgmgn/W8+s9cnuLkn5EKcFgTGmELgH+B7YDnxujNkqIuNFZLx9tuuALSKyEXgduNHUtAsblHKQyOAApt7RnZ7NYnnwi438b9Xv7i5J+Qi9oEwpD5NbUMSfp61j4c5Unry6LWP6NnV3ScoLuOv0UaXUeQgOsPHuLYkMbF+Xf3yzjTd/2uXukpSX0yBQygMF+vvxxp86M6xzAv+e/ysvf7eDmrb3rmoOzxk+Ryl1Bn+bH/+5viPBATbeXrSbnIIiHr6qFaGB+t9WOZZ+opTyYH5+wvPD2hMSYGPK8t/4YPle4iOCaBwTSuPYMBrHhtI4NpRGMaE0iQ0jOjTAdeMjK6+hQaCUhxMRnry6Df1axLHtUAb70k6yLy2bFbuPMnN97hnzRgT7W+EQUzIkrMd1I4Px89OQUGfTIFCqBhARLmldm0tanzmsYm5BEfuPZbMvLZt9x7JPh8S2Qxl8v/UwhcV/tCsE+vtRPyqYelEh1I8OoX609bhedDD17feRwe4fW1e5ngaBUjVYcICNFnUiaFEn4qxphUXFHDqRy760bPamneT3Y9kcTM/hYHoOK3YfJSUjl+JS7c8RQf7Uiz4VFvagiAomIdoKj8axoXroyQtpECjlpfxtfjSMCaVhTCh9W5zdc0thUTFHMvM4dCKHg+m5p+8Ppudw6EQuWw+e4GhW/hmvaVc/krv7X8CA9nWx6WEmr6FBoJSP8rf52Q8RhdC1cdnz5BYUkZKRy8H0XHYdyeTDFXuZ8L/1NIsLY9zFzRjWuQGB/noWek2nVxYrpSqtqNjw/dbDvL0oiS0HMqgbGcyd/ZpyU49Gelqrh9Mxi5VSDmWMYemuo7y1MIlVvx2jVmgAt/duym29GxMdGuju8lQZNAiUUk6zbt9x3lmUxILtRwgLtHFTj0bc2a8ZdSKD3V2aKkGDQCnldDsOZ/DOot18vfEg/n5+jOjagPEXN6NxbJi7S1NoECilXOj3tGzeXbKbL9YlU1hUzOAO9bm7f3Pa1It0d2k+TYNAKeVyRzJymbzsN6at3MfJ/CIubV2b4V0S6HdBPFGheuGaq2kQKKXc5kR2AVN/3suHK/aSdjIfP4HOjWpxcct4+reKp339KO36wgU0CJRSbldYVMzG5BMs3nmExb+msunACYyBmLBALmoRx8Wt4rmoRTyx4UHuLtUraRAopTxOWlYeS3cdZfGvqSz5NZW0k/mIwIUJUaf3Fjo2iMbfphesOYIGgVLKoxUXG7YcPMHinaks/jWV9b8fp9hAZLA//VrEc3GreC5uGa+npFaDBoFSqkY5kV3AsqSjLP7VOoyUkpEHQHiQP3HhgcSGBxEbFkhcRBBx9vvYsKDT0+LDg4gM8dcO8kqoKAj0mnCllMeJCg1gcId6DO5QD2MMO1MyWbbrKAfSc0jLyudoVh770rJZt+84x7LzKev3bIBNiA0LItYeDnHhgcSEBlIrLJCYsEBqhQZSKzTAehwWSHRIgM8ehnJqEIjIAOA1wAa8b4x5sdR0sU8fBGQDtxtj1juzJqVUzSIitK4bSeu6ZV+HUFRsOJ5thcOpkDialU9aVt4Zz+0+ksXx7Hyy84vKXVdksD8xYYFEh54ZFrXsj8OCbAT52wgK8CO49H2AjSD/P+4DalCoOC0IRMQGvAVcASQDa0RkjjFmW4nZBgIt7LcewDv2e6WUqhSbnxAXHkRcJc82yi0o4nh2PsdPFnA8O59jJ/NP36dnF5z+OyUjl52HMzl2Mp+cgvLDo6K6SgZDcICNypwlW9HhrBu7NeTOfs2qXMu5OHOPoDuQZIzZAyAinwJDgJJBMASYaqyGipUiEi0i9Ywxh5xYl1LKhwUH2OwD7oRU+jU5+VZ45BQUkVtQRF5h8en7vFJ/5xYUkVdQTG5h6ftiis/VJnuOyZUNu6pyZhAkAPtL/J3M2b/2y5onATgjCERkLDAWoFGjRg4vVCmlKhISaCMksPLBUdM48yBWWfs3pfOuMvNgjJlkjEk0xiTGx8c7pDillFIWZwZBMtCwxN8NgIPnMY9SSikncmYQrAFaiEhTEQkEbgTmlJpnDnCrWHoCJ7R9QCmlXMtpbQTGmEIRuQf4Huv00SnGmK0iMt4+fSIwF+vU0SSs00dHO6sepZRSZXPqdQTGmLlYX/Yln5tY4rEBJjizBqWUUhWrOVc8KKWUcgoNAqWU8nEaBEop5eNqXO+jIpIK7DvPl8cBRx1YjqN5en3g+TVqfdWj9VWPJ9fX2BhT5oVYNS4IqkNE1pbXDasn8PT6wPNr1PqqR+urHk+vrzx6aEgppXycBoFSSvk4XwuCSe4u4Bw8vT7w/Bq1vurR+qrH0+srk0+1ESillDqbr+0RKKWUKkWDQCmlfJxXBoGIDBCRnSKSJCKPljFdROR1+/RNItLFhbU1FJGFIrJdRLaKyH1lzNNfRE6IyAb77SlX1Wdf/14R2Wxf99oyprtz+7UqsV02iEiGiNxfah6Xbz8RmSIiR0RkS4nnYkTkBxHZZb+vVc5rK/y8OrG+f4nIDvu/4WwRiS7ntRV+HpxY3zMicqDEv+Ogcl7rru33WYna9orIhnJe6/TtV23GGK+6YfV0uhtoBgQCG4G2peYZBMzDGhinJ7DKhfXVA7rYH0cAv5ZRX3/gGzduw71AXAXT3bb9yvi3Pox1oYxbtx9wEdAF2FLiuZeBR+2PHwVeKuc9VPh5dWJ9VwL+9scvlVVfZT4PTqzvGeChSnwG3LL9Sk3/D/CUu7ZfdW/euEdweqxkY0w+cGqs5JJOj5VsjFkJRItIPVcUZ4w5ZIxZb3+cCWzHGp6zJnHb9ivlMmC3MeZ8rzR3GGPMEuBYqaeHAB/ZH38EDC3jpZX5vDqlPmPMfGNMof3PlVgDQ7lFOduvMty2/U4Ra7T5kcAnjl6vq3hjEJQ3DnJV53E6EWkCdAZWlTG5l4hsFJF5ItLOtZVhgPkiss4+XnRpHrH9sAY7Ku8/nzu33yl1jH2gJft97TLm8ZRteQfWXl5ZzvV5cKZ77IeuppRzaM0Ttl8/IMUYs6uc6e7cfpXijUHgsLGSnUlEwoGZwP3GmIxSk9djHe7oCLwBfOnK2oA+xpguwEBggohcVGq6J2y/QOBa4IsyJrt7+1WFJ2zLvwGFwPRyZjnX58FZ3gGaA52AQ1iHX0pz+/YD/kTFewPu2n6V5o1B4PFjJYtIAFYITDfGzCo93RiTYYzJsj+eCwSISJyr6jPGHLTfHwFmY+1+l+QJY00PBNYbY1JKT3D39ish5dQhM/v9kTLmcfdn8TbgauBmYz+gXVolPg9OYYxJMcYUGWOKgffKWa+7t58/MBz4rLx53LX9qsIbg8Cjx0q2H0+cDGw3xrxSzjx17fMhIt2x/p3SXFRfmIhEnHqM1aC4pdRsnjDWdLm/wty5/UqZA9xmf3wb8FUZ81Tm8+oUIjIA+CtwrTEmu5x5KvN5cFZ9JdudhpWzXrdtP7vLgR3GmOSyJrpz+1WJu1urnXHDOqvlV6yzCf5mf248MN7+WIC37NM3A4kurK0v1q7rJmCD/TaoVH33AFuxzoBYCfR2YX3N7OvdaK/Bo7afff2hWF/sUSWec+v2wwqlQ0AB1q/UMUAs8COwy34fY5+3PjC3os+ri+pLwjq+fupzOLF0feV9HlxU38f2z9cmrC/3ep60/ezPf3jqc1diXpdvv+retIsJpZTycd54aEgppVQVaBAopZSP0yBQSikfp0GglFI+ToNAKaV8nAaBUi4kVs+o37i7DqVK0iBQSikfp0GgVBlEZJSIrLb3If+uiNhEJEtE/iMi60XkRxGJt8/bSURWlujXv5b9+QtEZIG987v1ItLcvvhwEZkh1lgA009dBa2Uu2gQKFWKiLQBbsDqLKwTUATcDIRh9W/UBVgMPG1/yVTgr8aYDlhXwp56fjrwlrE6v+uNdWUqWD3O3g+0xbrytI+T35JSFfJ3dwFKeaDLgK7AGvuP9RCsDuOK+aNzsWnALBGJAqKNMYvtz38EfGHvXybBGDMbwBiTC2Bf3mpj75vGPqpVE2CZ09+VUuXQIFDqbAJ8ZIx57IwnRZ4sNV9F/bNUdLgnr8TjIvT/oXIzPTSk1Nl+BK4Tkdpweuzhxlj/X66zz3MTsMwYcwI4LiL97M/fAiw21hgTySIy1L6MIBEJdeWbUKqy9JeIUqUYY7aJyBNYo0r5YfU4OQE4CbQTkXXACax2BLC6mJ5o/6LfA4y2P38L8K6IPGtfxvUufBtKVZr2PqpUJYlIljEm3N11KOVoemhIKaV8nO4RKKWUj9M9AqWU8nEaBEop5eM0CJRSysdpECillI/TIFBKKR/3/2pUiTL2QXiHAAAAAElFTkSuQmCC\n",
      "text/plain": [
       "<Figure size 432x288 with 1 Axes>"
      ]
     },
     "metadata": {
      "needs_background": "light"
     },
     "output_type": "display_data"
    }
   ],
   "source": [
    "# summarize history for accuracy\n",
    "plt.plot(history.history['acc'])\n",
    "plt.plot(history.history['val_acc'])\n",
    "plt.title('model accuracy')\n",
    "plt.ylabel('accuracy')\n",
    "plt.xlabel('epoch')\n",
    "plt.legend(['train', 'test'], loc='upper left')\n",
    "plt.show()\n",
    "# summarize history for loss\n",
    "plt.plot(history.history['loss'])\n",
    "plt.plot(history.history['val_loss'])\n",
    "plt.title('model loss')\n",
    "plt.ylabel('loss')\n",
    "plt.xlabel('epoch')\n",
    "plt.legend(['train', 'test'], loc='upper left')\n",
    "plt.show()"
   ]
  },
  {
   "cell_type": "code",
   "execution_count": 89,
   "metadata": {},
   "outputs": [],
   "source": [
    "\n",
    "from tensorflow.python.keras.models import load_model\n",
    "classifier = load_model('fgvgg.h5')\n"
   ]
  },
  {
   "cell_type": "code",
   "execution_count": 90,
   "metadata": {},
   "outputs": [],
   "source": [
    "import os \n",
    "import cv2\n",
    "import numpy as np\n",
    "from os import listdir"
   ]
  },
  {
   "cell_type": "code",
   "execution_count": null,
   "metadata": {},
   "outputs": [],
   "source": []
  },
  {
   "cell_type": "code",
   "execution_count": 96,
   "metadata": {},
   "outputs": [
    {
     "data": {
      "text/plain": [
       "array([ 7,  8,  7,  7,  8,  5,  8,  8, 10,  3,  7,  5, 10,  5,  7,  7,  7,\n",
       "        5, 11,  3,  9,  7,  7,  7,  4,  8,  9, 10,  4,  4,  7,  7,  7,  3,\n",
       "        7,  2,  7,  8,  8,  9,  7,  7,  5,  7,  4,  7,  3,  4,  7,  3,  8,\n",
       "        9,  8,  0,  7,  8,  8,  7,  7,  8,  7,  3,  7,  8,  0,  9,  7,  7,\n",
       "        5,  7,  8,  7, 10,  9,  7,  7,  7,  0,  7,  7,  7,  4,  8,  1,  8,\n",
       "        1,  7,  8, 10,  7,  7,  8,  8,  8,  7,  7,  8,  8,  9,  8,  8,  8,\n",
       "        7,  5,  3, 10,  7,  9,  3, 10,  3,  8,  4])"
      ]
     },
     "execution_count": 96,
     "metadata": {},
     "output_type": "execute_result"
    }
   ],
   "source": [
    "input_im = X_test\n",
    "res = np.argmax(classifier.predict(input_im, 1, verbose=0), axis = 1)\n",
    "\n",
    "# draw_test(\"Prediction\", res, input_im)\n",
    "# cv2.waitkey(5000)\n",
    "# cv2.destroyAllWindows()\n",
    "\n",
    "                \n",
    "                "
   ]
  },
  {
   "cell_type": "code",
   "execution_count": 104,
   "metadata": {},
   "outputs": [
    {
     "data": {
      "text/plain": [
       "['Serena_Williams',\n",
       " 'Gerhard_Schroeder',\n",
       " 'Serena_Williams',\n",
       " 'Serena_Williams',\n",
       " 'Gerhard_Schroeder',\n",
       " 'John_Ashcroft',\n",
       " 'Gerhard_Schroeder',\n",
       " 'Gerhard_Schroeder',\n",
       " 'Jean_Chretien',\n",
       " 'Ariel_Sharon',\n",
       " 'Serena_Williams',\n",
       " 'John_Ashcroft',\n",
       " 'Jean_Chretien',\n",
       " 'John_Ashcroft',\n",
       " 'Serena_Williams',\n",
       " 'Serena_Williams',\n",
       " 'Serena_Williams',\n",
       " 'John_Ashcroft',\n",
       " 'Tony_Blair',\n",
       " 'Ariel_Sharon',\n",
       " 'Junichiro_Koizumi',\n",
       " 'Serena_Williams',\n",
       " 'Serena_Williams',\n",
       " 'Serena_Williams',\n",
       " 'Donald_Rumsfeld',\n",
       " 'Gerhard_Schroeder',\n",
       " 'Junichiro_Koizumi',\n",
       " 'Jean_Chretien',\n",
       " 'Donald_Rumsfeld',\n",
       " 'Donald_Rumsfeld',\n",
       " 'Serena_Williams',\n",
       " 'Serena_Williams',\n",
       " 'Serena_Williams',\n",
       " 'Ariel_Sharon',\n",
       " 'Serena_Williams',\n",
       " 'Colin_Powell',\n",
       " 'Serena_Williams',\n",
       " 'Gerhard_Schroeder',\n",
       " 'Gerhard_Schroeder',\n",
       " 'Junichiro_Koizumi',\n",
       " 'Serena_Williams',\n",
       " 'Serena_Williams',\n",
       " 'John_Ashcroft',\n",
       " 'Serena_Williams',\n",
       " 'Donald_Rumsfeld',\n",
       " 'Serena_Williams',\n",
       " 'Ariel_Sharon',\n",
       " 'Donald_Rumsfeld',\n",
       " 'Serena_Williams',\n",
       " 'Ariel_Sharon',\n",
       " 'Gerhard_Schroeder',\n",
       " 'Junichiro_Koizumi',\n",
       " 'Gerhard_Schroeder',\n",
       " 'George_W_Bush',\n",
       " 'Serena_Williams',\n",
       " 'Gerhard_Schroeder',\n",
       " 'Gerhard_Schroeder',\n",
       " 'Serena_Williams',\n",
       " 'Serena_Williams',\n",
       " 'Gerhard_Schroeder',\n",
       " 'Serena_Williams',\n",
       " 'Ariel_Sharon',\n",
       " 'Serena_Williams',\n",
       " 'Gerhard_Schroeder',\n",
       " 'George_W_Bush',\n",
       " 'Junichiro_Koizumi',\n",
       " 'Serena_Williams',\n",
       " 'Serena_Williams',\n",
       " 'John_Ashcroft',\n",
       " 'Serena_Williams',\n",
       " 'Gerhard_Schroeder',\n",
       " 'Serena_Williams',\n",
       " 'Jean_Chretien',\n",
       " 'Junichiro_Koizumi',\n",
       " 'Serena_Williams',\n",
       " 'Serena_Williams',\n",
       " 'Serena_Williams',\n",
       " 'George_W_Bush',\n",
       " 'Serena_Williams',\n",
       " 'Serena_Williams',\n",
       " 'Serena_Williams',\n",
       " 'Donald_Rumsfeld',\n",
       " 'Gerhard_Schroeder',\n",
       " 'Hugo_Chavez',\n",
       " 'Gerhard_Schroeder',\n",
       " 'Hugo_Chavez',\n",
       " 'Serena_Williams',\n",
       " 'Gerhard_Schroeder',\n",
       " 'Jean_Chretien',\n",
       " 'Serena_Williams',\n",
       " 'Serena_Williams',\n",
       " 'Gerhard_Schroeder',\n",
       " 'Gerhard_Schroeder',\n",
       " 'Gerhard_Schroeder',\n",
       " 'Serena_Williams',\n",
       " 'Serena_Williams',\n",
       " 'Gerhard_Schroeder',\n",
       " 'Gerhard_Schroeder',\n",
       " 'Junichiro_Koizumi',\n",
       " 'Gerhard_Schroeder',\n",
       " 'Gerhard_Schroeder',\n",
       " 'Gerhard_Schroeder',\n",
       " 'Serena_Williams',\n",
       " 'John_Ashcroft',\n",
       " 'Ariel_Sharon',\n",
       " 'Jean_Chretien',\n",
       " 'Serena_Williams',\n",
       " 'Junichiro_Koizumi',\n",
       " 'Ariel_Sharon',\n",
       " 'Jean_Chretien',\n",
       " 'Ariel_Sharon',\n",
       " 'Gerhard_Schroeder',\n",
       " 'Donald_Rumsfeld']"
      ]
     },
     "execution_count": 104,
     "metadata": {},
     "output_type": "execute_result"
    }
   ],
   "source": [
    "\n",
    "uni = list(set(a))\n",
    "[uni[item] for item in res]"
   ]
  },
  {
   "cell_type": "code",
   "execution_count": 103,
   "metadata": {},
   "outputs": [
    {
     "data": {
      "text/plain": [
       "12"
      ]
     },
     "execution_count": 103,
     "metadata": {},
     "output_type": "execute_result"
    }
   ],
   "source": [
    "len(list(set(a)))"
   ]
  },
  {
   "cell_type": "code",
   "execution_count": 106,
   "metadata": {},
   "outputs": [
    {
     "data": {
      "text/plain": [
       "[<1x12 sparse matrix of type '<class 'numpy.float64'>'\n",
       " \twith 1 stored elements in Compressed Sparse Row format>,\n",
       " <1x12 sparse matrix of type '<class 'numpy.float64'>'\n",
       " \twith 1 stored elements in Compressed Sparse Row format>,\n",
       " <1x12 sparse matrix of type '<class 'numpy.float64'>'\n",
       " \twith 1 stored elements in Compressed Sparse Row format>,\n",
       " <1x12 sparse matrix of type '<class 'numpy.float64'>'\n",
       " \twith 1 stored elements in Compressed Sparse Row format>,\n",
       " <1x12 sparse matrix of type '<class 'numpy.float64'>'\n",
       " \twith 1 stored elements in Compressed Sparse Row format>,\n",
       " <1x12 sparse matrix of type '<class 'numpy.float64'>'\n",
       " \twith 1 stored elements in Compressed Sparse Row format>,\n",
       " <1x12 sparse matrix of type '<class 'numpy.float64'>'\n",
       " \twith 1 stored elements in Compressed Sparse Row format>,\n",
       " <1x12 sparse matrix of type '<class 'numpy.float64'>'\n",
       " \twith 1 stored elements in Compressed Sparse Row format>,\n",
       " <1x12 sparse matrix of type '<class 'numpy.float64'>'\n",
       " \twith 1 stored elements in Compressed Sparse Row format>,\n",
       " <1x12 sparse matrix of type '<class 'numpy.float64'>'\n",
       " \twith 1 stored elements in Compressed Sparse Row format>,\n",
       " <1x12 sparse matrix of type '<class 'numpy.float64'>'\n",
       " \twith 1 stored elements in Compressed Sparse Row format>,\n",
       " <1x12 sparse matrix of type '<class 'numpy.float64'>'\n",
       " \twith 1 stored elements in Compressed Sparse Row format>,\n",
       " <1x12 sparse matrix of type '<class 'numpy.float64'>'\n",
       " \twith 1 stored elements in Compressed Sparse Row format>,\n",
       " <1x12 sparse matrix of type '<class 'numpy.float64'>'\n",
       " \twith 1 stored elements in Compressed Sparse Row format>,\n",
       " <1x12 sparse matrix of type '<class 'numpy.float64'>'\n",
       " \twith 1 stored elements in Compressed Sparse Row format>,\n",
       " <1x12 sparse matrix of type '<class 'numpy.float64'>'\n",
       " \twith 1 stored elements in Compressed Sparse Row format>,\n",
       " <1x12 sparse matrix of type '<class 'numpy.float64'>'\n",
       " \twith 1 stored elements in Compressed Sparse Row format>,\n",
       " <1x12 sparse matrix of type '<class 'numpy.float64'>'\n",
       " \twith 1 stored elements in Compressed Sparse Row format>,\n",
       " <1x12 sparse matrix of type '<class 'numpy.float64'>'\n",
       " \twith 1 stored elements in Compressed Sparse Row format>,\n",
       " <1x12 sparse matrix of type '<class 'numpy.float64'>'\n",
       " \twith 1 stored elements in Compressed Sparse Row format>,\n",
       " <1x12 sparse matrix of type '<class 'numpy.float64'>'\n",
       " \twith 1 stored elements in Compressed Sparse Row format>,\n",
       " <1x12 sparse matrix of type '<class 'numpy.float64'>'\n",
       " \twith 1 stored elements in Compressed Sparse Row format>,\n",
       " <1x12 sparse matrix of type '<class 'numpy.float64'>'\n",
       " \twith 1 stored elements in Compressed Sparse Row format>,\n",
       " <1x12 sparse matrix of type '<class 'numpy.float64'>'\n",
       " \twith 1 stored elements in Compressed Sparse Row format>,\n",
       " <1x12 sparse matrix of type '<class 'numpy.float64'>'\n",
       " \twith 1 stored elements in Compressed Sparse Row format>,\n",
       " <1x12 sparse matrix of type '<class 'numpy.float64'>'\n",
       " \twith 1 stored elements in Compressed Sparse Row format>,\n",
       " <1x12 sparse matrix of type '<class 'numpy.float64'>'\n",
       " \twith 1 stored elements in Compressed Sparse Row format>,\n",
       " <1x12 sparse matrix of type '<class 'numpy.float64'>'\n",
       " \twith 1 stored elements in Compressed Sparse Row format>,\n",
       " <1x12 sparse matrix of type '<class 'numpy.float64'>'\n",
       " \twith 1 stored elements in Compressed Sparse Row format>,\n",
       " <1x12 sparse matrix of type '<class 'numpy.float64'>'\n",
       " \twith 1 stored elements in Compressed Sparse Row format>,\n",
       " <1x12 sparse matrix of type '<class 'numpy.float64'>'\n",
       " \twith 1 stored elements in Compressed Sparse Row format>,\n",
       " <1x12 sparse matrix of type '<class 'numpy.float64'>'\n",
       " \twith 1 stored elements in Compressed Sparse Row format>,\n",
       " <1x12 sparse matrix of type '<class 'numpy.float64'>'\n",
       " \twith 1 stored elements in Compressed Sparse Row format>,\n",
       " <1x12 sparse matrix of type '<class 'numpy.float64'>'\n",
       " \twith 1 stored elements in Compressed Sparse Row format>,\n",
       " <1x12 sparse matrix of type '<class 'numpy.float64'>'\n",
       " \twith 1 stored elements in Compressed Sparse Row format>,\n",
       " <1x12 sparse matrix of type '<class 'numpy.float64'>'\n",
       " \twith 1 stored elements in Compressed Sparse Row format>,\n",
       " <1x12 sparse matrix of type '<class 'numpy.float64'>'\n",
       " \twith 1 stored elements in Compressed Sparse Row format>,\n",
       " <1x12 sparse matrix of type '<class 'numpy.float64'>'\n",
       " \twith 1 stored elements in Compressed Sparse Row format>,\n",
       " <1x12 sparse matrix of type '<class 'numpy.float64'>'\n",
       " \twith 1 stored elements in Compressed Sparse Row format>,\n",
       " <1x12 sparse matrix of type '<class 'numpy.float64'>'\n",
       " \twith 1 stored elements in Compressed Sparse Row format>,\n",
       " <1x12 sparse matrix of type '<class 'numpy.float64'>'\n",
       " \twith 1 stored elements in Compressed Sparse Row format>,\n",
       " <1x12 sparse matrix of type '<class 'numpy.float64'>'\n",
       " \twith 1 stored elements in Compressed Sparse Row format>,\n",
       " <1x12 sparse matrix of type '<class 'numpy.float64'>'\n",
       " \twith 1 stored elements in Compressed Sparse Row format>,\n",
       " <1x12 sparse matrix of type '<class 'numpy.float64'>'\n",
       " \twith 1 stored elements in Compressed Sparse Row format>,\n",
       " <1x12 sparse matrix of type '<class 'numpy.float64'>'\n",
       " \twith 1 stored elements in Compressed Sparse Row format>,\n",
       " <1x12 sparse matrix of type '<class 'numpy.float64'>'\n",
       " \twith 1 stored elements in Compressed Sparse Row format>,\n",
       " <1x12 sparse matrix of type '<class 'numpy.float64'>'\n",
       " \twith 1 stored elements in Compressed Sparse Row format>,\n",
       " <1x12 sparse matrix of type '<class 'numpy.float64'>'\n",
       " \twith 1 stored elements in Compressed Sparse Row format>,\n",
       " <1x12 sparse matrix of type '<class 'numpy.float64'>'\n",
       " \twith 1 stored elements in Compressed Sparse Row format>,\n",
       " <1x12 sparse matrix of type '<class 'numpy.float64'>'\n",
       " \twith 1 stored elements in Compressed Sparse Row format>,\n",
       " <1x12 sparse matrix of type '<class 'numpy.float64'>'\n",
       " \twith 1 stored elements in Compressed Sparse Row format>,\n",
       " <1x12 sparse matrix of type '<class 'numpy.float64'>'\n",
       " \twith 1 stored elements in Compressed Sparse Row format>,\n",
       " <1x12 sparse matrix of type '<class 'numpy.float64'>'\n",
       " \twith 1 stored elements in Compressed Sparse Row format>,\n",
       " <1x12 sparse matrix of type '<class 'numpy.float64'>'\n",
       " \twith 1 stored elements in Compressed Sparse Row format>,\n",
       " <1x12 sparse matrix of type '<class 'numpy.float64'>'\n",
       " \twith 1 stored elements in Compressed Sparse Row format>,\n",
       " <1x12 sparse matrix of type '<class 'numpy.float64'>'\n",
       " \twith 1 stored elements in Compressed Sparse Row format>,\n",
       " <1x12 sparse matrix of type '<class 'numpy.float64'>'\n",
       " \twith 1 stored elements in Compressed Sparse Row format>,\n",
       " <1x12 sparse matrix of type '<class 'numpy.float64'>'\n",
       " \twith 1 stored elements in Compressed Sparse Row format>,\n",
       " <1x12 sparse matrix of type '<class 'numpy.float64'>'\n",
       " \twith 1 stored elements in Compressed Sparse Row format>,\n",
       " <1x12 sparse matrix of type '<class 'numpy.float64'>'\n",
       " \twith 1 stored elements in Compressed Sparse Row format>,\n",
       " <1x12 sparse matrix of type '<class 'numpy.float64'>'\n",
       " \twith 1 stored elements in Compressed Sparse Row format>,\n",
       " <1x12 sparse matrix of type '<class 'numpy.float64'>'\n",
       " \twith 1 stored elements in Compressed Sparse Row format>,\n",
       " <1x12 sparse matrix of type '<class 'numpy.float64'>'\n",
       " \twith 1 stored elements in Compressed Sparse Row format>,\n",
       " <1x12 sparse matrix of type '<class 'numpy.float64'>'\n",
       " \twith 1 stored elements in Compressed Sparse Row format>,\n",
       " <1x12 sparse matrix of type '<class 'numpy.float64'>'\n",
       " \twith 1 stored elements in Compressed Sparse Row format>,\n",
       " <1x12 sparse matrix of type '<class 'numpy.float64'>'\n",
       " \twith 1 stored elements in Compressed Sparse Row format>,\n",
       " <1x12 sparse matrix of type '<class 'numpy.float64'>'\n",
       " \twith 1 stored elements in Compressed Sparse Row format>,\n",
       " <1x12 sparse matrix of type '<class 'numpy.float64'>'\n",
       " \twith 1 stored elements in Compressed Sparse Row format>,\n",
       " <1x12 sparse matrix of type '<class 'numpy.float64'>'\n",
       " \twith 1 stored elements in Compressed Sparse Row format>,\n",
       " <1x12 sparse matrix of type '<class 'numpy.float64'>'\n",
       " \twith 1 stored elements in Compressed Sparse Row format>,\n",
       " <1x12 sparse matrix of type '<class 'numpy.float64'>'\n",
       " \twith 1 stored elements in Compressed Sparse Row format>,\n",
       " <1x12 sparse matrix of type '<class 'numpy.float64'>'\n",
       " \twith 1 stored elements in Compressed Sparse Row format>,\n",
       " <1x12 sparse matrix of type '<class 'numpy.float64'>'\n",
       " \twith 1 stored elements in Compressed Sparse Row format>,\n",
       " <1x12 sparse matrix of type '<class 'numpy.float64'>'\n",
       " \twith 1 stored elements in Compressed Sparse Row format>,\n",
       " <1x12 sparse matrix of type '<class 'numpy.float64'>'\n",
       " \twith 1 stored elements in Compressed Sparse Row format>,\n",
       " <1x12 sparse matrix of type '<class 'numpy.float64'>'\n",
       " \twith 1 stored elements in Compressed Sparse Row format>,\n",
       " <1x12 sparse matrix of type '<class 'numpy.float64'>'\n",
       " \twith 1 stored elements in Compressed Sparse Row format>,\n",
       " <1x12 sparse matrix of type '<class 'numpy.float64'>'\n",
       " \twith 1 stored elements in Compressed Sparse Row format>,\n",
       " <1x12 sparse matrix of type '<class 'numpy.float64'>'\n",
       " \twith 1 stored elements in Compressed Sparse Row format>,\n",
       " <1x12 sparse matrix of type '<class 'numpy.float64'>'\n",
       " \twith 1 stored elements in Compressed Sparse Row format>,\n",
       " <1x12 sparse matrix of type '<class 'numpy.float64'>'\n",
       " \twith 1 stored elements in Compressed Sparse Row format>,\n",
       " <1x12 sparse matrix of type '<class 'numpy.float64'>'\n",
       " \twith 1 stored elements in Compressed Sparse Row format>,\n",
       " <1x12 sparse matrix of type '<class 'numpy.float64'>'\n",
       " \twith 1 stored elements in Compressed Sparse Row format>,\n",
       " <1x12 sparse matrix of type '<class 'numpy.float64'>'\n",
       " \twith 1 stored elements in Compressed Sparse Row format>,\n",
       " <1x12 sparse matrix of type '<class 'numpy.float64'>'\n",
       " \twith 1 stored elements in Compressed Sparse Row format>,\n",
       " <1x12 sparse matrix of type '<class 'numpy.float64'>'\n",
       " \twith 1 stored elements in Compressed Sparse Row format>,\n",
       " <1x12 sparse matrix of type '<class 'numpy.float64'>'\n",
       " \twith 1 stored elements in Compressed Sparse Row format>,\n",
       " <1x12 sparse matrix of type '<class 'numpy.float64'>'\n",
       " \twith 1 stored elements in Compressed Sparse Row format>,\n",
       " <1x12 sparse matrix of type '<class 'numpy.float64'>'\n",
       " \twith 1 stored elements in Compressed Sparse Row format>,\n",
       " <1x12 sparse matrix of type '<class 'numpy.float64'>'\n",
       " \twith 1 stored elements in Compressed Sparse Row format>,\n",
       " <1x12 sparse matrix of type '<class 'numpy.float64'>'\n",
       " \twith 1 stored elements in Compressed Sparse Row format>,\n",
       " <1x12 sparse matrix of type '<class 'numpy.float64'>'\n",
       " \twith 1 stored elements in Compressed Sparse Row format>,\n",
       " <1x12 sparse matrix of type '<class 'numpy.float64'>'\n",
       " \twith 1 stored elements in Compressed Sparse Row format>,\n",
       " <1x12 sparse matrix of type '<class 'numpy.float64'>'\n",
       " \twith 1 stored elements in Compressed Sparse Row format>,\n",
       " <1x12 sparse matrix of type '<class 'numpy.float64'>'\n",
       " \twith 1 stored elements in Compressed Sparse Row format>,\n",
       " <1x12 sparse matrix of type '<class 'numpy.float64'>'\n",
       " \twith 1 stored elements in Compressed Sparse Row format>,\n",
       " <1x12 sparse matrix of type '<class 'numpy.float64'>'\n",
       " \twith 1 stored elements in Compressed Sparse Row format>,\n",
       " <1x12 sparse matrix of type '<class 'numpy.float64'>'\n",
       " \twith 1 stored elements in Compressed Sparse Row format>,\n",
       " <1x12 sparse matrix of type '<class 'numpy.float64'>'\n",
       " \twith 1 stored elements in Compressed Sparse Row format>,\n",
       " <1x12 sparse matrix of type '<class 'numpy.float64'>'\n",
       " \twith 1 stored elements in Compressed Sparse Row format>,\n",
       " <1x12 sparse matrix of type '<class 'numpy.float64'>'\n",
       " \twith 1 stored elements in Compressed Sparse Row format>,\n",
       " <1x12 sparse matrix of type '<class 'numpy.float64'>'\n",
       " \twith 1 stored elements in Compressed Sparse Row format>,\n",
       " <1x12 sparse matrix of type '<class 'numpy.float64'>'\n",
       " \twith 1 stored elements in Compressed Sparse Row format>,\n",
       " <1x12 sparse matrix of type '<class 'numpy.float64'>'\n",
       " \twith 1 stored elements in Compressed Sparse Row format>,\n",
       " <1x12 sparse matrix of type '<class 'numpy.float64'>'\n",
       " \twith 1 stored elements in Compressed Sparse Row format>,\n",
       " <1x12 sparse matrix of type '<class 'numpy.float64'>'\n",
       " \twith 1 stored elements in Compressed Sparse Row format>,\n",
       " <1x12 sparse matrix of type '<class 'numpy.float64'>'\n",
       " \twith 1 stored elements in Compressed Sparse Row format>,\n",
       " <1x12 sparse matrix of type '<class 'numpy.float64'>'\n",
       " \twith 1 stored elements in Compressed Sparse Row format>,\n",
       " <1x12 sparse matrix of type '<class 'numpy.float64'>'\n",
       " \twith 1 stored elements in Compressed Sparse Row format>,\n",
       " <1x12 sparse matrix of type '<class 'numpy.float64'>'\n",
       " \twith 1 stored elements in Compressed Sparse Row format>,\n",
       " <1x12 sparse matrix of type '<class 'numpy.float64'>'\n",
       " \twith 1 stored elements in Compressed Sparse Row format>,\n",
       " <1x12 sparse matrix of type '<class 'numpy.float64'>'\n",
       " \twith 1 stored elements in Compressed Sparse Row format>,\n",
       " <1x12 sparse matrix of type '<class 'numpy.float64'>'\n",
       " \twith 1 stored elements in Compressed Sparse Row format>]"
      ]
     },
     "execution_count": 106,
     "metadata": {},
     "output_type": "execute_result"
    }
   ],
   "source": []
  },
  {
   "cell_type": "code",
   "execution_count": null,
   "metadata": {},
   "outputs": [],
   "source": []
  },
  {
   "cell_type": "code",
   "execution_count": null,
   "metadata": {},
   "outputs": [],
   "source": []
  },
  {
   "cell_type": "code",
   "execution_count": null,
   "metadata": {},
   "outputs": [],
   "source": []
  },
  {
   "cell_type": "code",
   "execution_count": null,
   "metadata": {},
   "outputs": [],
   "source": []
  },
  {
   "cell_type": "code",
   "execution_count": null,
   "metadata": {},
   "outputs": [],
   "source": []
  },
  {
   "cell_type": "code",
   "execution_count": null,
   "metadata": {},
   "outputs": [],
   "source": []
  },
  {
   "cell_type": "code",
   "execution_count": null,
   "metadata": {},
   "outputs": [],
   "source": []
  },
  {
   "cell_type": "code",
   "execution_count": null,
   "metadata": {},
   "outputs": [],
   "source": []
  },
  {
   "cell_type": "code",
   "execution_count": null,
   "metadata": {},
   "outputs": [],
   "source": []
  },
  {
   "cell_type": "code",
   "execution_count": null,
   "metadata": {},
   "outputs": [],
   "source": []
  },
  {
   "cell_type": "code",
   "execution_count": null,
   "metadata": {},
   "outputs": [],
   "source": []
  },
  {
   "cell_type": "code",
   "execution_count": null,
   "metadata": {},
   "outputs": [],
   "source": []
  },
  {
   "cell_type": "code",
   "execution_count": null,
   "metadata": {},
   "outputs": [],
   "source": []
  },
  {
   "cell_type": "code",
   "execution_count": null,
   "metadata": {},
   "outputs": [],
   "source": []
  },
  {
   "cell_type": "code",
   "execution_count": null,
   "metadata": {},
   "outputs": [],
   "source": []
  },
  {
   "cell_type": "code",
   "execution_count": null,
   "metadata": {},
   "outputs": [],
   "source": []
  },
  {
   "cell_type": "code",
   "execution_count": null,
   "metadata": {},
   "outputs": [],
   "source": []
  },
  {
   "cell_type": "code",
   "execution_count": null,
   "metadata": {},
   "outputs": [],
   "source": []
  },
  {
   "cell_type": "code",
   "execution_count": null,
   "metadata": {},
   "outputs": [],
   "source": []
  },
  {
   "cell_type": "code",
   "execution_count": null,
   "metadata": {},
   "outputs": [],
   "source": []
  },
  {
   "cell_type": "code",
   "execution_count": 71,
   "metadata": {},
   "outputs": [],
   "source": [
    "import torch.nn as nn\n",
    "import torch.nn.functional as F\n",
    "\n",
    "\n",
    "class Net(nn.Module):\n",
    "    def __init__(self):\n",
    "        super(Net, self).__init__()\n",
    "        self.conv1 = nn.Conv2d(3, 6, 5)\n",
    "        self.pool = nn.MaxPool2d(2, 2)\n",
    "        self.conv2 = nn.Conv2d(6, 16, 5)\n",
    "        self.fc1 = nn.Linear(16 * 5 * 5, 120)\n",
    "        self.fc2 = nn.Linear(120, 84)\n",
    "        self.fc3 = nn.Linear(84, 10)\n",
    "\n",
    "    def forward(self, x):\n",
    "        x = self.pool(F.relu(self.conv1(x)))\n",
    "        x = self.pool(F.relu(self.conv2(x)))\n",
    "        x = x.view(-1, 16 * 5 * 5)\n",
    "        x = F.relu(self.fc1(x))\n",
    "        x = F.relu(self.fc2(x))\n",
    "        x = self.fc3(x)\n",
    "        return x\n",
    "\n",
    "\n",
    "net = Net()"
   ]
  },
  {
   "cell_type": "code",
   "execution_count": 72,
   "metadata": {},
   "outputs": [],
   "source": [
    "import torch.optim as optim\n",
    "\n",
    "criterion = nn.CrossEntropyLoss()\n",
    "optimizer = optim.SGD(net.parameters(), lr=0.001, momentum=0.9)\n"
   ]
  },
  {
   "cell_type": "code",
   "execution_count": 73,
   "metadata": {},
   "outputs": [
    {
     "data": {
      "text/plain": [
       "<451x12 sparse matrix of type '<class 'numpy.float64'>'\n",
       "\twith 451 stored elements in Compressed Sparse Row format>"
      ]
     },
     "execution_count": 73,
     "metadata": {},
     "output_type": "execute_result"
    }
   ],
   "source": [
    "trainloader = list(zip(X_train,y_train))\n",
    "y_train"
   ]
  },
  {
   "cell_type": "code",
   "execution_count": 18,
   "metadata": {},
   "outputs": [
    {
     "ename": "TypeError",
     "evalue": "conv2d(): argument 'input' (position 1) must be Tensor, not numpy.ndarray",
     "output_type": "error",
     "traceback": [
      "\u001b[0;31m---------------------------------------------------------------------------\u001b[0m",
      "\u001b[0;31mTypeError\u001b[0m                                 Traceback (most recent call last)",
      "\u001b[0;32m<ipython-input-18-8e82031cfffb>\u001b[0m in \u001b[0;36m<module>\u001b[0;34m\u001b[0m\n\u001b[1;32m     10\u001b[0m \u001b[0;34m\u001b[0m\u001b[0m\n\u001b[1;32m     11\u001b[0m         \u001b[0;31m# forward + backward + optimize\u001b[0m\u001b[0;34m\u001b[0m\u001b[0;34m\u001b[0m\u001b[0;34m\u001b[0m\u001b[0m\n\u001b[0;32m---> 12\u001b[0;31m         \u001b[0moutputs\u001b[0m \u001b[0;34m=\u001b[0m \u001b[0mnet\u001b[0m\u001b[0;34m(\u001b[0m\u001b[0minputs\u001b[0m\u001b[0;34m)\u001b[0m\u001b[0;34m\u001b[0m\u001b[0;34m\u001b[0m\u001b[0m\n\u001b[0m\u001b[1;32m     13\u001b[0m         \u001b[0mloss\u001b[0m \u001b[0;34m=\u001b[0m \u001b[0mcriterion\u001b[0m\u001b[0;34m(\u001b[0m\u001b[0moutputs\u001b[0m\u001b[0;34m,\u001b[0m \u001b[0mlabels\u001b[0m\u001b[0;34m)\u001b[0m\u001b[0;34m\u001b[0m\u001b[0;34m\u001b[0m\u001b[0m\n\u001b[1;32m     14\u001b[0m         \u001b[0mloss\u001b[0m\u001b[0;34m.\u001b[0m\u001b[0mbackward\u001b[0m\u001b[0;34m(\u001b[0m\u001b[0;34m)\u001b[0m\u001b[0;34m\u001b[0m\u001b[0;34m\u001b[0m\u001b[0m\n",
      "\u001b[0;32m~/opt/anaconda3/envs/sml/lib/python3.6/site-packages/torch/nn/modules/module.py\u001b[0m in \u001b[0;36m_call_impl\u001b[0;34m(self, *input, **kwargs)\u001b[0m\n\u001b[1;32m    725\u001b[0m             \u001b[0mresult\u001b[0m \u001b[0;34m=\u001b[0m \u001b[0mself\u001b[0m\u001b[0;34m.\u001b[0m\u001b[0m_slow_forward\u001b[0m\u001b[0;34m(\u001b[0m\u001b[0;34m*\u001b[0m\u001b[0minput\u001b[0m\u001b[0;34m,\u001b[0m \u001b[0;34m**\u001b[0m\u001b[0mkwargs\u001b[0m\u001b[0;34m)\u001b[0m\u001b[0;34m\u001b[0m\u001b[0;34m\u001b[0m\u001b[0m\n\u001b[1;32m    726\u001b[0m         \u001b[0;32melse\u001b[0m\u001b[0;34m:\u001b[0m\u001b[0;34m\u001b[0m\u001b[0;34m\u001b[0m\u001b[0m\n\u001b[0;32m--> 727\u001b[0;31m             \u001b[0mresult\u001b[0m \u001b[0;34m=\u001b[0m \u001b[0mself\u001b[0m\u001b[0;34m.\u001b[0m\u001b[0mforward\u001b[0m\u001b[0;34m(\u001b[0m\u001b[0;34m*\u001b[0m\u001b[0minput\u001b[0m\u001b[0;34m,\u001b[0m \u001b[0;34m**\u001b[0m\u001b[0mkwargs\u001b[0m\u001b[0;34m)\u001b[0m\u001b[0;34m\u001b[0m\u001b[0;34m\u001b[0m\u001b[0m\n\u001b[0m\u001b[1;32m    728\u001b[0m         for hook in itertools.chain(\n\u001b[1;32m    729\u001b[0m                 \u001b[0m_global_forward_hooks\u001b[0m\u001b[0;34m.\u001b[0m\u001b[0mvalues\u001b[0m\u001b[0;34m(\u001b[0m\u001b[0;34m)\u001b[0m\u001b[0;34m,\u001b[0m\u001b[0;34m\u001b[0m\u001b[0;34m\u001b[0m\u001b[0m\n",
      "\u001b[0;32m<ipython-input-15-7184b89f1db8>\u001b[0m in \u001b[0;36mforward\u001b[0;34m(self, x)\u001b[0m\n\u001b[1;32m     14\u001b[0m \u001b[0;34m\u001b[0m\u001b[0m\n\u001b[1;32m     15\u001b[0m     \u001b[0;32mdef\u001b[0m \u001b[0mforward\u001b[0m\u001b[0;34m(\u001b[0m\u001b[0mself\u001b[0m\u001b[0;34m,\u001b[0m \u001b[0mx\u001b[0m\u001b[0;34m)\u001b[0m\u001b[0;34m:\u001b[0m\u001b[0;34m\u001b[0m\u001b[0;34m\u001b[0m\u001b[0m\n\u001b[0;32m---> 16\u001b[0;31m         \u001b[0mx\u001b[0m \u001b[0;34m=\u001b[0m \u001b[0mself\u001b[0m\u001b[0;34m.\u001b[0m\u001b[0mpool\u001b[0m\u001b[0;34m(\u001b[0m\u001b[0mF\u001b[0m\u001b[0;34m.\u001b[0m\u001b[0mrelu\u001b[0m\u001b[0;34m(\u001b[0m\u001b[0mself\u001b[0m\u001b[0;34m.\u001b[0m\u001b[0mconv1\u001b[0m\u001b[0;34m(\u001b[0m\u001b[0mx\u001b[0m\u001b[0;34m)\u001b[0m\u001b[0;34m)\u001b[0m\u001b[0;34m)\u001b[0m\u001b[0;34m\u001b[0m\u001b[0;34m\u001b[0m\u001b[0m\n\u001b[0m\u001b[1;32m     17\u001b[0m         \u001b[0mx\u001b[0m \u001b[0;34m=\u001b[0m \u001b[0mself\u001b[0m\u001b[0;34m.\u001b[0m\u001b[0mpool\u001b[0m\u001b[0;34m(\u001b[0m\u001b[0mF\u001b[0m\u001b[0;34m.\u001b[0m\u001b[0mrelu\u001b[0m\u001b[0;34m(\u001b[0m\u001b[0mself\u001b[0m\u001b[0;34m.\u001b[0m\u001b[0mconv2\u001b[0m\u001b[0;34m(\u001b[0m\u001b[0mx\u001b[0m\u001b[0;34m)\u001b[0m\u001b[0;34m)\u001b[0m\u001b[0;34m)\u001b[0m\u001b[0;34m\u001b[0m\u001b[0;34m\u001b[0m\u001b[0m\n\u001b[1;32m     18\u001b[0m         \u001b[0mx\u001b[0m \u001b[0;34m=\u001b[0m \u001b[0mx\u001b[0m\u001b[0;34m.\u001b[0m\u001b[0mview\u001b[0m\u001b[0;34m(\u001b[0m\u001b[0;34m-\u001b[0m\u001b[0;36m1\u001b[0m\u001b[0;34m,\u001b[0m \u001b[0;36m16\u001b[0m \u001b[0;34m*\u001b[0m \u001b[0;36m5\u001b[0m \u001b[0;34m*\u001b[0m \u001b[0;36m5\u001b[0m\u001b[0;34m)\u001b[0m\u001b[0;34m\u001b[0m\u001b[0;34m\u001b[0m\u001b[0m\n",
      "\u001b[0;32m~/opt/anaconda3/envs/sml/lib/python3.6/site-packages/torch/nn/modules/module.py\u001b[0m in \u001b[0;36m_call_impl\u001b[0;34m(self, *input, **kwargs)\u001b[0m\n\u001b[1;32m    725\u001b[0m             \u001b[0mresult\u001b[0m \u001b[0;34m=\u001b[0m \u001b[0mself\u001b[0m\u001b[0;34m.\u001b[0m\u001b[0m_slow_forward\u001b[0m\u001b[0;34m(\u001b[0m\u001b[0;34m*\u001b[0m\u001b[0minput\u001b[0m\u001b[0;34m,\u001b[0m \u001b[0;34m**\u001b[0m\u001b[0mkwargs\u001b[0m\u001b[0;34m)\u001b[0m\u001b[0;34m\u001b[0m\u001b[0;34m\u001b[0m\u001b[0m\n\u001b[1;32m    726\u001b[0m         \u001b[0;32melse\u001b[0m\u001b[0;34m:\u001b[0m\u001b[0;34m\u001b[0m\u001b[0;34m\u001b[0m\u001b[0m\n\u001b[0;32m--> 727\u001b[0;31m             \u001b[0mresult\u001b[0m \u001b[0;34m=\u001b[0m \u001b[0mself\u001b[0m\u001b[0;34m.\u001b[0m\u001b[0mforward\u001b[0m\u001b[0;34m(\u001b[0m\u001b[0;34m*\u001b[0m\u001b[0minput\u001b[0m\u001b[0;34m,\u001b[0m \u001b[0;34m**\u001b[0m\u001b[0mkwargs\u001b[0m\u001b[0;34m)\u001b[0m\u001b[0;34m\u001b[0m\u001b[0;34m\u001b[0m\u001b[0m\n\u001b[0m\u001b[1;32m    728\u001b[0m         for hook in itertools.chain(\n\u001b[1;32m    729\u001b[0m                 \u001b[0m_global_forward_hooks\u001b[0m\u001b[0;34m.\u001b[0m\u001b[0mvalues\u001b[0m\u001b[0;34m(\u001b[0m\u001b[0;34m)\u001b[0m\u001b[0;34m,\u001b[0m\u001b[0;34m\u001b[0m\u001b[0;34m\u001b[0m\u001b[0m\n",
      "\u001b[0;32m~/opt/anaconda3/envs/sml/lib/python3.6/site-packages/torch/nn/modules/conv.py\u001b[0m in \u001b[0;36mforward\u001b[0;34m(self, input)\u001b[0m\n\u001b[1;32m    421\u001b[0m \u001b[0;34m\u001b[0m\u001b[0m\n\u001b[1;32m    422\u001b[0m     \u001b[0;32mdef\u001b[0m \u001b[0mforward\u001b[0m\u001b[0;34m(\u001b[0m\u001b[0mself\u001b[0m\u001b[0;34m,\u001b[0m \u001b[0minput\u001b[0m\u001b[0;34m:\u001b[0m \u001b[0mTensor\u001b[0m\u001b[0;34m)\u001b[0m \u001b[0;34m->\u001b[0m \u001b[0mTensor\u001b[0m\u001b[0;34m:\u001b[0m\u001b[0;34m\u001b[0m\u001b[0;34m\u001b[0m\u001b[0m\n\u001b[0;32m--> 423\u001b[0;31m         \u001b[0;32mreturn\u001b[0m \u001b[0mself\u001b[0m\u001b[0;34m.\u001b[0m\u001b[0m_conv_forward\u001b[0m\u001b[0;34m(\u001b[0m\u001b[0minput\u001b[0m\u001b[0;34m,\u001b[0m \u001b[0mself\u001b[0m\u001b[0;34m.\u001b[0m\u001b[0mweight\u001b[0m\u001b[0;34m)\u001b[0m\u001b[0;34m\u001b[0m\u001b[0;34m\u001b[0m\u001b[0m\n\u001b[0m\u001b[1;32m    424\u001b[0m \u001b[0;34m\u001b[0m\u001b[0m\n\u001b[1;32m    425\u001b[0m \u001b[0;32mclass\u001b[0m \u001b[0mConv3d\u001b[0m\u001b[0;34m(\u001b[0m\u001b[0m_ConvNd\u001b[0m\u001b[0;34m)\u001b[0m\u001b[0;34m:\u001b[0m\u001b[0;34m\u001b[0m\u001b[0;34m\u001b[0m\u001b[0m\n",
      "\u001b[0;32m~/opt/anaconda3/envs/sml/lib/python3.6/site-packages/torch/nn/modules/conv.py\u001b[0m in \u001b[0;36m_conv_forward\u001b[0;34m(self, input, weight)\u001b[0m\n\u001b[1;32m    418\u001b[0m                             _pair(0), self.dilation, self.groups)\n\u001b[1;32m    419\u001b[0m         return F.conv2d(input, weight, self.bias, self.stride,\n\u001b[0;32m--> 420\u001b[0;31m                         self.padding, self.dilation, self.groups)\n\u001b[0m\u001b[1;32m    421\u001b[0m \u001b[0;34m\u001b[0m\u001b[0m\n\u001b[1;32m    422\u001b[0m     \u001b[0;32mdef\u001b[0m \u001b[0mforward\u001b[0m\u001b[0;34m(\u001b[0m\u001b[0mself\u001b[0m\u001b[0;34m,\u001b[0m \u001b[0minput\u001b[0m\u001b[0;34m:\u001b[0m \u001b[0mTensor\u001b[0m\u001b[0;34m)\u001b[0m \u001b[0;34m->\u001b[0m \u001b[0mTensor\u001b[0m\u001b[0;34m:\u001b[0m\u001b[0;34m\u001b[0m\u001b[0;34m\u001b[0m\u001b[0m\n",
      "\u001b[0;31mTypeError\u001b[0m: conv2d(): argument 'input' (position 1) must be Tensor, not numpy.ndarray"
     ]
    }
   ],
   "source": [
    "for epoch in range(2):  # loop over the dataset multiple times\n",
    "\n",
    "    running_loss = 0.0\n",
    "    for i, data in enumerate(trainloader, 0):\n",
    "        # get the inputs; data is a list of [inputs, labels]\n",
    "        inputs, labels = data\n",
    "\n",
    "        # zero the parameter gradients\n",
    "        optimizer.zero_grad()\n",
    "\n",
    "        # forward + backward + optimize\n",
    "        outputs = net(inputs)\n",
    "        loss = criterion(outputs, labels)\n",
    "        loss.backward()\n",
    "        optimizer.step()\n",
    "\n",
    "        # print statistics\n",
    "        running_loss += loss.item()\n",
    "        if i % 2000 == 1999:    # print every 2000 mini-batches\n",
    "            print('[%d, %5d] loss: %.3f' %\n",
    "                  (epoch + 1, i + 1, running_loss / 2000))\n",
    "            running_loss = 0.0\n",
    "\n",
    "print('Finished Training')"
   ]
  },
  {
   "cell_type": "code",
   "execution_count": null,
   "metadata": {},
   "outputs": [],
   "source": []
  }
 ],
 "metadata": {
  "kernelspec": {
   "display_name": "sml",
   "language": "python",
   "name": "sml"
  },
  "language_info": {
   "codemirror_mode": {
    "name": "ipython",
    "version": 3
   },
   "file_extension": ".py",
   "mimetype": "text/x-python",
   "name": "python",
   "nbconvert_exporter": "python",
   "pygments_lexer": "ipython3",
   "version": "3.6.12"
  }
 },
 "nbformat": 4,
 "nbformat_minor": 4
}
