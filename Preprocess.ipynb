{
 "cells": [
  {
   "cell_type": "code",
   "execution_count": 17,
   "metadata": {},
   "outputs": [],
   "source": [
    "import numpy as np\n",
    "import pandas as pd\n",
    "from pandas import DataFrame\n",
    "from PIL import Image, ImageDraw"
   ]
  },
  {
   "cell_type": "code",
   "execution_count": 4,
   "metadata": {},
   "outputs": [],
   "source": [
    "Img_path = '/Users/abdulrehman/Desktop/SML/WIDER_train/images/'\n",
    "\n",
    "file1 = open('/Users/abdulrehman/Desktop/SML/wider_face_split/wider_face_train_bbx_gt.txt', 'r')\n",
    "train_data = {}\n",
    "while True:\n",
    "    # To remove the \\n last character we remove the last character from the line\n",
    "    line = file1.readline()[:-1]\n",
    "    if not line: break\n",
    "    faces = []\n",
    "    n = int(file1.readline())\n",
    "    if n > 0:\n",
    "        while n > 0:\n",
    "            v = np.fromstring(file1.readline(), dtype=int, sep=' ')[:4]\n",
    "            faces.append(v)\n",
    "            n-=1\n",
    "        train_data[line] = np.array(faces)\n",
    "    else: line = file1.readline()"
   ]
  },
  {
   "cell_type": "markdown",
   "metadata": {},
   "source": [
    "{'Image_link1':[[x1,y1,w1,h1],[x2,y2,w2,h2],[x3,y3,w3,h3],.....,[xn,yn,wn,hn]],'Image_link2':[[x1,y1,w1,h1],[x2,y2,w2,h2],[x3,y3,w3,h3],.....,[xn,yn,wn,hn]]........}"
   ]
  },
  {
   "cell_type": "code",
   "execution_count": 37,
   "metadata": {},
   "outputs": [],
   "source": [
    "#testing if importing is done correctly.\n",
    "image_name = list(train_data.keys())[2]\n",
    "bbxs = train_data[list(train_data.keys())[2]]\n",
    "im = Image.open(Img_path+image_name)\n",
    "im = draw_bounding_boxes(im,bbxs)\n",
    "im.show()"
   ]
  },
  {
   "cell_type": "code",
   "execution_count": 39,
   "metadata": {},
   "outputs": [],
   "source": [
    "# Method to draw bounding boxes on an image given the PIL image and a list of Bounding boxes \n",
    "# in the [x,y,w,h] format.\n",
    "\n",
    "def draw_bounding_boxes(im, bbxs,color='red',width=3):\n",
    "    draw = ImageDraw.Draw(im)\n",
    "    for box in bbxs:\n",
    "        x0 = box[0]\n",
    "        y0 = box[1]\n",
    "        x1 = box[0]+box[2]\n",
    "        y1 = box[1]+box[3]\n",
    "        draw.rectangle([x0,y0,x1,y1], fill=None, outline=color, width=width)\n",
    "    return(im)"
   ]
  },
  {
   "cell_type": "code",
   "execution_count": null,
   "metadata": {},
   "outputs": [],
   "source": []
  }
 ],
 "metadata": {
  "kernelspec": {
   "display_name": "Python 3",
   "language": "python",
   "name": "python3"
  },
  "language_info": {
   "codemirror_mode": {
    "name": "ipython",
    "version": 3
   },
   "file_extension": ".py",
   "mimetype": "text/x-python",
   "name": "python",
   "nbconvert_exporter": "python",
   "pygments_lexer": "ipython3",
   "version": "3.7.4"
  }
 },
 "nbformat": 4,
 "nbformat_minor": 2
}
